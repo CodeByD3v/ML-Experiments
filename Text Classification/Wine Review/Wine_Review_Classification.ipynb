{
  "nbformat": 4,
  "nbformat_minor": 0,
  "metadata": {
    "colab": {
      "provenance": [],
      "authorship_tag": "ABX9TyNAcvPaKgO5KICORXMkg47A"
    },
    "kernelspec": {
      "name": "python3",
      "display_name": "Python 3"
    },
    "language_info": {
      "name": "python"
    }
  },
  "cells": [
    {
      "cell_type": "code",
      "source": [
        "# Importing Libraries\n",
        "import pandas as pd\n",
        "import numpy as np\n",
        "import matplotlib.pyplot as plt\n",
        "import seaborn as sns"
      ],
      "metadata": {
        "id": "PG2wgYt9vW7K"
      },
      "execution_count": 1,
      "outputs": []
    },
    {
      "cell_type": "code",
      "source": [
        "# Tensorflow Utils\n",
        "import tensorflow as tf\n",
        "import tensorflow_hub as hub"
      ],
      "metadata": {
        "id": "0tMZtKxWvgtl"
      },
      "execution_count": 2,
      "outputs": []
    },
    {
      "cell_type": "markdown",
      "source": [
        "**Loading** **Dataset** : Wine Reviews Dataset\n",
        "\n",
        "**Source** : Kaggle\n",
        "**Dataset** : Wine Reviews Dataset\n",
        "\n",
        "**Link** : https://www.kaggle.com/zynicide/wine-reviews"
      ],
      "metadata": {
        "id": "AXCNGHeqwB4n"
      }
    },
    {
      "cell_type": "code",
      "execution_count": 3,
      "metadata": {
        "colab": {
          "base_uri": "https://localhost:8080/"
        },
        "id": "0hkS-bn3cmSq",
        "outputId": "14370fdb-704e-40ec-e474-0ed141c15ba1"
      },
      "outputs": [
        {
          "output_type": "stream",
          "name": "stderr",
          "text": [
            "/tmp/ipython-input-3359790117.py:10: DeprecationWarning: load_dataset is deprecated and will be removed in a future version.\n",
            "  df = kagglehub.load_dataset(\n"
          ]
        }
      ],
      "source": [
        "# Install dependencies as needed:\n",
        "# pip install kagglehub[pandas-datasets]\n",
        "import kagglehub\n",
        "from kagglehub import KaggleDatasetAdapter\n",
        "\n",
        "# Set the path to the file you'd like to load\n",
        "file_path = \"winemag-data-130k-v2.csv\"\n",
        "\n",
        "# Load the latest version\n",
        "df = kagglehub.load_dataset(\n",
        "  KaggleDatasetAdapter.PANDAS,\n",
        "  \"zynicide/wine-reviews\",\n",
        "  file_path,\n",
        "  # Provide any additional arguments like\n",
        "  # sql_query or pandas_kwargs. See the\n",
        "  # documenation for more information:\n",
        "  # https://github.com/Kaggle/kagglehub/blob/main/README.md#kaggledatasetadapterpandas\n",
        ")\n"
      ]
    },
    {
      "cell_type": "code",
      "source": [
        "# dataset overview\n",
        "df.head()"
      ],
      "metadata": {
        "colab": {
          "base_uri": "https://localhost:8080/",
          "height": 397
        },
        "id": "w69usT4YwO7y",
        "outputId": "2633e9ad-74b1-4ada-e45a-af4c2f9951e8"
      },
      "execution_count": 4,
      "outputs": [
        {
          "output_type": "execute_result",
          "data": {
            "text/plain": [
              "   Unnamed: 0   country                                        description  \\\n",
              "0           0     Italy  Aromas include tropical fruit, broom, brimston...   \n",
              "1           1  Portugal  This is ripe and fruity, a wine that is smooth...   \n",
              "2           2        US  Tart and snappy, the flavors of lime flesh and...   \n",
              "3           3        US  Pineapple rind, lemon pith and orange blossom ...   \n",
              "4           4        US  Much like the regular bottling from 2012, this...   \n",
              "\n",
              "                          designation  points  price           province  \\\n",
              "0                        Vulkà Bianco      87    NaN  Sicily & Sardinia   \n",
              "1                            Avidagos      87   15.0              Douro   \n",
              "2                                 NaN      87   14.0             Oregon   \n",
              "3                Reserve Late Harvest      87   13.0           Michigan   \n",
              "4  Vintner's Reserve Wild Child Block      87   65.0             Oregon   \n",
              "\n",
              "              region_1           region_2         taster_name  \\\n",
              "0                 Etna                NaN       Kerin O’Keefe   \n",
              "1                  NaN                NaN          Roger Voss   \n",
              "2    Willamette Valley  Willamette Valley        Paul Gregutt   \n",
              "3  Lake Michigan Shore                NaN  Alexander Peartree   \n",
              "4    Willamette Valley  Willamette Valley        Paul Gregutt   \n",
              "\n",
              "  taster_twitter_handle                                              title  \\\n",
              "0          @kerinokeefe                  Nicosia 2013 Vulkà Bianco  (Etna)   \n",
              "1            @vossroger      Quinta dos Avidagos 2011 Avidagos Red (Douro)   \n",
              "2           @paulgwine       Rainstorm 2013 Pinot Gris (Willamette Valley)   \n",
              "3                   NaN  St. Julian 2013 Reserve Late Harvest Riesling ...   \n",
              "4           @paulgwine   Sweet Cheeks 2012 Vintner's Reserve Wild Child...   \n",
              "\n",
              "          variety               winery  \n",
              "0     White Blend              Nicosia  \n",
              "1  Portuguese Red  Quinta dos Avidagos  \n",
              "2      Pinot Gris            Rainstorm  \n",
              "3        Riesling           St. Julian  \n",
              "4      Pinot Noir         Sweet Cheeks  "
            ],
            "text/html": [
              "\n",
              "  <div id=\"df-b5b87c1a-0861-4737-b9b3-684f0164f5c3\" class=\"colab-df-container\">\n",
              "    <div>\n",
              "<style scoped>\n",
              "    .dataframe tbody tr th:only-of-type {\n",
              "        vertical-align: middle;\n",
              "    }\n",
              "\n",
              "    .dataframe tbody tr th {\n",
              "        vertical-align: top;\n",
              "    }\n",
              "\n",
              "    .dataframe thead th {\n",
              "        text-align: right;\n",
              "    }\n",
              "</style>\n",
              "<table border=\"1\" class=\"dataframe\">\n",
              "  <thead>\n",
              "    <tr style=\"text-align: right;\">\n",
              "      <th></th>\n",
              "      <th>Unnamed: 0</th>\n",
              "      <th>country</th>\n",
              "      <th>description</th>\n",
              "      <th>designation</th>\n",
              "      <th>points</th>\n",
              "      <th>price</th>\n",
              "      <th>province</th>\n",
              "      <th>region_1</th>\n",
              "      <th>region_2</th>\n",
              "      <th>taster_name</th>\n",
              "      <th>taster_twitter_handle</th>\n",
              "      <th>title</th>\n",
              "      <th>variety</th>\n",
              "      <th>winery</th>\n",
              "    </tr>\n",
              "  </thead>\n",
              "  <tbody>\n",
              "    <tr>\n",
              "      <th>0</th>\n",
              "      <td>0</td>\n",
              "      <td>Italy</td>\n",
              "      <td>Aromas include tropical fruit, broom, brimston...</td>\n",
              "      <td>Vulkà Bianco</td>\n",
              "      <td>87</td>\n",
              "      <td>NaN</td>\n",
              "      <td>Sicily &amp; Sardinia</td>\n",
              "      <td>Etna</td>\n",
              "      <td>NaN</td>\n",
              "      <td>Kerin O’Keefe</td>\n",
              "      <td>@kerinokeefe</td>\n",
              "      <td>Nicosia 2013 Vulkà Bianco  (Etna)</td>\n",
              "      <td>White Blend</td>\n",
              "      <td>Nicosia</td>\n",
              "    </tr>\n",
              "    <tr>\n",
              "      <th>1</th>\n",
              "      <td>1</td>\n",
              "      <td>Portugal</td>\n",
              "      <td>This is ripe and fruity, a wine that is smooth...</td>\n",
              "      <td>Avidagos</td>\n",
              "      <td>87</td>\n",
              "      <td>15.0</td>\n",
              "      <td>Douro</td>\n",
              "      <td>NaN</td>\n",
              "      <td>NaN</td>\n",
              "      <td>Roger Voss</td>\n",
              "      <td>@vossroger</td>\n",
              "      <td>Quinta dos Avidagos 2011 Avidagos Red (Douro)</td>\n",
              "      <td>Portuguese Red</td>\n",
              "      <td>Quinta dos Avidagos</td>\n",
              "    </tr>\n",
              "    <tr>\n",
              "      <th>2</th>\n",
              "      <td>2</td>\n",
              "      <td>US</td>\n",
              "      <td>Tart and snappy, the flavors of lime flesh and...</td>\n",
              "      <td>NaN</td>\n",
              "      <td>87</td>\n",
              "      <td>14.0</td>\n",
              "      <td>Oregon</td>\n",
              "      <td>Willamette Valley</td>\n",
              "      <td>Willamette Valley</td>\n",
              "      <td>Paul Gregutt</td>\n",
              "      <td>@paulgwine</td>\n",
              "      <td>Rainstorm 2013 Pinot Gris (Willamette Valley)</td>\n",
              "      <td>Pinot Gris</td>\n",
              "      <td>Rainstorm</td>\n",
              "    </tr>\n",
              "    <tr>\n",
              "      <th>3</th>\n",
              "      <td>3</td>\n",
              "      <td>US</td>\n",
              "      <td>Pineapple rind, lemon pith and orange blossom ...</td>\n",
              "      <td>Reserve Late Harvest</td>\n",
              "      <td>87</td>\n",
              "      <td>13.0</td>\n",
              "      <td>Michigan</td>\n",
              "      <td>Lake Michigan Shore</td>\n",
              "      <td>NaN</td>\n",
              "      <td>Alexander Peartree</td>\n",
              "      <td>NaN</td>\n",
              "      <td>St. Julian 2013 Reserve Late Harvest Riesling ...</td>\n",
              "      <td>Riesling</td>\n",
              "      <td>St. Julian</td>\n",
              "    </tr>\n",
              "    <tr>\n",
              "      <th>4</th>\n",
              "      <td>4</td>\n",
              "      <td>US</td>\n",
              "      <td>Much like the regular bottling from 2012, this...</td>\n",
              "      <td>Vintner's Reserve Wild Child Block</td>\n",
              "      <td>87</td>\n",
              "      <td>65.0</td>\n",
              "      <td>Oregon</td>\n",
              "      <td>Willamette Valley</td>\n",
              "      <td>Willamette Valley</td>\n",
              "      <td>Paul Gregutt</td>\n",
              "      <td>@paulgwine</td>\n",
              "      <td>Sweet Cheeks 2012 Vintner's Reserve Wild Child...</td>\n",
              "      <td>Pinot Noir</td>\n",
              "      <td>Sweet Cheeks</td>\n",
              "    </tr>\n",
              "  </tbody>\n",
              "</table>\n",
              "</div>\n",
              "    <div class=\"colab-df-buttons\">\n",
              "\n",
              "  <div class=\"colab-df-container\">\n",
              "    <button class=\"colab-df-convert\" onclick=\"convertToInteractive('df-b5b87c1a-0861-4737-b9b3-684f0164f5c3')\"\n",
              "            title=\"Convert this dataframe to an interactive table.\"\n",
              "            style=\"display:none;\">\n",
              "\n",
              "  <svg xmlns=\"http://www.w3.org/2000/svg\" height=\"24px\" viewBox=\"0 -960 960 960\">\n",
              "    <path d=\"M120-120v-720h720v720H120Zm60-500h600v-160H180v160Zm220 220h160v-160H400v160Zm0 220h160v-160H400v160ZM180-400h160v-160H180v160Zm440 0h160v-160H620v160ZM180-180h160v-160H180v160Zm440 0h160v-160H620v160Z\"/>\n",
              "  </svg>\n",
              "    </button>\n",
              "\n",
              "  <style>\n",
              "    .colab-df-container {\n",
              "      display:flex;\n",
              "      gap: 12px;\n",
              "    }\n",
              "\n",
              "    .colab-df-convert {\n",
              "      background-color: #E8F0FE;\n",
              "      border: none;\n",
              "      border-radius: 50%;\n",
              "      cursor: pointer;\n",
              "      display: none;\n",
              "      fill: #1967D2;\n",
              "      height: 32px;\n",
              "      padding: 0 0 0 0;\n",
              "      width: 32px;\n",
              "    }\n",
              "\n",
              "    .colab-df-convert:hover {\n",
              "      background-color: #E2EBFA;\n",
              "      box-shadow: 0px 1px 2px rgba(60, 64, 67, 0.3), 0px 1px 3px 1px rgba(60, 64, 67, 0.15);\n",
              "      fill: #174EA6;\n",
              "    }\n",
              "\n",
              "    .colab-df-buttons div {\n",
              "      margin-bottom: 4px;\n",
              "    }\n",
              "\n",
              "    [theme=dark] .colab-df-convert {\n",
              "      background-color: #3B4455;\n",
              "      fill: #D2E3FC;\n",
              "    }\n",
              "\n",
              "    [theme=dark] .colab-df-convert:hover {\n",
              "      background-color: #434B5C;\n",
              "      box-shadow: 0px 1px 3px 1px rgba(0, 0, 0, 0.15);\n",
              "      filter: drop-shadow(0px 1px 2px rgba(0, 0, 0, 0.3));\n",
              "      fill: #FFFFFF;\n",
              "    }\n",
              "  </style>\n",
              "\n",
              "    <script>\n",
              "      const buttonEl =\n",
              "        document.querySelector('#df-b5b87c1a-0861-4737-b9b3-684f0164f5c3 button.colab-df-convert');\n",
              "      buttonEl.style.display =\n",
              "        google.colab.kernel.accessAllowed ? 'block' : 'none';\n",
              "\n",
              "      async function convertToInteractive(key) {\n",
              "        const element = document.querySelector('#df-b5b87c1a-0861-4737-b9b3-684f0164f5c3');\n",
              "        const dataTable =\n",
              "          await google.colab.kernel.invokeFunction('convertToInteractive',\n",
              "                                                    [key], {});\n",
              "        if (!dataTable) return;\n",
              "\n",
              "        const docLinkHtml = 'Like what you see? Visit the ' +\n",
              "          '<a target=\"_blank\" href=https://colab.research.google.com/notebooks/data_table.ipynb>data table notebook</a>'\n",
              "          + ' to learn more about interactive tables.';\n",
              "        element.innerHTML = '';\n",
              "        dataTable['output_type'] = 'display_data';\n",
              "        await google.colab.output.renderOutput(dataTable, element);\n",
              "        const docLink = document.createElement('div');\n",
              "        docLink.innerHTML = docLinkHtml;\n",
              "        element.appendChild(docLink);\n",
              "      }\n",
              "    </script>\n",
              "  </div>\n",
              "\n",
              "\n",
              "    <div id=\"df-f6577c7b-bda1-4a03-b194-018ff61e49cc\">\n",
              "      <button class=\"colab-df-quickchart\" onclick=\"quickchart('df-f6577c7b-bda1-4a03-b194-018ff61e49cc')\"\n",
              "                title=\"Suggest charts\"\n",
              "                style=\"display:none;\">\n",
              "\n",
              "<svg xmlns=\"http://www.w3.org/2000/svg\" height=\"24px\"viewBox=\"0 0 24 24\"\n",
              "     width=\"24px\">\n",
              "    <g>\n",
              "        <path d=\"M19 3H5c-1.1 0-2 .9-2 2v14c0 1.1.9 2 2 2h14c1.1 0 2-.9 2-2V5c0-1.1-.9-2-2-2zM9 17H7v-7h2v7zm4 0h-2V7h2v10zm4 0h-2v-4h2v4z\"/>\n",
              "    </g>\n",
              "</svg>\n",
              "      </button>\n",
              "\n",
              "<style>\n",
              "  .colab-df-quickchart {\n",
              "      --bg-color: #E8F0FE;\n",
              "      --fill-color: #1967D2;\n",
              "      --hover-bg-color: #E2EBFA;\n",
              "      --hover-fill-color: #174EA6;\n",
              "      --disabled-fill-color: #AAA;\n",
              "      --disabled-bg-color: #DDD;\n",
              "  }\n",
              "\n",
              "  [theme=dark] .colab-df-quickchart {\n",
              "      --bg-color: #3B4455;\n",
              "      --fill-color: #D2E3FC;\n",
              "      --hover-bg-color: #434B5C;\n",
              "      --hover-fill-color: #FFFFFF;\n",
              "      --disabled-bg-color: #3B4455;\n",
              "      --disabled-fill-color: #666;\n",
              "  }\n",
              "\n",
              "  .colab-df-quickchart {\n",
              "    background-color: var(--bg-color);\n",
              "    border: none;\n",
              "    border-radius: 50%;\n",
              "    cursor: pointer;\n",
              "    display: none;\n",
              "    fill: var(--fill-color);\n",
              "    height: 32px;\n",
              "    padding: 0;\n",
              "    width: 32px;\n",
              "  }\n",
              "\n",
              "  .colab-df-quickchart:hover {\n",
              "    background-color: var(--hover-bg-color);\n",
              "    box-shadow: 0 1px 2px rgba(60, 64, 67, 0.3), 0 1px 3px 1px rgba(60, 64, 67, 0.15);\n",
              "    fill: var(--button-hover-fill-color);\n",
              "  }\n",
              "\n",
              "  .colab-df-quickchart-complete:disabled,\n",
              "  .colab-df-quickchart-complete:disabled:hover {\n",
              "    background-color: var(--disabled-bg-color);\n",
              "    fill: var(--disabled-fill-color);\n",
              "    box-shadow: none;\n",
              "  }\n",
              "\n",
              "  .colab-df-spinner {\n",
              "    border: 2px solid var(--fill-color);\n",
              "    border-color: transparent;\n",
              "    border-bottom-color: var(--fill-color);\n",
              "    animation:\n",
              "      spin 1s steps(1) infinite;\n",
              "  }\n",
              "\n",
              "  @keyframes spin {\n",
              "    0% {\n",
              "      border-color: transparent;\n",
              "      border-bottom-color: var(--fill-color);\n",
              "      border-left-color: var(--fill-color);\n",
              "    }\n",
              "    20% {\n",
              "      border-color: transparent;\n",
              "      border-left-color: var(--fill-color);\n",
              "      border-top-color: var(--fill-color);\n",
              "    }\n",
              "    30% {\n",
              "      border-color: transparent;\n",
              "      border-left-color: var(--fill-color);\n",
              "      border-top-color: var(--fill-color);\n",
              "      border-right-color: var(--fill-color);\n",
              "    }\n",
              "    40% {\n",
              "      border-color: transparent;\n",
              "      border-right-color: var(--fill-color);\n",
              "      border-top-color: var(--fill-color);\n",
              "    }\n",
              "    60% {\n",
              "      border-color: transparent;\n",
              "      border-right-color: var(--fill-color);\n",
              "    }\n",
              "    80% {\n",
              "      border-color: transparent;\n",
              "      border-right-color: var(--fill-color);\n",
              "      border-bottom-color: var(--fill-color);\n",
              "    }\n",
              "    90% {\n",
              "      border-color: transparent;\n",
              "      border-bottom-color: var(--fill-color);\n",
              "    }\n",
              "  }\n",
              "</style>\n",
              "\n",
              "      <script>\n",
              "        async function quickchart(key) {\n",
              "          const quickchartButtonEl =\n",
              "            document.querySelector('#' + key + ' button');\n",
              "          quickchartButtonEl.disabled = true;  // To prevent multiple clicks.\n",
              "          quickchartButtonEl.classList.add('colab-df-spinner');\n",
              "          try {\n",
              "            const charts = await google.colab.kernel.invokeFunction(\n",
              "                'suggestCharts', [key], {});\n",
              "          } catch (error) {\n",
              "            console.error('Error during call to suggestCharts:', error);\n",
              "          }\n",
              "          quickchartButtonEl.classList.remove('colab-df-spinner');\n",
              "          quickchartButtonEl.classList.add('colab-df-quickchart-complete');\n",
              "        }\n",
              "        (() => {\n",
              "          let quickchartButtonEl =\n",
              "            document.querySelector('#df-f6577c7b-bda1-4a03-b194-018ff61e49cc button');\n",
              "          quickchartButtonEl.style.display =\n",
              "            google.colab.kernel.accessAllowed ? 'block' : 'none';\n",
              "        })();\n",
              "      </script>\n",
              "    </div>\n",
              "\n",
              "    </div>\n",
              "  </div>\n"
            ],
            "application/vnd.google.colaboratory.intrinsic+json": {
              "type": "dataframe",
              "variable_name": "df"
            }
          },
          "metadata": {},
          "execution_count": 4
        }
      ]
    },
    {
      "cell_type": "code",
      "source": [
        "# Dataset columns\n",
        "df.columns"
      ],
      "metadata": {
        "colab": {
          "base_uri": "https://localhost:8080/"
        },
        "id": "gA0NQgYewwuG",
        "outputId": "6c87dc6c-bde8-4db4-9492-645438a3d86e"
      },
      "execution_count": 5,
      "outputs": [
        {
          "output_type": "execute_result",
          "data": {
            "text/plain": [
              "Index(['Unnamed: 0', 'country', 'description', 'designation', 'points',\n",
              "       'price', 'province', 'region_1', 'region_2', 'taster_name',\n",
              "       'taster_twitter_handle', 'title', 'variety', 'winery'],\n",
              "      dtype='object')"
            ]
          },
          "metadata": {},
          "execution_count": 5
        }
      ]
    },
    {
      "cell_type": "code",
      "source": [
        "# Removing Columns\n",
        "# Description : Points (label)\n",
        "df.drop(columns=[\"Unnamed: 0\" ,'country' , 'designation' , 'price', 'province', 'region_1', 'region_2', 'taster_name',\n",
        "       'taster_twitter_handle', 'title', 'variety', 'winery'] , inplace=True)"
      ],
      "metadata": {
        "id": "iXq6u7QswXyF"
      },
      "execution_count": 6,
      "outputs": []
    },
    {
      "cell_type": "code",
      "source": [
        "df.head() , df.tail()"
      ],
      "metadata": {
        "colab": {
          "base_uri": "https://localhost:8080/"
        },
        "id": "mRqEp-Oex_MY",
        "outputId": "1601c84e-3dc1-44e3-d404-d85d0946e898"
      },
      "execution_count": 7,
      "outputs": [
        {
          "output_type": "execute_result",
          "data": {
            "text/plain": [
              "(                                         description  points\n",
              " 0  Aromas include tropical fruit, broom, brimston...      87\n",
              " 1  This is ripe and fruity, a wine that is smooth...      87\n",
              " 2  Tart and snappy, the flavors of lime flesh and...      87\n",
              " 3  Pineapple rind, lemon pith and orange blossom ...      87\n",
              " 4  Much like the regular bottling from 2012, this...      87,\n",
              "                                               description  points\n",
              " 129966  Notes of honeysuckle and cantaloupe sweeten th...      90\n",
              " 129967  Citation is given as much as a decade of bottl...      90\n",
              " 129968  Well-drained gravel soil gives this wine its c...      90\n",
              " 129969  A dry style of Pinot Gris, this is crisp with ...      90\n",
              " 129970  Big, rich and off-dry, this is powered by inte...      90)"
            ]
          },
          "metadata": {},
          "execution_count": 7
        }
      ]
    },
    {
      "cell_type": "code",
      "source": [
        "# checking for null values\n",
        "df.isna().sum()"
      ],
      "metadata": {
        "colab": {
          "base_uri": "https://localhost:8080/",
          "height": 146
        },
        "id": "HeWV4UwVyCDu",
        "outputId": "74c30696-f793-44da-b0a1-e89d44c95ced"
      },
      "execution_count": 8,
      "outputs": [
        {
          "output_type": "execute_result",
          "data": {
            "text/plain": [
              "description    0\n",
              "points         0\n",
              "dtype: int64"
            ],
            "text/html": [
              "<div>\n",
              "<style scoped>\n",
              "    .dataframe tbody tr th:only-of-type {\n",
              "        vertical-align: middle;\n",
              "    }\n",
              "\n",
              "    .dataframe tbody tr th {\n",
              "        vertical-align: top;\n",
              "    }\n",
              "\n",
              "    .dataframe thead th {\n",
              "        text-align: right;\n",
              "    }\n",
              "</style>\n",
              "<table border=\"1\" class=\"dataframe\">\n",
              "  <thead>\n",
              "    <tr style=\"text-align: right;\">\n",
              "      <th></th>\n",
              "      <th>0</th>\n",
              "    </tr>\n",
              "  </thead>\n",
              "  <tbody>\n",
              "    <tr>\n",
              "      <th>description</th>\n",
              "      <td>0</td>\n",
              "    </tr>\n",
              "    <tr>\n",
              "      <th>points</th>\n",
              "      <td>0</td>\n",
              "    </tr>\n",
              "  </tbody>\n",
              "</table>\n",
              "</div><br><label><b>dtype:</b> int64</label>"
            ]
          },
          "metadata": {},
          "execution_count": 8
        }
      ]
    },
    {
      "cell_type": "code",
      "source": [
        "# Plotting the points\n",
        "sns.kdeplot(df[\"points\"] , color = \"green\" , fill = True)\n",
        "plt.title(\"Distribution of points\")\n",
        "plt.xlabel(\"Points\")\n",
        "plt.ylabel(\"Density\")\n",
        "plt.grid(alpha = 0.2)\n",
        "plt.show()"
      ],
      "metadata": {
        "colab": {
          "base_uri": "https://localhost:8080/",
          "height": 472
        },
        "id": "Vc8IdisqypqZ",
        "outputId": "793c3846-1b89-4f2b-b6ea-cd26bceef2c4"
      },
      "execution_count": 9,
      "outputs": [
        {
          "output_type": "display_data",
          "data": {
            "text/plain": [
              "<Figure size 640x480 with 1 Axes>"
            ],
            "image/png": "[encoded data removed]"
          },
          "metadata": {}
        }
      ]
    },
    {
      "cell_type": "code",
      "source": [
        "# new label column\n",
        "df[\"quality\"] = (df[\"points\"] >= 90).astype(int)"
      ],
      "metadata": {
        "id": "LDhpNadvzUBo"
      },
      "execution_count": 10,
      "outputs": []
    },
    {
      "cell_type": "code",
      "source": [
        "# quality distribution\n",
        "sns.countplot(x = df[df[\"quality\"] == 1][\"quality\"] , color = \"green\" , label = \"High Quality\")\n",
        "sns.countplot(x = df[df[\"quality\"] == 0][\"quality\"] , color = \"red\" , label = \"Low Quality\")\n",
        "plt.title(\"Quality Distribution\")\n",
        "plt.xlabel(\"Quality\")\n",
        "plt.ylabel(\"Count\")\n",
        "plt.grid(alpha = 0.2)\n",
        "plt.show()"
      ],
      "metadata": {
        "colab": {
          "base_uri": "https://localhost:8080/",
          "height": 472
        },
        "id": "n_iCqFx-z9t3",
        "outputId": "f1e3ec32-efe9-40eb-f793-8d2deac746c5"
      },
      "execution_count": 11,
      "outputs": [
        {
          "output_type": "display_data",
          "data": {
            "text/plain": [
              "<Figure size 640x480 with 1 Axes>"
            ],
            "image/png": "[encoded data removed]"
          },
          "metadata": {}
        }
      ]
    },
    {
      "cell_type": "code",
      "source": [
        "# description : quality\n",
        "\n",
        "df = df[[\"description\" , \"quality\"]]"
      ],
      "metadata": {
        "id": "y0-cpkLU1hF1"
      },
      "execution_count": 12,
      "outputs": []
    },
    {
      "cell_type": "code",
      "source": [
        "# split : train , valid  , test\n",
        "# Train : 80% , Valid : 10% , Test : 10%\n",
        "train , valid , test  = np.split(df.sample(frac = 1) , [int(0.8 * len(df)) , int(0.9 * len(df))])"
      ],
      "metadata": {
        "colab": {
          "base_uri": "https://localhost:8080/"
        },
        "id": "cD2hXeuL1tDy",
        "outputId": "9e5375f5-0335-4d06-912b-7744e86e791b"
      },
      "execution_count": 13,
      "outputs": [
        {
          "output_type": "stream",
          "name": "stderr",
          "text": [
            "/usr/local/lib/python3.11/dist-packages/numpy/core/fromnumeric.py:59: FutureWarning: 'DataFrame.swapaxes' is deprecated and will be removed in a future version. Please use 'DataFrame.transpose' instead.\n",
            "  return bound(*args, **kwds)\n"
          ]
        }
      ]
    },
    {
      "cell_type": "code",
      "source": [
        "def df_to_dataset(dataframe , shuffle = False ,  batch_size = 1024):\n",
        "  df = dataframe.copy()\n",
        "  t_label = df.pop(\"quality\") # target label\n",
        "  df = df[\"description\"]\n",
        "  ds = tf.data.Dataset.from_tensor_slices((df , t_label))\n",
        "  if shuffle:\n",
        "    ds = df.shuffle(buffer_size = len(df))\n",
        "\n",
        "  ds = ds.batch(batch_size=batch_size)\n",
        "  ds = ds.prefetch(tf.data.AUTOTUNE)\n",
        "\n",
        "  return ds"
      ],
      "metadata": {
        "id": "FqYm2lCQBFDs"
      },
      "execution_count": 14,
      "outputs": []
    },
    {
      "cell_type": "code",
      "source": [
        "# Changing to dataset pipline\n",
        "train_ds = df_to_dataset(train)\n",
        "valid_ds = df_to_dataset(valid)\n",
        "test_ds = df_to_dataset(test)"
      ],
      "metadata": {
        "id": "m5ARFu1fbQUX"
      },
      "execution_count": 15,
      "outputs": []
    },
    {
      "cell_type": "code",
      "source": [
        "# Embedding\n",
        "embedding = \"https://tfhub.dev/google/nnlm-en-dim50/2\"\n",
        "hub_layer = hub.KerasLayer(\n",
        "    embedding,\n",
        "    dtype=tf.string,\n",
        "    input_shape=[],\n",
        "    trainable=True\n",
        ")"
      ],
      "metadata": {
        "id": "nIu7JSSLbrK-"
      },
      "execution_count": 16,
      "outputs": []
    },
    {
      "cell_type": "code",
      "source": [
        "# preview of the description after converted to dataset , batch\n",
        "list(train_ds)[0][0]"
      ],
      "metadata": {
        "colab": {
          "base_uri": "https://localhost:8080/"
        },
        "id": "vDVC0jiCc5Ax",
        "outputId": "c845040d-950d-47fe-de71-ca207c4968da"
      },
      "execution_count": 17,
      "outputs": [
        {
          "output_type": "execute_result",
          "data": {
            "text/plain": [
              "<tf.Tensor: shape=(1024,), dtype=string, numpy=\n",
              "array([b'Simple and ripe, this wine highlights a fruity blend of pineapples, peaches and apricots, punched up with a warming touch of alcohol. Forward and easy drinking with a slightly cloying finish.',\n",
              "       b'Fresh toast, wooded spice  on the nose is friendly and appealing. On the palate, it works too, with its playful balance of layered spice oak and fresh acidity. The wine will appeal to fans of both oaked and unoaked Chardonnay, and will make a nice addition to the table.',\n",
              "       b'Made with 80% Sangiovese and 20% Merlot, this opens with aromas of prune, scorched earth, toast and a hint of black currant. On the structured palate, notes of grilled bell pepper, espresso and dried herb accent a core of dried black cherry alongside fine-grained tannins that give it a firm finish.',\n",
              "       ...,\n",
              "       b\"There's a slightly sweaty note in the nose, but plenty of fruit in the mouth. Blueberry and black cherry, cassis and blue plum gather with substantial earthy chewy tannins. The high alcohol that's listed does not show in the flavor or the finish; in fact, this does a bit of a quick fade into flavors of coffee grounds.\",\n",
              "       b\"Varietally correct scents of rose petals and spice burst from the glass, followed by pear and melon fruit. It's all backed by acidity that's fairly crisp for Gew\\xc3\\xbcrztraminer and relatively modest residual sugar. The only quibble is the relatively quick fade on the finish.\",\n",
              "       b'Oaky chocolaty aromas and candied berry notes make for a rich opening. This is tannic and bracing in feel, with peppery, herbal berry flavors that are fully oaked. A dark toasty finish offers some residual cream and chocolate.'],\n",
              "      dtype=object)>"
            ]
          },
          "metadata": {},
          "execution_count": 17
        }
      ]
    },
    {
      "cell_type": "code",
      "source": [
        "# preview of the description after converted to normalized vectors\n",
        "hub_layer(list(train_ds)[0][0])"
      ],
      "metadata": {
        "colab": {
          "base_uri": "https://localhost:8080/"
        },
        "id": "F11EYRjTdAPF",
        "outputId": "20e22133-c86e-4a84-b1cb-965cac935177"
      },
      "execution_count": 18,
      "outputs": [
        {
          "output_type": "execute_result",
          "data": {
            "text/plain": [
              "<tf.Tensor: shape=(1024, 50), dtype=float32, numpy=\n",
              "array([[ 0.3126601 , -0.17860238, -0.00148068, ...,  0.0105657 ,\n",
              "        -0.33386514, -0.06040689],\n",
              "       [ 0.31479055, -0.1552235 ,  0.04755927, ..., -0.25054106,\n",
              "        -0.06093749,  0.08929158],\n",
              "       [ 0.60064733, -0.12018678, -0.22035347, ...,  0.01135157,\n",
              "         0.05862828, -0.01452897],\n",
              "       ...,\n",
              "       [ 0.48127702, -0.29479796,  0.27806318, ..., -0.07349958,\n",
              "        -0.05165241, -0.24501377],\n",
              "       [ 0.13953061, -0.19568765, -0.13061535, ..., -0.15777968,\n",
              "        -0.075624  , -0.0711525 ],\n",
              "       [ 0.2444546 , -0.28517178,  0.07304367, ...,  0.08385634,\n",
              "        -0.13579738,  0.03285486]], dtype=float32)>"
            ]
          },
          "metadata": {},
          "execution_count": 18
        }
      ]
    },
    {
      "cell_type": "code",
      "source": [
        "# layers\n",
        "model = tf.keras.Sequential([\n",
        "    hub_layer,\n",
        "    tf.keras.layers.Dense(16 , activation = \"relu\"),\n",
        "    tf.keras.layers.Dropout(0.4),\n",
        "    tf.keras.layers.Dense(16 , activation = \"relu\"),\n",
        "    tf.keras.layers.Dropout(0.4),\n",
        "    tf.keras.layers.Dense(1 , activation = \"sigmoid\")\n",
        "])"
      ],
      "metadata": {
        "id": "bGlVAQ_yf-1u"
      },
      "execution_count": 19,
      "outputs": []
    },
    {
      "cell_type": "markdown",
      "source": [
        "ValueError                                Traceback (most recent call last)\n",
        "/tmp/ipython-input-911868878.py in <cell line: 0>()\n",
        "      1 # Model\n",
        "----> 2 model = tf.keras.Sequential([\n",
        "      3     hub_layer,\n",
        "      4     tf.keras.layers.Dense(16 , activation = \"relu\"),\n",
        "      5     tf.keras.layers.Dropout(0.4),\n",
        "\n",
        "/usr/local/lib/python3.11/dist-packages/keras/src/models/sequential.py in __init__(self, layers, trainable, name)\n",
        "     73         if layers:\n",
        "     74             for layer in layers:\n",
        "---> 75                 self.add(layer, rebuild=False)\n",
        "     76             self._maybe_rebuild()\n",
        "     77\n",
        "\n",
        "/usr/local/lib/python3.11/dist-packages/keras/src/models/sequential.py in add(self, layer, rebuild)\n",
        "     95                 layer = origin_layer\n",
        "     96         if not isinstance(layer, Layer):\n",
        "---> 97             raise ValueError(\n",
        "     98                 \"Only instances of `keras.Layer` can be \"\n",
        "     99                 f\"added to a Sequential model. Received: {layer} \"\n",
        "\n",
        "ValueError: Only instances of `keras.Layer` can be added to a Sequential model. Received: <tensorflow_hub.keras_layer.KerasLayer object at 0x7ac3e4c9aa90> (of type <class 'tensorflow_hub.keras_layer.KerasLayer'>)\n",
        "\n",
        "```bash\n",
        "pip install --upgrade tensorflow==2.15.0 tensorflow_hub==0.16.\n",
        "\n",
        "```\n"
      ],
      "metadata": {
        "id": "FxSKLKaXm0Fv"
      }
    },
    {
      "cell_type": "code",
      "source": [
        "# Compile\n",
        "model.compile(\n",
        "              optimizer = tf.keras.optimizers.Adam(learning_rate = 0.001) ,\n",
        "              loss = tf.keras.losses.BinaryCrossentropy() ,\n",
        "              metrics = [\"accuracy\"]\n",
        "            )"
      ],
      "metadata": {
        "id": "HYYA73yQl4Ha"
      },
      "execution_count": 20,
      "outputs": []
    },
    {
      "cell_type": "code",
      "source": [
        "# Evaluation before training\n",
        "model.evaluate(train_ds)"
      ],
      "metadata": {
        "colab": {
          "base_uri": "https://localhost:8080/"
        },
        "id": "b78wv-zconQF",
        "outputId": "fe7e6731-f93f-4a6d-b62f-a6dacad97971"
      },
      "execution_count": 21,
      "outputs": [
        {
          "output_type": "stream",
          "name": "stdout",
          "text": [
            "102/102 [==============================] - 1s 12ms/step - loss: 0.7259 - accuracy: 0.3785\n"
          ]
        },
        {
          "output_type": "execute_result",
          "data": {
            "text/plain": [
              "[0.7259464263916016, 0.3785008192062378]"
            ]
          },
          "metadata": {},
          "execution_count": 21
        }
      ]
    },
    {
      "cell_type": "code",
      "source": [
        "# Evaluation before training\n",
        "model.evaluate(valid_ds)"
      ],
      "metadata": {
        "colab": {
          "base_uri": "https://localhost:8080/"
        },
        "id": "zeYKxTGPo8hN",
        "outputId": "34528e32-8918-4a19-e34d-47bd7b5e0f30"
      },
      "execution_count": 22,
      "outputs": [
        {
          "output_type": "stream",
          "name": "stdout",
          "text": [
            "13/13 [==============================] - 0s 11ms/step - loss: 0.7267 - accuracy: 0.3767\n"
          ]
        },
        {
          "output_type": "execute_result",
          "data": {
            "text/plain": [
              "[0.7266920208930969, 0.37670230865478516]"
            ]
          },
          "metadata": {},
          "execution_count": 22
        }
      ]
    },
    {
      "cell_type": "code",
      "source": [
        "# Training the model\n",
        "history = model.fit(train_ds , epochs = 5 , validation_data = valid_ds)"
      ],
      "metadata": {
        "colab": {
          "base_uri": "https://localhost:8080/"
        },
        "id": "O5V29u2FpHHK",
        "outputId": "5408ce60-5ee6-46fb-b701-7cf87bea79a9"
      },
      "execution_count": 23,
      "outputs": [
        {
          "output_type": "stream",
          "name": "stdout",
          "text": [
            "Epoch 1/5\n",
            "102/102 [==============================] - 132s 1s/step - loss: 0.6693 - accuracy: 0.5872 - val_loss: 0.5970 - val_accuracy: 0.7154\n",
            "Epoch 2/5\n",
            "102/102 [==============================] - 138s 1s/step - loss: 0.5378 - accuracy: 0.7471 - val_loss: 0.4218 - val_accuracy: 0.8093\n",
            "Epoch 3/5\n",
            "102/102 [==============================] - 136s 1s/step - loss: 0.4257 - accuracy: 0.8219 - val_loss: 0.3837 - val_accuracy: 0.8232\n",
            "Epoch 4/5\n",
            "102/102 [==============================] - 153s 1s/step - loss: 0.3796 - accuracy: 0.8429 - val_loss: 0.3757 - val_accuracy: 0.8276\n",
            "Epoch 5/5\n",
            "102/102 [==============================] - 137s 1s/step - loss: 0.3560 - accuracy: 0.8541 - val_loss: 0.3741 - val_accuracy: 0.8289\n"
          ]
        }
      ]
    },
    {
      "cell_type": "code",
      "source": [
        "model.evaluate(test_ds)"
      ],
      "metadata": {
        "colab": {
          "base_uri": "https://localhost:8080/"
        },
        "id": "u36bD6opvrIU",
        "outputId": "61cd5d45-8bc4-4c2f-8af0-3927caa9c4c5"
      },
      "execution_count": 24,
      "outputs": [
        {
          "output_type": "stream",
          "name": "stdout",
          "text": [
            "13/13 [==============================] - 7s 498ms/step - loss: 0.3675 - accuracy: 0.8321\n"
          ]
        },
        {
          "output_type": "execute_result",
          "data": {
            "text/plain": [
              "[0.36747774481773376, 0.8321280479431152]"
            ]
          },
          "metadata": {},
          "execution_count": 24
        }
      ]
    },
    {
      "cell_type": "code",
      "source": [
        "# Loss plot\n",
        "plt.plot(history.history[\"loss\"] , color = \"red\")\n",
        "plt.plot(history.history[\"val_loss\"] , color = \"green\" )\n",
        "plt.title(\"Loss\")\n",
        "plt.xlabel(\"Epochs\")\n",
        "plt.ylabel(\"Loss\")\n",
        "plt.grid(alpha = 0.2)\n",
        "plt.legend([\"Training loss\" , \"Valdation loss\"])\n",
        "plt.show()"
      ],
      "metadata": {
        "colab": {
          "base_uri": "https://localhost:8080/",
          "height": 472
        },
        "id": "9fX7BP3wyvUk",
        "outputId": "063d2044-43e8-441a-cb07-98b64efecbed"
      },
      "execution_count": 28,
      "outputs": [
        {
          "output_type": "display_data",
          "data": {
            "text/plain": [
              "<Figure size 640x480 with 1 Axes>"
            ],
            "image/png": "[encoded data removed]"
          },
          "metadata": {}
        }
      ]
    },
    {
      "cell_type": "code",
      "source": [
        "# Accuracy Plot\n",
        "plt.plot(history.history[\"accuracy\"] , color = \"red\")\n",
        "plt.plot(history.history[\"val_accuracy\"] , color = \"green\" )\n",
        "plt.title(\"Accuracy\")\n",
        "plt.xlabel(\"Epochs\")\n",
        "plt.ylabel(\"Accuracy\")\n",
        "plt.grid(alpha=0.2)\n",
        "plt.legend([\"Training accuracy\" , \"Valdation accuracy\"])\n",
        "plt.show()"
      ],
      "metadata": {
        "colab": {
          "base_uri": "https://localhost:8080/",
          "height": 472
        },
        "id": "i8iTFQLYy9EH",
        "outputId": "07e2e059-3be3-4255-b850-d1409151f19d"
      },
      "execution_count": 29,
      "outputs": [
        {
          "output_type": "display_data",
          "data": {
            "text/plain": [
              "<Figure size 640x480 with 1 Axes>"
            ],
            "image/png": "[encoded data removed]"
          },
          "metadata": {}
        }
      ]
    },
    {
      "cell_type": "markdown",
      "source": [
        "### LSTM"
      ],
      "metadata": {
        "id": "QtV_XhG8Zocf"
      }
    },
    {
      "cell_type": "code",
      "source": [
        "# Tokenizaiton\n",
        "encoder = tf.keras.layers.TextVectorization(max_tokens = 2000)\n",
        "encoder.adapt(train_ds.map(lambda text , label : text))"
      ],
      "metadata": {
        "id": "6BTZSOfpZrq1"
      },
      "execution_count": 31,
      "outputs": []
    },
    {
      "cell_type": "code",
      "source": [
        "# Vocabs\n",
        "vocab = np.array(encoder.get_vocabulary())\n",
        "vocab[:25]"
      ],
      "metadata": {
        "colab": {
          "base_uri": "https://localhost:8080/"
        },
        "id": "e4o_YKx0be-R",
        "outputId": "29c33618-94f5-47e8-d9c9-20b05c111e90"
      },
      "execution_count": 32,
      "outputs": [
        {
          "output_type": "execute_result",
          "data": {
            "text/plain": [
              "array(['', '[UNK]', 'and', 'the', 'a', 'of', 'with', 'this', 'is', 'wine',\n",
              "       'flavors', 'in', 'it', 'to', 'its', 'on', 'fruit', 'aromas',\n",
              "       'palate', 'that', 'finish', 'acidity', 'from', 'but', 'tannins'],\n",
              "      dtype='<U17')"
            ]
          },
          "metadata": {},
          "execution_count": 32
        }
      ]
    },
    {
      "cell_type": "code",
      "source": [
        "# Lstm Model layers\n",
        "lstm_model = tf.keras.Sequential([\n",
        "    encoder , # 1 encoder / Tokenizer\n",
        "    tf.keras.layers.Embedding(    # 2 token to normalized vectors\n",
        "      input_dim = len(encoder.get_vocabulary()),\n",
        "      output_dim = 32,\n",
        "      mask_zero = True\n",
        "    ),\n",
        "\n",
        "    tf.keras.layers.LSTM(32), # RNN ---> LSTM model\n",
        "    tf.keras.layers.Dense(32 , activation = \"relu\"), # hidden layer\n",
        "    tf.keras.layers.Dropout(0.3), # dropout\n",
        "    tf.keras.layers.Dense(1 , activation = \"sigmoid\") # output layer\n",
        "])"
      ],
      "metadata": {
        "id": "pIRjeY5mc-4x"
      },
      "execution_count": 36,
      "outputs": []
    },
    {
      "cell_type": "code",
      "source": [
        "# compile\n",
        "lstm_model.compile(\n",
        "    tf.keras.optimizers.Adam(learning_rate = 0.001) ,\n",
        "    tf.keras.losses.BinaryCrossentropy() ,\n",
        "    metrics = [\"accuracy\"]\n",
        ")"
      ],
      "metadata": {
        "id": "vTmCmk5Efp74"
      },
      "execution_count": 39,
      "outputs": []
    },
    {
      "cell_type": "code",
      "source": [
        "# evaluation before training\n",
        "lstm_model.evaluate(train_ds)\n",
        "lstm_model.evaluate(valid_ds)"
      ],
      "metadata": {
        "colab": {
          "base_uri": "https://localhost:8080/"
        },
        "id": "AW94KM4If3Qm",
        "outputId": "98f54cb8-ae14-4994-a6b7-5390f1c43f3d"
      },
      "execution_count": 40,
      "outputs": [
        {
          "output_type": "stream",
          "name": "stdout",
          "text": [
            "102/102 [==============================] - 22s 182ms/step - loss: 0.6938 - accuracy: 0.4130\n",
            "13/13 [==============================] - 3s 198ms/step - loss: 0.6938 - accuracy: 0.4113\n"
          ]
        },
        {
          "output_type": "execute_result",
          "data": {
            "text/plain": [
              "[0.693825900554657, 0.41132569313049316]"
            ]
          },
          "metadata": {},
          "execution_count": 40
        }
      ]
    },
    {
      "cell_type": "code",
      "source": [
        "# Training\n",
        "history = lstm_model.fit(train_ds , epochs = 5 , validation_data = valid_ds)"
      ],
      "metadata": {
        "colab": {
          "base_uri": "https://localhost:8080/"
        },
        "id": "_puDdRQSg52z",
        "outputId": "93082101-253d-4c7d-d2aa-78e4708c593c"
      },
      "execution_count": 41,
      "outputs": [
        {
          "output_type": "stream",
          "name": "stdout",
          "text": [
            "Epoch 1/5\n",
            "102/102 [==============================] - 62s 557ms/step - loss: 0.5407 - accuracy: 0.7118 - val_loss: 0.3882 - val_accuracy: 0.8207\n",
            "Epoch 2/5\n",
            "102/102 [==============================] - 46s 455ms/step - loss: 0.3654 - accuracy: 0.8350 - val_loss: 0.3645 - val_accuracy: 0.8358\n",
            "Epoch 3/5\n",
            "102/102 [==============================] - 44s 428ms/step - loss: 0.3458 - accuracy: 0.8453 - val_loss: 0.3683 - val_accuracy: 0.8356\n",
            "Epoch 4/5\n",
            "102/102 [==============================] - 45s 437ms/step - loss: 0.3394 - accuracy: 0.8485 - val_loss: 0.3616 - val_accuracy: 0.8386\n",
            "Epoch 5/5\n",
            "102/102 [==============================] - 45s 443ms/step - loss: 0.3342 - accuracy: 0.8497 - val_loss: 0.3627 - val_accuracy: 0.8375\n"
          ]
        }
      ]
    },
    {
      "cell_type": "code",
      "source": [
        "lstm_model.evaluate(valid_ds)"
      ],
      "metadata": {
        "colab": {
          "base_uri": "https://localhost:8080/"
        },
        "id": "Hf6t6ghAhDC0",
        "outputId": "49c41c3b-2f2b-432f-8880-5d1703521dc4"
      },
      "execution_count": 42,
      "outputs": [
        {
          "output_type": "stream",
          "name": "stdout",
          "text": [
            "13/13 [==============================] - 2s 150ms/step - loss: 0.3627 - accuracy: 0.8375\n"
          ]
        },
        {
          "output_type": "execute_result",
          "data": {
            "text/plain": [
              "[0.3627319633960724, 0.8375009894371033]"
            ]
          },
          "metadata": {},
          "execution_count": 42
        }
      ]
    }
  ]
}