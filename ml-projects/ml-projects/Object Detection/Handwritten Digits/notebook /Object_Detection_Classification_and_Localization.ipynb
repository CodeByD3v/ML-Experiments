{
  "nbformat": 4,
  "nbformat_minor": 0,
  "metadata": {
    "colab": {
      "provenance": [],
      "gpuType": "T4",
      "authorship_tag": "ABX9TyOSGhDB3JeEWKFh70UV0jXK"
    },
    "kernelspec": {
      "name": "python3",
      "display_name": "Python 3"
    },
    "language_info": {
      "name": "python"
    },
    "accelerator": "GPU"
  },
  "cells": [
    {
      "cell_type": "markdown",
      "source": [
        "# Object Detection with Classification & Localization"
      ],
      "metadata": {
        "id": "sZq3If3yJG8u"
      }
    },
    {
      "cell_type": "markdown",
      "source": [
        "## 1. Importing Libraries"
      ],
      "metadata": {
        "id": "fbE7DzsUJOl9"
      }
    },
    {
      "cell_type": "code",
      "source": [
        "# Libs\n",
        "import os\n",
        "import numpy as np\n",
        "import matplotlib.pyplot as plt\n",
        "# image processing\n",
        "import PIL.Image , PIL.ImageFont , PIL.ImageDraw"
      ],
      "metadata": {
        "id": "JFv2CJpBJOSl"
      },
      "execution_count": 53,
      "outputs": []
    },
    {
      "cell_type": "code",
      "execution_count": 54,
      "metadata": {
        "id": "jK-M-6KXHrJv"
      },
      "outputs": [],
      "source": [
        "# Tensorflow Utils\n",
        "import tensorflow as tf\n",
        "import tensorflow_datasets as tfds"
      ]
    },
    {
      "cell_type": "markdown",
      "source": [
        "## 2. Visualization Utilities"
      ],
      "metadata": {
        "id": "QbW5gM4_JpMD"
      }
    },
    {
      "cell_type": "code",
      "source": [
        "# Image properties\n",
        "im_width = 75\n",
        "im_height = 75\n",
        "use_normalized_coordinates = True"
      ],
      "metadata": {
        "id": "K5XAVLlCJotO"
      },
      "execution_count": 55,
      "outputs": []
    },
    {
      "cell_type": "code",
      "source": [
        "# Bounding Boxes\n",
        "def draw_bounding_box_on_image(image, ymin, xmin, ymax, xmax,\n",
        "                               color='red', display_str_list=None,\n",
        "                               thickness=1, use_normalized_coordinates=True):\n",
        "    draw = PIL.ImageDraw.Draw(image)\n",
        "    im_width, im_height = image.size\n",
        "\n",
        "    if use_normalized_coordinates:\n",
        "        (left, right, top, bottom) = (xmin * im_width,\n",
        "                                      xmax * im_width,\n",
        "                                      ymin * im_height,\n",
        "                                      ymax * im_height)\n",
        "    else:\n",
        "        (left, right, top, bottom) = (xmin, xmax, ymin, ymax)\n",
        "\n",
        "    # draw box\n",
        "    draw.line([(left, top), (left, bottom),\n",
        "               (right, bottom), (right, top), (left, top)],\n",
        "              width=thickness, fill=color)\n",
        "\n",
        "\n",
        "def draw_bounding_boxes_on_image(image, boxes, color=None, thickness=1, display_str_list=()):\n",
        "    boxes_shape = boxes.shape\n",
        "\n",
        "    if not boxes_shape:\n",
        "        return\n",
        "    if len(boxes_shape) != 2 or boxes_shape[-1] != 4:\n",
        "        raise ValueError('Input must be of size [N,4]')\n",
        "\n",
        "    for i in range(boxes_shape[0]):\n",
        "        # pick color safely\n",
        "        if isinstance(color, (list, tuple)) and len(color) > i:\n",
        "            c = color[i]\n",
        "        elif isinstance(color, str):\n",
        "            c = color\n",
        "        else:\n",
        "            c = \"red\"   # default\n",
        "\n",
        "        # pick display string safely\n",
        "        d = display_str_list[i] if len(display_str_list) > i else None\n",
        "\n",
        "        draw_bounding_box_on_image(\n",
        "            image,\n",
        "            boxes[i, 1], boxes[i, 0], boxes[i, 3], boxes[i, 2],\n",
        "            color=c,\n",
        "            display_str_list=d,\n",
        "            thickness=thickness\n",
        "        )\n",
        "\n",
        "\n",
        "# Drawing bounding on numpy array image\n",
        "def draw_bounding_boxes_on_image_array(image, boxes, color=None, thickness=1, display_str_list=()):\n",
        "    image_pil = PIL.Image.fromarray(image)\n",
        "    rgbimg = PIL.Image.new(\"RGBA\", image_pil.size)\n",
        "    rgbimg.paste(image_pil)\n",
        "\n",
        "    draw_bounding_boxes_on_image(rgbimg, boxes, color, thickness, display_str_list)\n",
        "    return np.array(rgbimg)\n",
        "\n"
      ],
      "metadata": {
        "id": "CLk-sDH-tW7x"
      },
      "execution_count": 56,
      "outputs": []
    },
    {
      "cell_type": "code",
      "source": [
        "# Long Execution Time\n",
        "def dataset_to_numpy_util(training_dataset , validation_dataset):\n",
        "\n",
        "  if tf.executing_eagerly():\n",
        "\n",
        "    # Training Dataset\n",
        "    for training_digits , (training_labels , training_bboxes) in training_dataset :\n",
        "      training_digits = training_digits.numpy()\n",
        "      training_labels = training_labels.numpy()\n",
        "      training_bboxes = training_bboxes.numpy()\n",
        "\n",
        "    # Validation Dataset\n",
        "    for validation_digits , (validation_labels , validation_bboxes) in validation_dataset :\n",
        "      validation_digits = validation_digits.numpy()\n",
        "      validation_labels = validation_labels.numpy()\n",
        "      validation_bboxes = validation_bboxes.numpy()\n",
        "\n",
        "\n",
        "  return (training_digits , training_labels , training_bboxes ,\n",
        "          validation_digits , validation_labels , validation_bboxes)\n",
        "\n",
        "\n",
        "# Shorter Execution Time\n",
        "def dataset_to_numpy_fast(training_dataset, validation_dataset, N):\n",
        "    # Unbatch so each element is a single sample\n",
        "    training_dataset = training_dataset.unbatch()\n",
        "    validation_dataset = validation_dataset.unbatch()\n",
        "\n",
        "    train_data = list(training_dataset.take(N))\n",
        "    val_data   = list(validation_dataset.take(N))\n",
        "\n",
        "    training_digits  = np.stack([x[0].numpy() for x in train_data])\n",
        "    training_labels  = np.stack([x[1][0].numpy() for x in train_data])\n",
        "    training_bboxes  = np.stack([x[1][1].numpy() for x in train_data])\n",
        "\n",
        "    validation_digits = np.stack([x[0].numpy() for x in val_data])\n",
        "    validation_labels = np.stack([x[1][0].numpy() for x in val_data])\n",
        "    validation_bboxes = np.stack([x[1][1].numpy() for x in val_data])\n",
        "\n",
        "    return (training_digits, training_labels, training_bboxes,\n",
        "            validation_digits, validation_labels, validation_bboxes)"
      ],
      "metadata": {
        "id": "cv5Xv4yNdoX1"
      },
      "execution_count": 57,
      "outputs": []
    },
    {
      "cell_type": "code",
      "source": [
        "# Generating synthetic digit images from fonts\n",
        "MATPLOTLIB_FONT_DIR = os.path.join(os.path.dirname(plt.__file__), \"mpl-data/fonts/ttf\")\n",
        "\n",
        "# n - number of images to be created\n",
        "def create_digits_from_local_fonts(n):\n",
        "  # font\n",
        "  font_labels = []\n",
        "  img = PIL.Image.new(\"LA\" , ( 75, 75 * n ) , color =  (0 , 255))\n",
        "  font1 = PIL.ImageFont.truetype(os.path.join(MATPLOTLIB_FONT_DIR, 'DejaVuSansMono-Oblique.ttf'), 25)\n",
        "  font2 = PIL.ImageFont.truetype(os.path.join(MATPLOTLIB_FONT_DIR, 'STIXGeneral.ttf'), 25)\n",
        "\n",
        "  # Draw images\n",
        "  draw = PIL.ImageDraw.Draw(img)\n",
        "  for i in range(n):\n",
        "      font_labels.append(i % 10)\n",
        "      draw.text((7 + i*75, 0 if i < 10 else -4),\n",
        "            str(i % 10),\n",
        "            fill=(255,255),\n",
        "            font=font1 if i < 10 else font2)\n",
        "\n",
        "  font_digits = np.array(img.getdata(), np.float32)[:,0] / 255.0\n",
        "\n",
        "\n",
        "  font_digits = np.reshape(\n",
        "    np.stack(\n",
        "        np.split(\n",
        "            np.reshape(font_digits, [75, 75*n]),\n",
        "            n, axis=1\n",
        "        ),\n",
        "        axis=0\n",
        "    ),\n",
        "    [n, 75*75]\n",
        "  )\n",
        "\n",
        "\n",
        "  return font_digits , font_labels\n"
      ],
      "metadata": {
        "id": "SmUFBoUeDuQM"
      },
      "execution_count": 58,
      "outputs": []
    },
    {
      "cell_type": "code",
      "source": [
        "# For displaying digits with boundingboxes\n",
        "def display_digits_with_boxes(digits, predictions, labels, pred_bboxes, bboxes, iou ,title):\n",
        "\n",
        "    #\n",
        "    iou_threshold = 0.6\n",
        "    # 10 images\n",
        "    n = 10\n",
        "    # randomly choosing\n",
        "    indexes = np.random.choice(len(predictions), size=n)\n",
        "\n",
        "    n_digits = digits[indexes]\n",
        "    n_predictions = predictions[indexes]\n",
        "    n_labels = labels[indexes]\n",
        "\n",
        "    n_iou = []\n",
        "    if len(iou) > 0:\n",
        "        n_iou = iou[indexes]\n",
        "\n",
        "    if len(pred_bboxes) > 0:\n",
        "        n_pred_bboxes = pred_bboxes[indexes]\n",
        "\n",
        "    if len(bboxes) > 0:\n",
        "        n_bboxes = bboxes[indexes]\n",
        "\n",
        "    n_digits = n_digits * 255.0\n",
        "    n_digits = n_digits.reshape(n, 75, 75)\n",
        "\n",
        "    fig = plt.figure(figsize=(25, 8))\n",
        "    plt.title(title)\n",
        "    plt.xticks([])\n",
        "    plt.yticks([])\n",
        "\n",
        "\n",
        "    for i in range(10):\n",
        "\n",
        "        ax = fig.add_subplot(1, 10, i + 1)\n",
        "        bboxes_to_plot = []\n",
        "\n",
        "        if (len(pred_bboxes) > i):\n",
        "            bboxes_to_plot.append(n_pred_bboxes[i])\n",
        "\n",
        "        if (len(bboxes) > i):\n",
        "            bboxes_to_plot.append(n_bboxes[i])\n",
        "\n",
        "        img_to_draw = draw_bounding_boxes_on_image_array(\n",
        "            image=n_digits[i],\n",
        "            boxes=np.asarray(bboxes_to_plot),\n",
        "            color=['red', 'green'],\n",
        "            display_str_list=['True', 'Pred']\n",
        "        )\n",
        "\n",
        "        plt.xlabel(n_predictions[i])\n",
        "        plt.xticks([])\n",
        "        plt.yticks([])\n",
        "\n",
        "        if np.argmax(n_predictions[i]) != np.argmax(n_labels[i]):\n",
        "          ax.xaxis.label.set_color('red')\n",
        "\n",
        "        plt.imshow(img_to_draw)\n",
        "        plt.tight_layout()\n",
        "        if len(iou) > i:\n",
        "            color = \"black\"\n",
        "            if (n_iou[i][0] < iou_threshold):\n",
        "                color = \"red\"\n",
        "            ax.text(0.2, -0.3, \"iou: %s\" % (n_iou[i][0]), color=color, transform=ax.transAxes)"
      ],
      "metadata": {
        "id": "fZlHiWLqQB_2"
      },
      "execution_count": 94,
      "outputs": []
    },
    {
      "cell_type": "code",
      "source": [
        "# Plot Metrics / Evaluation\n",
        "def plot_metrics(metrics_name , title) :\n",
        "  plt.title(title)\n",
        "  plt.plot(history.history[metrics_name] , label = metrics_name)\n",
        "  plt.plot(history.history[\"val_\" + metrics_name] , label = \"val_\" + metrics_name)\n",
        "  plt.legend()\n",
        "  plt.show()"
      ],
      "metadata": {
        "id": "VBr_1tA0L2Dh"
      },
      "execution_count": 60,
      "outputs": []
    },
    {
      "cell_type": "markdown",
      "source": [
        "## 3. Loading & Preprocessing Dataset"
      ],
      "metadata": {
        "id": "A1Lqj4xFONkS"
      }
    },
    {
      "cell_type": "code",
      "source": [
        "# strategy = tf.distribute.get_strategy()\n",
        "# List available devices\n",
        "\n",
        "# resolver = tf.distribute.cluster_resolver.TPUClusterResolver()\n",
        "# tf.config.experimental_connect_to_cluster(resolver)\n",
        "# tf.tpu.experimental.initialize_tpu_system(resolver)\n",
        "# strategy = tf.distribute.TPUStrategy(resolver)\n",
        "# print(\"All devices: \", tf.config.list_logical_devices('TPU'))\n"
      ],
      "metadata": {
        "id": "azAW_tisOVsY"
      },
      "execution_count": 61,
      "outputs": []
    },
    {
      "cell_type": "code",
      "source": [
        "\n",
        "def get_strategy():\n",
        "    try:\n",
        "\n",
        "        resolver = tf.distribute.cluster_resolver.TPUClusterResolver()\n",
        "        tf.config.experimental_connect_to_cluster(resolver)\n",
        "        tf.tpu.experimental.initialize_tpu_system(resolver)\n",
        "        print(\"TPU detected and initialized\")\n",
        "        return tf.distribute.TPUStrategy(resolver)\n",
        "\n",
        "    except:\n",
        "\n",
        "        gpus = tf.config.list_physical_devices('GPU')\n",
        "\n",
        "        if gpus:\n",
        "            print(f\"GPU detected: {len(gpus)} available\")\n",
        "            return tf.distribute.MirroredStrategy()\n",
        "\n",
        "        else:\n",
        "            print(\"No GPU/TPU found, using CPU\")\n",
        "            return tf.distribute.get_strategy()\n",
        "\n",
        "# Pick the best strategy automatically\n",
        "strategy = get_strategy()"
      ],
      "metadata": {
        "colab": {
          "base_uri": "https://localhost:8080/"
        },
        "id": "dry37_I6LDGV",
        "outputId": "c1715d29-175b-4020-da92-fc5031c83018"
      },
      "execution_count": 62,
      "outputs": [
        {
          "output_type": "stream",
          "name": "stdout",
          "text": [
            "GPU detected: 1 available\n"
          ]
        }
      ]
    },
    {
      "cell_type": "code",
      "source": [
        "# Batch size\n",
        "\n",
        "BATCH_SIZE = 64*strategy.num_replicas_in_sync"
      ],
      "metadata": {
        "id": "LtxVQBrDOjZR"
      },
      "execution_count": 63,
      "outputs": []
    },
    {
      "cell_type": "code",
      "source": [
        "def read_image_tfds(image, label):\n",
        "\n",
        "    xmin = tf.random.uniform((), 0, 48, dtype=tf.int32)\n",
        "    ymin = tf.random.uniform((), 0, 48, dtype=tf.int32)\n",
        "\n",
        "    image = tf.reshape(image, (28,28,1))\n",
        "\n",
        "\n",
        "    image = tf.image.pad_to_bounding_box(image, ymin, xmin, 75, 75)\n",
        "\n",
        "    image = tf.cast(image, tf.float32) / 255.0\n",
        "\n",
        "    xmax = (xmin + 28) / 75\n",
        "    ymax = (ymin + 28) / 75\n",
        "    xmin = xmin / 75\n",
        "    ymin = ymin / 75\n",
        "\n",
        "    return image, (tf.one_hot(label, 10), [xmin, ymin, xmax, ymax])\n",
        "\n"
      ],
      "metadata": {
        "id": "SEtredSQOwzk"
      },
      "execution_count": 64,
      "outputs": []
    },
    {
      "cell_type": "code",
      "source": [
        "# Training Dataset\n",
        "def get_training_dataset():\n",
        "    with strategy.scope():\n",
        "        dataset = tfds.load(\"mnist\", split=\"train\", as_supervised=True, try_gcs=True)\n",
        "        dataset = dataset.map(read_image_tfds, num_parallel_calls=16)\n",
        "        dataset = dataset.shuffle(5000, reshuffle_each_iteration=True)\n",
        "        dataset = dataset.repeat()\n",
        "        dataset = dataset.batch(BATCH_SIZE, drop_remainder=True)\n",
        "        dataset = dataset.prefetch(-1)\n",
        "        return dataset"
      ],
      "metadata": {
        "id": "nvfKj--sc0zZ"
      },
      "execution_count": 65,
      "outputs": []
    },
    {
      "cell_type": "code",
      "source": [
        "# Validation Dataset\n",
        "def get_validation_dataset():\n",
        "    with strategy.scope():\n",
        "        dataset = tfds.load(\"mnist\", split=\"test\", as_supervised=True, try_gcs=True)\n",
        "        dataset = dataset.map(read_image_tfds, num_parallel_calls=16)\n",
        "        dataset = dataset.repeat()\n",
        "        dataset = dataset.batch(10000, drop_remainder=True)\n",
        "        return dataset\n"
      ],
      "metadata": {
        "id": "OfE7uMtUfA42"
      },
      "execution_count": 66,
      "outputs": []
    },
    {
      "cell_type": "code",
      "source": [
        "# datasets\n",
        "with strategy.scope():\n",
        "    training_dataset = get_training_dataset()\n",
        "    validation_dataset = get_validation_dataset()"
      ],
      "metadata": {
        "id": "cUn8ptZyffkF"
      },
      "execution_count": 67,
      "outputs": []
    },
    {
      "cell_type": "code",
      "source": [
        "(training_digits , training_labels , training_bboxes ,\n",
        " validation_digits , validation_labels , validation_bboxes) = dataset_to_numpy_fast(training_dataset , validation_dataset , 10)"
      ],
      "metadata": {
        "id": "fKLroMpRiAB3"
      },
      "execution_count": 68,
      "outputs": []
    },
    {
      "cell_type": "markdown",
      "source": [
        "### Visualize Data"
      ],
      "metadata": {
        "id": "PFhGTsALkwya"
      }
    },
    {
      "cell_type": "code",
      "source": [
        "display_digits_with_boxes(training_digits , training_labels , training_labels, np.array([]),\n",
        "                          training_bboxes , np.array([]) , \"Training Data\")"
      ],
      "metadata": {
        "colab": {
          "base_uri": "https://localhost:8080/",
          "height": 507
        },
        "id": "zhL_QkJVktgs",
        "outputId": "17912645-3c66-4b9f-dc8e-1e3e3427d601"
      },
      "execution_count": 90,
      "outputs": [
        {
          "output_type": "display_data",
          "data": {
            "text/plain": [
              "<Figure size 2500x800 with 11 Axes>"
            ],
            "image/png": "[encoded data removed]"
          },
          "metadata": {}
        }
      ]
    },
    {
      "cell_type": "code",
      "source": [
        "print(training_digits.shape , training_labels.shape , training_bboxes.shape )"
      ],
      "metadata": {
        "colab": {
          "base_uri": "https://localhost:8080/"
        },
        "id": "MqC3t94ZNuJ0",
        "outputId": "65c03a1e-1910-42c4-a1df-8698d8e38921"
      },
      "execution_count": 70,
      "outputs": [
        {
          "output_type": "stream",
          "name": "stdout",
          "text": [
            "(10, 75, 75, 1) (10, 10) (10, 4)\n"
          ]
        }
      ]
    },
    {
      "cell_type": "code",
      "source": [
        "print(validation_digits.shape , validation_labels.shape , validation_bboxes.shape )"
      ],
      "metadata": {
        "colab": {
          "base_uri": "https://localhost:8080/"
        },
        "id": "4WN42TcadH57",
        "outputId": "21141ec8-efee-4ee1-e53b-cbe122cff62a"
      },
      "execution_count": 71,
      "outputs": [
        {
          "output_type": "stream",
          "name": "stdout",
          "text": [
            "(10, 75, 75, 1) (10, 10) (10, 4)\n"
          ]
        }
      ]
    },
    {
      "cell_type": "code",
      "source": [
        "display_digits_with_boxes(validation_digits , validation_labels\n",
        "                          , validation_labels,\n",
        "                          np.array([]) , validation_bboxes , np.array([]) , \"Validation Data\")"
      ],
      "metadata": {
        "colab": {
          "base_uri": "https://localhost:8080/",
          "height": 507
        },
        "id": "i-8FKFbRG6tB",
        "outputId": "ce1acbd0-8c94-40d0-ff3f-0595cd3d5192"
      },
      "execution_count": 91,
      "outputs": [
        {
          "output_type": "display_data",
          "data": {
            "text/plain": [
              "<Figure size 2500x800 with 11 Axes>"
            ],
            "image/png": "[encoded data removed]"
          },
          "metadata": {}
        }
      ]
    },
    {
      "cell_type": "markdown",
      "source": [
        "## 4. Define The Network"
      ],
      "metadata": {
        "id": "V5WLOVok5Wia"
      }
    },
    {
      "cell_type": "code",
      "source": [
        "# CNN\n",
        "def feature_extraction(inputs):\n",
        "  x = tf.keras.layers.Conv2D(16 , activation = 'relu'  , kernel_size = 3 , input_shape = (75 , 75 , 1))(inputs)\n",
        "  x = tf.keras.layers.AveragePooling2D((2,2))(x)\n",
        "\n",
        "  x = tf.keras.layers.Conv2D(32 , activation = 'relu'  , kernel_size = 3 )(x)\n",
        "  x = tf.keras.layers.AveragePooling2D((2,2))(x)\n",
        "\n",
        "  x = tf.keras.layers.Conv2D(64 , activation = 'relu'  , kernel_size = 3 )(x)\n",
        "  x = tf.keras.layers.AveragePooling2D((2,2))(x)\n",
        "\n",
        "  return x\n"
      ],
      "metadata": {
        "id": "IaRUE38GtRxt"
      },
      "execution_count": 73,
      "outputs": []
    },
    {
      "cell_type": "code",
      "source": [
        "# Dense layers\n",
        "def dense_layer(inputs) :\n",
        "  x = tf.keras.layers.Flatten()(inputs)\n",
        "  x = tf.keras.layers.Dense(128 , activation = \"relu\")(x)\n",
        "  return x"
      ],
      "metadata": {
        "id": "0cXorlv38EAk"
      },
      "execution_count": 74,
      "outputs": []
    },
    {
      "cell_type": "code",
      "source": [
        "# Output layers\n",
        "def classifier(inputs):\n",
        "  classification_output = tf.keras.layers.Dense(10 , activation = \"softmax\"  , name = \"classification\")(inputs)\n",
        "  return classification_output\n"
      ],
      "metadata": {
        "id": "2JNDuCxq8XaO"
      },
      "execution_count": 75,
      "outputs": []
    },
    {
      "cell_type": "code",
      "source": [
        "# BBox Regression\n",
        "def bbox_regressor(inputs):\n",
        "  bbox_regression = tf.keras.layers.Dense(4 , name = \"bounding_box\")(inputs)\n",
        "  return bbox_regression"
      ],
      "metadata": {
        "id": "T8k6gHvu8kLN"
      },
      "execution_count": 76,
      "outputs": []
    },
    {
      "cell_type": "code",
      "source": [
        "# Model\n",
        "def final_model(inputs):\n",
        "  feature_cnn = feature_extraction(inputs)\n",
        "  dense_output = dense_layer(feature_cnn)\n",
        "\n",
        "  # outputs\n",
        "  classification_output = classifier(dense_output)\n",
        "  bbox_regression = bbox_regressor(dense_output)\n",
        "\n",
        "  model = tf.keras.Model(inputs = inputs , outputs = [classification_output , bbox_regression])\n",
        "  return model"
      ],
      "metadata": {
        "id": "2ixwBNVX8uaU"
      },
      "execution_count": 77,
      "outputs": []
    },
    {
      "cell_type": "code",
      "source": [
        "# definition and compile\n",
        "def define_and_compile_model(inputs):\n",
        "  model = final_model(inputs)\n",
        "\n",
        "  model.compile(\n",
        "                optimizer = \"adam\" ,\n",
        "                loss = {\n",
        "                        \"classification\": \"categorical_crossentropy\" ,\n",
        "                        \"bounding_box\":\"mse\"\n",
        "                        },\n",
        "                metrics = {\n",
        "                    \"classification\":\"accuracy\" ,\n",
        "                    \"bounding_box\":\"mse\"\n",
        "                }\n",
        "                )\n",
        "\n",
        "  return model"
      ],
      "metadata": {
        "id": "fgsH_IhWAV97"
      },
      "execution_count": 78,
      "outputs": []
    },
    {
      "cell_type": "code",
      "source": [
        "with strategy.scope():\n",
        "  input = tf.keras.layers.Input(shape = (75,75,1))\n",
        "  model = define_and_compile_model(input)\n",
        "\n",
        "model.summary()"
      ],
      "metadata": {
        "colab": {
          "base_uri": "https://localhost:8080/",
          "height": 676
        },
        "id": "GU7pSnufBPHW",
        "outputId": "b7bac5ea-a12a-4735-c0a6-9ec3cebc22c1"
      },
      "execution_count": 79,
      "outputs": [
        {
          "output_type": "stream",
          "name": "stderr",
          "text": [
            "/usr/local/lib/python3.12/dist-packages/keras/src/layers/convolutional/base_conv.py:113: UserWarning: Do not pass an `input_shape`/`input_dim` argument to a layer. When using Sequential models, prefer using an `Input(shape)` object as the first layer in the model instead.\n",
            "  super().__init__(activity_regularizer=activity_regularizer, **kwargs)\n"
          ]
        },
        {
          "output_type": "display_data",
          "data": {
            "text/plain": [
              "\u001b[1mModel: \"functional_1\"\u001b[0m\n"
            ],
            "text/html": [
              "<pre style=\"white-space:pre;overflow-x:auto;line-height:normal;font-family:Menlo,'DejaVu Sans Mono',consolas,'Courier New',monospace\"><span style=\"font-weight: bold\">Model: \"functional_1\"</span>\n",
              "</pre>\n"
            ]
          },
          "metadata": {}
        },
        {
          "output_type": "display_data",
          "data": {
            "text/plain": [
              "┏━━━━━━━━━━━━━━━━━━━━━┳━━━━━━━━━━━━━━━━━━━┳━━━━━━━━━━━━┳━━━━━━━━━━━━━━━━━━━┓\n",
              "┃\u001b[1m \u001b[0m\u001b[1mLayer (type)       \u001b[0m\u001b[1m \u001b[0m┃\u001b[1m \u001b[0m\u001b[1mOutput Shape     \u001b[0m\u001b[1m \u001b[0m┃\u001b[1m \u001b[0m\u001b[1m   Param #\u001b[0m\u001b[1m \u001b[0m┃\u001b[1m \u001b[0m\u001b[1mConnected to     \u001b[0m\u001b[1m \u001b[0m┃\n",
              "┡━━━━━━━━━━━━━━━━━━━━━╇━━━━━━━━━━━━━━━━━━━╇━━━━━━━━━━━━╇━━━━━━━━━━━━━━━━━━━┩\n",
              "│ input_layer_1       │ (\u001b[38;5;45mNone\u001b[0m, \u001b[38;5;34m75\u001b[0m, \u001b[38;5;34m75\u001b[0m, \u001b[38;5;34m1\u001b[0m) │          \u001b[38;5;34m0\u001b[0m │ -                 │\n",
              "│ (\u001b[38;5;33mInputLayer\u001b[0m)        │                   │            │                   │\n",
              "├─────────────────────┼───────────────────┼────────────┼───────────────────┤\n",
              "│ conv2d_3 (\u001b[38;5;33mConv2D\u001b[0m)   │ (\u001b[38;5;45mNone\u001b[0m, \u001b[38;5;34m73\u001b[0m, \u001b[38;5;34m73\u001b[0m,    │        \u001b[38;5;34m160\u001b[0m │ input_layer_1[\u001b[38;5;34m0\u001b[0m]… │\n",
              "│                     │ \u001b[38;5;34m16\u001b[0m)               │            │                   │\n",
              "├─────────────────────┼───────────────────┼────────────┼───────────────────┤\n",
              "│ average_pooling2d_3 │ (\u001b[38;5;45mNone\u001b[0m, \u001b[38;5;34m36\u001b[0m, \u001b[38;5;34m36\u001b[0m,    │          \u001b[38;5;34m0\u001b[0m │ conv2d_3[\u001b[38;5;34m0\u001b[0m][\u001b[38;5;34m0\u001b[0m]    │\n",
              "│ (\u001b[38;5;33mAveragePooling2D\u001b[0m)  │ \u001b[38;5;34m16\u001b[0m)               │            │                   │\n",
              "├─────────────────────┼───────────────────┼────────────┼───────────────────┤\n",
              "│ conv2d_4 (\u001b[38;5;33mConv2D\u001b[0m)   │ (\u001b[38;5;45mNone\u001b[0m, \u001b[38;5;34m34\u001b[0m, \u001b[38;5;34m34\u001b[0m,    │      \u001b[38;5;34m4,640\u001b[0m │ average_pooling2… │\n",
              "│                     │ \u001b[38;5;34m32\u001b[0m)               │            │                   │\n",
              "├─────────────────────┼───────────────────┼────────────┼───────────────────┤\n",
              "│ average_pooling2d_4 │ (\u001b[38;5;45mNone\u001b[0m, \u001b[38;5;34m17\u001b[0m, \u001b[38;5;34m17\u001b[0m,    │          \u001b[38;5;34m0\u001b[0m │ conv2d_4[\u001b[38;5;34m0\u001b[0m][\u001b[38;5;34m0\u001b[0m]    │\n",
              "│ (\u001b[38;5;33mAveragePooling2D\u001b[0m)  │ \u001b[38;5;34m32\u001b[0m)               │            │                   │\n",
              "├─────────────────────┼───────────────────┼────────────┼───────────────────┤\n",
              "│ conv2d_5 (\u001b[38;5;33mConv2D\u001b[0m)   │ (\u001b[38;5;45mNone\u001b[0m, \u001b[38;5;34m15\u001b[0m, \u001b[38;5;34m15\u001b[0m,    │     \u001b[38;5;34m18,496\u001b[0m │ average_pooling2… │\n",
              "│                     │ \u001b[38;5;34m64\u001b[0m)               │            │                   │\n",
              "├─────────────────────┼───────────────────┼────────────┼───────────────────┤\n",
              "│ average_pooling2d_5 │ (\u001b[38;5;45mNone\u001b[0m, \u001b[38;5;34m7\u001b[0m, \u001b[38;5;34m7\u001b[0m, \u001b[38;5;34m64\u001b[0m)  │          \u001b[38;5;34m0\u001b[0m │ conv2d_5[\u001b[38;5;34m0\u001b[0m][\u001b[38;5;34m0\u001b[0m]    │\n",
              "│ (\u001b[38;5;33mAveragePooling2D\u001b[0m)  │                   │            │                   │\n",
              "├─────────────────────┼───────────────────┼────────────┼───────────────────┤\n",
              "│ flatten_1 (\u001b[38;5;33mFlatten\u001b[0m) │ (\u001b[38;5;45mNone\u001b[0m, \u001b[38;5;34m3136\u001b[0m)      │          \u001b[38;5;34m0\u001b[0m │ average_pooling2… │\n",
              "├─────────────────────┼───────────────────┼────────────┼───────────────────┤\n",
              "│ dense_1 (\u001b[38;5;33mDense\u001b[0m)     │ (\u001b[38;5;45mNone\u001b[0m, \u001b[38;5;34m128\u001b[0m)       │    \u001b[38;5;34m401,536\u001b[0m │ flatten_1[\u001b[38;5;34m0\u001b[0m][\u001b[38;5;34m0\u001b[0m]   │\n",
              "├─────────────────────┼───────────────────┼────────────┼───────────────────┤\n",
              "│ classification      │ (\u001b[38;5;45mNone\u001b[0m, \u001b[38;5;34m10\u001b[0m)        │      \u001b[38;5;34m1,290\u001b[0m │ dense_1[\u001b[38;5;34m0\u001b[0m][\u001b[38;5;34m0\u001b[0m]     │\n",
              "│ (\u001b[38;5;33mDense\u001b[0m)             │                   │            │                   │\n",
              "├─────────────────────┼───────────────────┼────────────┼───────────────────┤\n",
              "│ bounding_box        │ (\u001b[38;5;45mNone\u001b[0m, \u001b[38;5;34m4\u001b[0m)         │        \u001b[38;5;34m516\u001b[0m │ dense_1[\u001b[38;5;34m0\u001b[0m][\u001b[38;5;34m0\u001b[0m]     │\n",
              "│ (\u001b[38;5;33mDense\u001b[0m)             │                   │            │                   │\n",
              "└─────────────────────┴───────────────────┴────────────┴───────────────────┘\n"
            ],
            "text/html": [
              "<pre style=\"white-space:pre;overflow-x:auto;line-height:normal;font-family:Menlo,'DejaVu Sans Mono',consolas,'Courier New',monospace\">┏━━━━━━━━━━━━━━━━━━━━━┳━━━━━━━━━━━━━━━━━━━┳━━━━━━━━━━━━┳━━━━━━━━━━━━━━━━━━━┓\n",
              "┃<span style=\"font-weight: bold\"> Layer (type)        </span>┃<span style=\"font-weight: bold\"> Output Shape      </span>┃<span style=\"font-weight: bold\">    Param # </span>┃<span style=\"font-weight: bold\"> Connected to      </span>┃\n",
              "┡━━━━━━━━━━━━━━━━━━━━━╇━━━━━━━━━━━━━━━━━━━╇━━━━━━━━━━━━╇━━━━━━━━━━━━━━━━━━━┩\n",
              "│ input_layer_1       │ (<span style=\"color: #00d7ff; text-decoration-color: #00d7ff\">None</span>, <span style=\"color: #00af00; text-decoration-color: #00af00\">75</span>, <span style=\"color: #00af00; text-decoration-color: #00af00\">75</span>, <span style=\"color: #00af00; text-decoration-color: #00af00\">1</span>) │          <span style=\"color: #00af00; text-decoration-color: #00af00\">0</span> │ -                 │\n",
              "│ (<span style=\"color: #0087ff; text-decoration-color: #0087ff\">InputLayer</span>)        │                   │            │                   │\n",
              "├─────────────────────┼───────────────────┼────────────┼───────────────────┤\n",
              "│ conv2d_3 (<span style=\"color: #0087ff; text-decoration-color: #0087ff\">Conv2D</span>)   │ (<span style=\"color: #00d7ff; text-decoration-color: #00d7ff\">None</span>, <span style=\"color: #00af00; text-decoration-color: #00af00\">73</span>, <span style=\"color: #00af00; text-decoration-color: #00af00\">73</span>,    │        <span style=\"color: #00af00; text-decoration-color: #00af00\">160</span> │ input_layer_1[<span style=\"color: #00af00; text-decoration-color: #00af00\">0</span>]… │\n",
              "│                     │ <span style=\"color: #00af00; text-decoration-color: #00af00\">16</span>)               │            │                   │\n",
              "├─────────────────────┼───────────────────┼────────────┼───────────────────┤\n",
              "│ average_pooling2d_3 │ (<span style=\"color: #00d7ff; text-decoration-color: #00d7ff\">None</span>, <span style=\"color: #00af00; text-decoration-color: #00af00\">36</span>, <span style=\"color: #00af00; text-decoration-color: #00af00\">36</span>,    │          <span style=\"color: #00af00; text-decoration-color: #00af00\">0</span> │ conv2d_3[<span style=\"color: #00af00; text-decoration-color: #00af00\">0</span>][<span style=\"color: #00af00; text-decoration-color: #00af00\">0</span>]    │\n",
              "│ (<span style=\"color: #0087ff; text-decoration-color: #0087ff\">AveragePooling2D</span>)  │ <span style=\"color: #00af00; text-decoration-color: #00af00\">16</span>)               │            │                   │\n",
              "├─────────────────────┼───────────────────┼────────────┼───────────────────┤\n",
              "│ conv2d_4 (<span style=\"color: #0087ff; text-decoration-color: #0087ff\">Conv2D</span>)   │ (<span style=\"color: #00d7ff; text-decoration-color: #00d7ff\">None</span>, <span style=\"color: #00af00; text-decoration-color: #00af00\">34</span>, <span style=\"color: #00af00; text-decoration-color: #00af00\">34</span>,    │      <span style=\"color: #00af00; text-decoration-color: #00af00\">4,640</span> │ average_pooling2… │\n",
              "│                     │ <span style=\"color: #00af00; text-decoration-color: #00af00\">32</span>)               │            │                   │\n",
              "├─────────────────────┼───────────────────┼────────────┼───────────────────┤\n",
              "│ average_pooling2d_4 │ (<span style=\"color: #00d7ff; text-decoration-color: #00d7ff\">None</span>, <span style=\"color: #00af00; text-decoration-color: #00af00\">17</span>, <span style=\"color: #00af00; text-decoration-color: #00af00\">17</span>,    │          <span style=\"color: #00af00; text-decoration-color: #00af00\">0</span> │ conv2d_4[<span style=\"color: #00af00; text-decoration-color: #00af00\">0</span>][<span style=\"color: #00af00; text-decoration-color: #00af00\">0</span>]    │\n",
              "│ (<span style=\"color: #0087ff; text-decoration-color: #0087ff\">AveragePooling2D</span>)  │ <span style=\"color: #00af00; text-decoration-color: #00af00\">32</span>)               │            │                   │\n",
              "├─────────────────────┼───────────────────┼────────────┼───────────────────┤\n",
              "│ conv2d_5 (<span style=\"color: #0087ff; text-decoration-color: #0087ff\">Conv2D</span>)   │ (<span style=\"color: #00d7ff; text-decoration-color: #00d7ff\">None</span>, <span style=\"color: #00af00; text-decoration-color: #00af00\">15</span>, <span style=\"color: #00af00; text-decoration-color: #00af00\">15</span>,    │     <span style=\"color: #00af00; text-decoration-color: #00af00\">18,496</span> │ average_pooling2… │\n",
              "│                     │ <span style=\"color: #00af00; text-decoration-color: #00af00\">64</span>)               │            │                   │\n",
              "├─────────────────────┼───────────────────┼────────────┼───────────────────┤\n",
              "│ average_pooling2d_5 │ (<span style=\"color: #00d7ff; text-decoration-color: #00d7ff\">None</span>, <span style=\"color: #00af00; text-decoration-color: #00af00\">7</span>, <span style=\"color: #00af00; text-decoration-color: #00af00\">7</span>, <span style=\"color: #00af00; text-decoration-color: #00af00\">64</span>)  │          <span style=\"color: #00af00; text-decoration-color: #00af00\">0</span> │ conv2d_5[<span style=\"color: #00af00; text-decoration-color: #00af00\">0</span>][<span style=\"color: #00af00; text-decoration-color: #00af00\">0</span>]    │\n",
              "│ (<span style=\"color: #0087ff; text-decoration-color: #0087ff\">AveragePooling2D</span>)  │                   │            │                   │\n",
              "├─────────────────────┼───────────────────┼────────────┼───────────────────┤\n",
              "│ flatten_1 (<span style=\"color: #0087ff; text-decoration-color: #0087ff\">Flatten</span>) │ (<span style=\"color: #00d7ff; text-decoration-color: #00d7ff\">None</span>, <span style=\"color: #00af00; text-decoration-color: #00af00\">3136</span>)      │          <span style=\"color: #00af00; text-decoration-color: #00af00\">0</span> │ average_pooling2… │\n",
              "├─────────────────────┼───────────────────┼────────────┼───────────────────┤\n",
              "│ dense_1 (<span style=\"color: #0087ff; text-decoration-color: #0087ff\">Dense</span>)     │ (<span style=\"color: #00d7ff; text-decoration-color: #00d7ff\">None</span>, <span style=\"color: #00af00; text-decoration-color: #00af00\">128</span>)       │    <span style=\"color: #00af00; text-decoration-color: #00af00\">401,536</span> │ flatten_1[<span style=\"color: #00af00; text-decoration-color: #00af00\">0</span>][<span style=\"color: #00af00; text-decoration-color: #00af00\">0</span>]   │\n",
              "├─────────────────────┼───────────────────┼────────────┼───────────────────┤\n",
              "│ classification      │ (<span style=\"color: #00d7ff; text-decoration-color: #00d7ff\">None</span>, <span style=\"color: #00af00; text-decoration-color: #00af00\">10</span>)        │      <span style=\"color: #00af00; text-decoration-color: #00af00\">1,290</span> │ dense_1[<span style=\"color: #00af00; text-decoration-color: #00af00\">0</span>][<span style=\"color: #00af00; text-decoration-color: #00af00\">0</span>]     │\n",
              "│ (<span style=\"color: #0087ff; text-decoration-color: #0087ff\">Dense</span>)             │                   │            │                   │\n",
              "├─────────────────────┼───────────────────┼────────────┼───────────────────┤\n",
              "│ bounding_box        │ (<span style=\"color: #00d7ff; text-decoration-color: #00d7ff\">None</span>, <span style=\"color: #00af00; text-decoration-color: #00af00\">4</span>)         │        <span style=\"color: #00af00; text-decoration-color: #00af00\">516</span> │ dense_1[<span style=\"color: #00af00; text-decoration-color: #00af00\">0</span>][<span style=\"color: #00af00; text-decoration-color: #00af00\">0</span>]     │\n",
              "│ (<span style=\"color: #0087ff; text-decoration-color: #0087ff\">Dense</span>)             │                   │            │                   │\n",
              "└─────────────────────┴───────────────────┴────────────┴───────────────────┘\n",
              "</pre>\n"
            ]
          },
          "metadata": {}
        },
        {
          "output_type": "display_data",
          "data": {
            "text/plain": [
              "\u001b[1m Total params: \u001b[0m\u001b[38;5;34m426,638\u001b[0m (1.63 MB)\n"
            ],
            "text/html": [
              "<pre style=\"white-space:pre;overflow-x:auto;line-height:normal;font-family:Menlo,'DejaVu Sans Mono',consolas,'Courier New',monospace\"><span style=\"font-weight: bold\"> Total params: </span><span style=\"color: #00af00; text-decoration-color: #00af00\">426,638</span> (1.63 MB)\n",
              "</pre>\n"
            ]
          },
          "metadata": {}
        },
        {
          "output_type": "display_data",
          "data": {
            "text/plain": [
              "\u001b[1m Trainable params: \u001b[0m\u001b[38;5;34m426,638\u001b[0m (1.63 MB)\n"
            ],
            "text/html": [
              "<pre style=\"white-space:pre;overflow-x:auto;line-height:normal;font-family:Menlo,'DejaVu Sans Mono',consolas,'Courier New',monospace\"><span style=\"font-weight: bold\"> Trainable params: </span><span style=\"color: #00af00; text-decoration-color: #00af00\">426,638</span> (1.63 MB)\n",
              "</pre>\n"
            ]
          },
          "metadata": {}
        },
        {
          "output_type": "display_data",
          "data": {
            "text/plain": [
              "\u001b[1m Non-trainable params: \u001b[0m\u001b[38;5;34m0\u001b[0m (0.00 B)\n"
            ],
            "text/html": [
              "<pre style=\"white-space:pre;overflow-x:auto;line-height:normal;font-family:Menlo,'DejaVu Sans Mono',consolas,'Courier New',monospace\"><span style=\"font-weight: bold\"> Non-trainable params: </span><span style=\"color: #00af00; text-decoration-color: #00af00\">0</span> (0.00 B)\n",
              "</pre>\n"
            ]
          },
          "metadata": {}
        }
      ]
    },
    {
      "cell_type": "markdown",
      "source": [
        "## 5. Train and Validate The Model"
      ],
      "metadata": {
        "id": "BBAgFIxtD9ZS"
      }
    },
    {
      "cell_type": "code",
      "source": [
        "EPOCHS = 20\n",
        "# EPOCHS = 5\n",
        "\n",
        "steps_per_epoch = 60000 // BATCH_SIZE\n",
        "history = model.fit(training_dataset ,\n",
        "                    epochs = EPOCHS ,\n",
        "                    steps_per_epoch = steps_per_epoch ,\n",
        "                    validation_data = validation_dataset ,\n",
        "                    validation_steps = 1)\n",
        "\n",
        "loss , classification_loss , bbox_loss , classification_accuracy , bbox_accuracy = model.evaluate(validation_dataset , steps = 1)\n",
        "\n"
      ],
      "metadata": {
        "colab": {
          "base_uri": "https://localhost:8080/"
        },
        "id": "bgTda1XoDP6S",
        "outputId": "2927f428-78d4-4838-df79-e3934dc36733"
      },
      "execution_count": 80,
      "outputs": [
        {
          "output_type": "stream",
          "name": "stdout",
          "text": [
            "Epoch 1/20\n",
            "\u001b[1m937/937\u001b[0m \u001b[32m━━━━━━━━━━━━━━━━━━━━\u001b[0m\u001b[37m\u001b[0m \u001b[1m20s\u001b[0m 20ms/step - bounding_box_loss: 0.0232 - bounding_box_mse: 0.0232 - classification_accuracy: 0.3691 - classification_loss: 1.6936 - loss: 1.7168 - val_bounding_box_loss: 0.0087 - val_bounding_box_mse: 0.0087 - val_classification_accuracy: 0.9125 - val_classification_loss: 0.2977 - val_loss: 0.3064\n",
            "Epoch 2/20\n",
            "\u001b[1m937/937\u001b[0m \u001b[32m━━━━━━━━━━━━━━━━━━━━\u001b[0m\u001b[37m\u001b[0m \u001b[1m17s\u001b[0m 18ms/step - bounding_box_loss: 0.0074 - bounding_box_mse: 0.0074 - classification_accuracy: 0.9084 - classification_loss: 0.2997 - loss: 0.3070 - val_bounding_box_loss: 0.0046 - val_bounding_box_mse: 0.0046 - val_classification_accuracy: 0.9470 - val_classification_loss: 0.1803 - val_loss: 0.1849\n",
            "Epoch 3/20\n",
            "\u001b[1m937/937\u001b[0m \u001b[32m━━━━━━━━━━━━━━━━━━━━\u001b[0m\u001b[37m\u001b[0m \u001b[1m19s\u001b[0m 20ms/step - bounding_box_loss: 0.0040 - bounding_box_mse: 0.0040 - classification_accuracy: 0.9367 - classification_loss: 0.2080 - loss: 0.2121 - val_bounding_box_loss: 0.0029 - val_bounding_box_mse: 0.0029 - val_classification_accuracy: 0.9502 - val_classification_loss: 0.1649 - val_loss: 0.1678\n",
            "Epoch 4/20\n",
            "\u001b[1m937/937\u001b[0m \u001b[32m━━━━━━━━━━━━━━━━━━━━\u001b[0m\u001b[37m\u001b[0m \u001b[1m20s\u001b[0m 21ms/step - bounding_box_loss: 0.0027 - bounding_box_mse: 0.0027 - classification_accuracy: 0.9475 - classification_loss: 0.1718 - loss: 0.1745 - val_bounding_box_loss: 0.0021 - val_bounding_box_mse: 0.0021 - val_classification_accuracy: 0.9607 - val_classification_loss: 0.1248 - val_loss: 0.1269\n",
            "Epoch 5/20\n",
            "\u001b[1m937/937\u001b[0m \u001b[32m━━━━━━━━━━━━━━━━━━━━\u001b[0m\u001b[37m\u001b[0m \u001b[1m21s\u001b[0m 23ms/step - bounding_box_loss: 0.0022 - bounding_box_mse: 0.0022 - classification_accuracy: 0.9572 - classification_loss: 0.1434 - loss: 0.1456 - val_bounding_box_loss: 0.0018 - val_bounding_box_mse: 0.0018 - val_classification_accuracy: 0.9588 - val_classification_loss: 0.1355 - val_loss: 0.1373\n",
            "Epoch 6/20\n",
            "\u001b[1m937/937\u001b[0m \u001b[32m━━━━━━━━━━━━━━━━━━━━\u001b[0m\u001b[37m\u001b[0m \u001b[1m17s\u001b[0m 19ms/step - bounding_box_loss: 0.0018 - bounding_box_mse: 0.0018 - classification_accuracy: 0.9598 - classification_loss: 0.1307 - loss: 0.1325 - val_bounding_box_loss: 0.0015 - val_bounding_box_mse: 0.0015 - val_classification_accuracy: 0.9707 - val_classification_loss: 0.0947 - val_loss: 0.0962\n",
            "Epoch 7/20\n",
            "\u001b[1m937/937\u001b[0m \u001b[32m━━━━━━━━━━━━━━━━━━━━\u001b[0m\u001b[37m\u001b[0m \u001b[1m19s\u001b[0m 20ms/step - bounding_box_loss: 0.0015 - bounding_box_mse: 0.0015 - classification_accuracy: 0.9663 - classification_loss: 0.1109 - loss: 0.1124 - val_bounding_box_loss: 0.0014 - val_bounding_box_mse: 0.0014 - val_classification_accuracy: 0.9692 - val_classification_loss: 0.0968 - val_loss: 0.0982\n",
            "Epoch 8/20\n",
            "\u001b[1m937/937\u001b[0m \u001b[32m━━━━━━━━━━━━━━━━━━━━\u001b[0m\u001b[37m\u001b[0m \u001b[1m17s\u001b[0m 18ms/step - bounding_box_loss: 0.0013 - bounding_box_mse: 0.0013 - classification_accuracy: 0.9672 - classification_loss: 0.1066 - loss: 0.1079 - val_bounding_box_loss: 0.0011 - val_bounding_box_mse: 0.0011 - val_classification_accuracy: 0.9780 - val_classification_loss: 0.0713 - val_loss: 0.0723\n",
            "Epoch 9/20\n",
            "\u001b[1m937/937\u001b[0m \u001b[32m━━━━━━━━━━━━━━━━━━━━\u001b[0m\u001b[37m\u001b[0m \u001b[1m18s\u001b[0m 19ms/step - bounding_box_loss: 0.0012 - bounding_box_mse: 0.0012 - classification_accuracy: 0.9715 - classification_loss: 0.0959 - loss: 0.0970 - val_bounding_box_loss: 0.0011 - val_bounding_box_mse: 0.0011 - val_classification_accuracy: 0.9735 - val_classification_loss: 0.0839 - val_loss: 0.0849\n",
            "Epoch 10/20\n",
            "\u001b[1m937/937\u001b[0m \u001b[32m━━━━━━━━━━━━━━━━━━━━\u001b[0m\u001b[37m\u001b[0m \u001b[1m17s\u001b[0m 18ms/step - bounding_box_loss: 0.0011 - bounding_box_mse: 0.0011 - classification_accuracy: 0.9738 - classification_loss: 0.0866 - loss: 0.0877 - val_bounding_box_loss: 9.7355e-04 - val_bounding_box_mse: 9.7355e-04 - val_classification_accuracy: 0.9778 - val_classification_loss: 0.0713 - val_loss: 0.0722\n",
            "Epoch 11/20\n",
            "\u001b[1m937/937\u001b[0m \u001b[32m━━━━━━━━━━━━━━━━━━━━\u001b[0m\u001b[37m\u001b[0m \u001b[1m19s\u001b[0m 20ms/step - bounding_box_loss: 0.0010 - bounding_box_mse: 0.0010 - classification_accuracy: 0.9752 - classification_loss: 0.0796 - loss: 0.0806 - val_bounding_box_loss: 0.0012 - val_bounding_box_mse: 0.0012 - val_classification_accuracy: 0.9789 - val_classification_loss: 0.0684 - val_loss: 0.0696\n",
            "Epoch 12/20\n",
            "\u001b[1m937/937\u001b[0m \u001b[32m━━━━━━━━━━━━━━━━━━━━\u001b[0m\u001b[37m\u001b[0m \u001b[1m18s\u001b[0m 19ms/step - bounding_box_loss: 9.9171e-04 - bounding_box_mse: 9.9171e-04 - classification_accuracy: 0.9780 - classification_loss: 0.0695 - loss: 0.0705 - val_bounding_box_loss: 8.1433e-04 - val_bounding_box_mse: 8.1433e-04 - val_classification_accuracy: 0.9804 - val_classification_loss: 0.0655 - val_loss: 0.0664\n",
            "Epoch 13/20\n",
            "\u001b[1m937/937\u001b[0m \u001b[32m━━━━━━━━━━━━━━━━━━━━\u001b[0m\u001b[37m\u001b[0m \u001b[1m17s\u001b[0m 18ms/step - bounding_box_loss: 9.4752e-04 - bounding_box_mse: 9.4752e-04 - classification_accuracy: 0.9795 - classification_loss: 0.0673 - loss: 0.0682 - val_bounding_box_loss: 9.9373e-04 - val_bounding_box_mse: 9.9373e-04 - val_classification_accuracy: 0.9819 - val_classification_loss: 0.0556 - val_loss: 0.0566\n",
            "Epoch 14/20\n",
            "\u001b[1m937/937\u001b[0m \u001b[32m━━━━━━━━━━━━━━━━━━━━\u001b[0m\u001b[37m\u001b[0m \u001b[1m21s\u001b[0m 22ms/step - bounding_box_loss: 9.7421e-04 - bounding_box_mse: 9.7421e-04 - classification_accuracy: 0.9806 - classification_loss: 0.0646 - loss: 0.0656 - val_bounding_box_loss: 9.5526e-04 - val_bounding_box_mse: 9.5526e-04 - val_classification_accuracy: 0.9830 - val_classification_loss: 0.0523 - val_loss: 0.0532\n",
            "Epoch 15/20\n",
            "\u001b[1m937/937\u001b[0m \u001b[32m━━━━━━━━━━━━━━━━━━━━\u001b[0m\u001b[37m\u001b[0m \u001b[1m17s\u001b[0m 19ms/step - bounding_box_loss: 9.8036e-04 - bounding_box_mse: 9.8036e-04 - classification_accuracy: 0.9821 - classification_loss: 0.0592 - loss: 0.0602 - val_bounding_box_loss: 0.0011 - val_bounding_box_mse: 0.0011 - val_classification_accuracy: 0.9824 - val_classification_loss: 0.0550 - val_loss: 0.0560\n",
            "Epoch 16/20\n",
            "\u001b[1m937/937\u001b[0m \u001b[32m━━━━━━━━━━━━━━━━━━━━\u001b[0m\u001b[37m\u001b[0m \u001b[1m19s\u001b[0m 20ms/step - bounding_box_loss: 9.7553e-04 - bounding_box_mse: 9.7553e-04 - classification_accuracy: 0.9827 - classification_loss: 0.0553 - loss: 0.0563 - val_bounding_box_loss: 8.5663e-04 - val_bounding_box_mse: 8.5663e-04 - val_classification_accuracy: 0.9846 - val_classification_loss: 0.0487 - val_loss: 0.0496\n",
            "Epoch 17/20\n",
            "\u001b[1m937/937\u001b[0m \u001b[32m━━━━━━━━━━━━━━━━━━━━\u001b[0m\u001b[37m\u001b[0m \u001b[1m17s\u001b[0m 18ms/step - bounding_box_loss: 9.2460e-04 - bounding_box_mse: 9.2460e-04 - classification_accuracy: 0.9832 - classification_loss: 0.0564 - loss: 0.0574 - val_bounding_box_loss: 0.0011 - val_bounding_box_mse: 0.0011 - val_classification_accuracy: 0.9847 - val_classification_loss: 0.0469 - val_loss: 0.0479\n",
            "Epoch 18/20\n",
            "\u001b[1m937/937\u001b[0m \u001b[32m━━━━━━━━━━━━━━━━━━━━\u001b[0m\u001b[37m\u001b[0m \u001b[1m18s\u001b[0m 20ms/step - bounding_box_loss: 9.4493e-04 - bounding_box_mse: 9.4493e-04 - classification_accuracy: 0.9851 - classification_loss: 0.0506 - loss: 0.0516 - val_bounding_box_loss: 0.0011 - val_bounding_box_mse: 0.0011 - val_classification_accuracy: 0.9818 - val_classification_loss: 0.0534 - val_loss: 0.0545\n",
            "Epoch 19/20\n",
            "\u001b[1m937/937\u001b[0m \u001b[32m━━━━━━━━━━━━━━━━━━━━\u001b[0m\u001b[37m\u001b[0m \u001b[1m17s\u001b[0m 18ms/step - bounding_box_loss: 9.3723e-04 - bounding_box_mse: 9.3723e-04 - classification_accuracy: 0.9848 - classification_loss: 0.0492 - loss: 0.0502 - val_bounding_box_loss: 9.9532e-04 - val_bounding_box_mse: 9.9532e-04 - val_classification_accuracy: 0.9881 - val_classification_loss: 0.0376 - val_loss: 0.0386\n",
            "Epoch 20/20\n",
            "\u001b[1m937/937\u001b[0m \u001b[32m━━━━━━━━━━━━━━━━━━━━\u001b[0m\u001b[37m\u001b[0m \u001b[1m17s\u001b[0m 19ms/step - bounding_box_loss: 9.4031e-04 - bounding_box_mse: 9.4031e-04 - classification_accuracy: 0.9854 - classification_loss: 0.0483 - loss: 0.0492 - val_bounding_box_loss: 9.2291e-04 - val_bounding_box_mse: 9.2291e-04 - val_classification_accuracy: 0.9886 - val_classification_loss: 0.0368 - val_loss: 0.0377\n",
            "\u001b[1m1/1\u001b[0m \u001b[32m━━━━━━━━━━━━━━━━━━━━\u001b[0m\u001b[37m\u001b[0m \u001b[1m2s\u001b[0m 2s/step - bounding_box_loss: 9.2530e-04 - bounding_box_mse: 9.2530e-04 - classification_accuracy: 0.9863 - classification_loss: 0.0413 - loss: 0.0422\n"
          ]
        }
      ]
    },
    {
      "cell_type": "code",
      "source": [
        "model.evaluate(validation_dataset , steps = 1)"
      ],
      "metadata": {
        "colab": {
          "base_uri": "https://localhost:8080/"
        },
        "id": "gX19N30LReL8",
        "outputId": "732a23b2-4ba7-44c2-e350-06c4e77848d6"
      },
      "execution_count": 81,
      "outputs": [
        {
          "output_type": "stream",
          "name": "stdout",
          "text": [
            "\u001b[1m1/1\u001b[0m \u001b[32m━━━━━━━━━━━━━━━━━━━━\u001b[0m\u001b[37m\u001b[0m \u001b[1m1s\u001b[0m 1s/step - bounding_box_loss: 9.2510e-04 - bounding_box_mse: 9.2510e-04 - classification_accuracy: 0.9875 - classification_loss: 0.0369 - loss: 0.0379\n"
          ]
        },
        {
          "output_type": "execute_result",
          "data": {
            "text/plain": [
              "[0.03785066679120064,\n",
              " 0.03692556917667389,\n",
              " 0.000925096042919904,\n",
              " 0.000925096042919904,\n",
              " 0.987500011920929]"
            ]
          },
          "metadata": {},
          "execution_count": 81
        }
      ]
    },
    {
      "cell_type": "code",
      "source": [
        "history.history"
      ],
      "metadata": {
        "colab": {
          "base_uri": "https://localhost:8080/"
        },
        "id": "VfLvv0eiZqX1",
        "outputId": "698a361a-2f51-4f4c-aea3-f1e43f5f77f0"
      },
      "execution_count": 82,
      "outputs": [
        {
          "output_type": "execute_result",
          "data": {
            "text/plain": [
              "{'bounding_box_loss': [0.015322445891797543,\n",
              "  0.006175714079290628,\n",
              "  0.0036288585979491472,\n",
              "  0.0025546373799443245,\n",
              "  0.002105463994666934,\n",
              "  0.0017217409331351519,\n",
              "  0.0014288313686847687,\n",
              "  0.0012469200883060694,\n",
              "  0.001137336017563939,\n",
              "  0.0010534960310906172,\n",
              "  0.001009003259241581,\n",
              "  0.0009932368993759155,\n",
              "  0.0009592228452675045,\n",
              "  0.0009855098323896527,\n",
              "  0.0009644917445257306,\n",
              "  0.0009554253192618489,\n",
              "  0.0009473704267293215,\n",
              "  0.0009487582137808204,\n",
              "  0.0009401334100402892,\n",
              "  0.0009236884070560336],\n",
              " 'bounding_box_mse': [0.015322445891797543,\n",
              "  0.006175714079290628,\n",
              "  0.0036288585979491472,\n",
              "  0.0025546373799443245,\n",
              "  0.002105463994666934,\n",
              "  0.0017217409331351519,\n",
              "  0.0014288313686847687,\n",
              "  0.0012469200883060694,\n",
              "  0.001137336017563939,\n",
              "  0.0010534960310906172,\n",
              "  0.001009003259241581,\n",
              "  0.0009932368993759155,\n",
              "  0.0009592228452675045,\n",
              "  0.0009855098323896527,\n",
              "  0.0009644917445257306,\n",
              "  0.0009554253192618489,\n",
              "  0.0009473704267293215,\n",
              "  0.0009487582137808204,\n",
              "  0.0009401334100402892,\n",
              "  0.0009236884070560336],\n",
              " 'classification_accuracy': [0.6208311319351196,\n",
              "  0.9169223308563232,\n",
              "  0.9385172128677368,\n",
              "  0.9480056166648865,\n",
              "  0.956226646900177,\n",
              "  0.9594116806983948,\n",
              "  0.9658317565917969,\n",
              "  0.9680162668228149,\n",
              "  0.9721184372901917,\n",
              "  0.974353015422821,\n",
              "  0.9759371876716614,\n",
              "  0.9779382348060608,\n",
              "  0.9797058701515198,\n",
              "  0.9808064103126526,\n",
              "  0.9821071028709412,\n",
              "  0.9826240539550781,\n",
              "  0.9831910133361816,\n",
              "  0.9846084713935852,\n",
              "  0.9852755069732666,\n",
              "  0.9855256080627441],\n",
              " 'classification_loss': [1.0699044466018677,\n",
              "  0.2747473120689392,\n",
              "  0.20171907544136047,\n",
              "  0.16905318200588226,\n",
              "  0.14374883472919464,\n",
              "  0.13119825720787048,\n",
              "  0.11064158380031586,\n",
              "  0.10408367216587067,\n",
              "  0.09209349006414413,\n",
              "  0.08468732237815857,\n",
              "  0.07756132632493973,\n",
              "  0.07051702588796616,\n",
              "  0.0657656341791153,\n",
              "  0.06197013705968857,\n",
              "  0.05871858447790146,\n",
              "  0.05530249699950218,\n",
              "  0.05524571239948273,\n",
              "  0.051768817007541656,\n",
              "  0.048188306391239166,\n",
              "  0.04622502252459526],\n",
              " 'loss': [1.0852277278900146,\n",
              "  0.2809227705001831,\n",
              "  0.20534776151180267,\n",
              "  0.17160764336585999,\n",
              "  0.14585433900356293,\n",
              "  0.13291993737220764,\n",
              "  0.11207045614719391,\n",
              "  0.10533054172992706,\n",
              "  0.09323078393936157,\n",
              "  0.08574078232049942,\n",
              "  0.07857031375169754,\n",
              "  0.0715102106332779,\n",
              "  0.06672489643096924,\n",
              "  0.06295563280582428,\n",
              "  0.05968303605914116,\n",
              "  0.056257933378219604,\n",
              "  0.05619311332702637,\n",
              "  0.052717551589012146,\n",
              "  0.04912840202450752,\n",
              "  0.047148726880550385],\n",
              " 'val_bounding_box_loss': [0.008680558763444424,\n",
              "  0.004580317530781031,\n",
              "  0.0028680721297860146,\n",
              "  0.0021205854136496782,\n",
              "  0.001814089948311448,\n",
              "  0.0015442370204254985,\n",
              "  0.0014012708561494946,\n",
              "  0.0010520336218178272,\n",
              "  0.001065411139279604,\n",
              "  0.000973554968368262,\n",
              "  0.0011817413615062833,\n",
              "  0.0008143331506289542,\n",
              "  0.0009937274735420942,\n",
              "  0.0009552618721500039,\n",
              "  0.0010507766855880618,\n",
              "  0.0008566340547986329,\n",
              "  0.0010725264437496662,\n",
              "  0.0010972624877467752,\n",
              "  0.000995321199297905,\n",
              "  0.0009229087154380977],\n",
              " 'val_bounding_box_mse': [0.008680558763444424,\n",
              "  0.004580317530781031,\n",
              "  0.0028680721297860146,\n",
              "  0.0021205854136496782,\n",
              "  0.001814089948311448,\n",
              "  0.0015442370204254985,\n",
              "  0.0014012708561494946,\n",
              "  0.0010520336218178272,\n",
              "  0.001065411139279604,\n",
              "  0.000973554968368262,\n",
              "  0.0011817413615062833,\n",
              "  0.0008143331506289542,\n",
              "  0.0009937274735420942,\n",
              "  0.0009552618721500039,\n",
              "  0.0010507766855880618,\n",
              "  0.0008566340547986329,\n",
              "  0.0010725264437496662,\n",
              "  0.0010972624877467752,\n",
              "  0.000995321199297905,\n",
              "  0.0009229087154380977],\n",
              " 'val_classification_accuracy': [0.9125000238418579,\n",
              "  0.9470000267028809,\n",
              "  0.9502000212669373,\n",
              "  0.9606999754905701,\n",
              "  0.9588000178337097,\n",
              "  0.9707000255584717,\n",
              "  0.9692000150680542,\n",
              "  0.9779999852180481,\n",
              "  0.9735000133514404,\n",
              "  0.9778000116348267,\n",
              "  0.9789000153541565,\n",
              "  0.980400025844574,\n",
              "  0.9818999767303467,\n",
              "  0.9829999804496765,\n",
              "  0.9824000000953674,\n",
              "  0.9846000075340271,\n",
              "  0.9847000241279602,\n",
              "  0.9818000197410583,\n",
              "  0.988099992275238,\n",
              "  0.9886000156402588],\n",
              " 'val_classification_loss': [0.29773080348968506,\n",
              "  0.18033026158809662,\n",
              "  0.16488751769065857,\n",
              "  0.12475918233394623,\n",
              "  0.135451540350914,\n",
              "  0.09470534324645996,\n",
              "  0.09676298499107361,\n",
              "  0.07125165313482285,\n",
              "  0.08386121690273285,\n",
              "  0.07127588987350464,\n",
              "  0.0683843120932579,\n",
              "  0.06553810089826584,\n",
              "  0.05562598258256912,\n",
              "  0.05228547379374504,\n",
              "  0.05496111884713173,\n",
              "  0.048721540719270706,\n",
              "  0.04686182364821434,\n",
              "  0.0533544085919857,\n",
              "  0.037594038993120193,\n",
              "  0.03679691627621651],\n",
              " 'val_loss': [0.30641135573387146,\n",
              "  0.1849105805158615,\n",
              "  0.167755588889122,\n",
              "  0.1268797665834427,\n",
              "  0.1372656375169754,\n",
              "  0.09624958038330078,\n",
              "  0.09816425293684006,\n",
              "  0.07230369001626968,\n",
              "  0.08492662757635117,\n",
              "  0.07224944233894348,\n",
              "  0.06956605613231659,\n",
              "  0.06635243445634842,\n",
              "  0.056619707494974136,\n",
              "  0.053240735083818436,\n",
              "  0.05601189658045769,\n",
              "  0.04957817494869232,\n",
              "  0.04793434962630272,\n",
              "  0.05445167422294617,\n",
              "  0.03858935832977295,\n",
              "  0.03771982342004776]}"
            ]
          },
          "metadata": {},
          "execution_count": 82
        }
      ]
    },
    {
      "cell_type": "code",
      "source": [
        "plot_metrics(\"bounding_box_mse\" , \"Bounding Box MSE\")"
      ],
      "metadata": {
        "colab": {
          "base_uri": "https://localhost:8080/",
          "height": 452
        },
        "id": "NgBoldFOVWzz",
        "outputId": "acf143bf-22b6-42bf-c775-96ada1f0b684"
      },
      "execution_count": 83,
      "outputs": [
        {
          "output_type": "display_data",
          "data": {
            "text/plain": [
              "<Figure size 640x480 with 1 Axes>"
            ],
            "image/png": "[encoded data removed]"
          },
          "metadata": {}
        }
      ]
    },
    {
      "cell_type": "code",
      "source": [
        "plot_metrics(\"classification_accuracy\" , \"Bounding Box MSE\")"
      ],
      "metadata": {
        "colab": {
          "base_uri": "https://localhost:8080/",
          "height": 452
        },
        "id": "4TeCiyrAXCH3",
        "outputId": "9bbfb30d-2217-4e45-9c5c-d3aade20ba52"
      },
      "execution_count": 84,
      "outputs": [
        {
          "output_type": "display_data",
          "data": {
            "text/plain": [
              "<Figure size 640x480 with 1 Axes>"
            ],
            "image/png": "[encoded data removed]"
          },
          "metadata": {}
        }
      ]
    },
    {
      "cell_type": "code",
      "source": [
        "plot_metrics(\"classification_loss\" , \"Classification Loss\")"
      ],
      "metadata": {
        "colab": {
          "base_uri": "https://localhost:8080/",
          "height": 452
        },
        "id": "YCiBdXuwXm4f",
        "outputId": "34d78d40-0ec7-4b77-fd8c-8adddc7275c1"
      },
      "execution_count": 85,
      "outputs": [
        {
          "output_type": "display_data",
          "data": {
            "text/plain": [
              "<Figure size 640x480 with 1 Axes>"
            ],
            "image/png": "[encoded data removed]"
          },
          "metadata": {}
        }
      ]
    },
    {
      "cell_type": "code",
      "source": [
        "# Bounding box eval\n",
        "def intersection_over_union(pred_box , true_box):\n",
        "  xmin_pred , ymin_pred , xmax_pred , ymax_pred = np.split(pred_box , 4 , axis = 1)\n",
        "  xmin_true , ymin_true , xmax_true , ymax_true = np.split(true_box , 4 , axis = 1)\n",
        "\n",
        "  smoothing_factor = 1e-10\n",
        "  xmin_overlap = np.maximum(xmin_pred , xmin_true)\n",
        "  xmax_overlap = np.minimum(xmax_pred , xmax_true)\n",
        "  ymin_overlap = np.maximum(ymin_pred , ymin_true)\n",
        "  ymax_overlap = np.minimum(ymax_pred , ymax_true)\n",
        "\n",
        "  pred_box_area = (xmax_pred - xmin_pred) * (ymax_pred - ymin_pred)\n",
        "  true_box_area = (xmax_true - xmin_true) * (ymax_true - ymin_true)\n",
        "\n",
        "  overlap_area = np.maximum(0 , xmax_overlap - xmin_overlap) * np.maximum(0 , ymax_overlap - ymin_overlap)\n",
        "  union_area = pred_box_area + true_box_area - overlap_area\n",
        "\n",
        "  iou = overlap_area / (union_area + smoothing_factor)\n",
        "\n",
        "  return iou"
      ],
      "metadata": {
        "id": "gI8fse5KOh_E"
      },
      "execution_count": 86,
      "outputs": []
    },
    {
      "cell_type": "code",
      "source": [
        "prediction = model.predict(validation_digits , batch_size = 64 , verbose = 0)\n",
        "\n",
        "prediction_labels = np.argmax(prediction[0] , axis = 1)\n",
        "\n",
        "prediction_bboxes = prediction[1]\n",
        "\n",
        "iou = intersection_over_union(prediction_bboxes , validation_bboxes)\n",
        "\n",
        "display_digits_with_boxes(validation_digits ,\n",
        "                          prediction_labels , validation_labels,\n",
        "                          prediction_bboxes , validation_bboxes , iou ,\n",
        "                           \"True and Pred Values\")"
      ],
      "metadata": {
        "colab": {
          "base_uri": "https://localhost:8080/",
          "height": 507
        },
        "id": "USzEZyMZU3I4",
        "outputId": "11797884-1ed0-4a1a-edc0-c66d38f98c28"
      },
      "execution_count": 105,
      "outputs": [
        {
          "output_type": "display_data",
          "data": {
            "text/plain": [
              "<Figure size 2500x800 with 11 Axes>"
            ],
            "image/png": "[encoded data removed]"
          },
          "metadata": {}
        }
      ]
    }
  ]
}