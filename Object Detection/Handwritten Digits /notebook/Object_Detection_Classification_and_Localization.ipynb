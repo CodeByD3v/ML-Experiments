{
  "nbformat": 4,
  "nbformat_minor": 0,
  "metadata": {
    "colab": {
      "provenance": [],
      "gpuType": "T4",
      "authorship_tag": "ABX9TyP6APr0dueSXAqO8I62r5mn"
    },
    "kernelspec": {
      "name": "python3",
      "display_name": "Python 3"
    },
    "language_info": {
      "name": "python"
    },
    "accelerator": "GPU"
  },
  "cells": [
    {
      "cell_type": "markdown",
      "source": [
        "# Object Detection with Classification & Localization"
      ],
      "metadata": {
        "id": "sZq3If3yJG8u"
      }
    },
    {
      "cell_type": "markdown",
      "source": [
        "## 1. Importing Libraries"
      ],
      "metadata": {
        "id": "fbE7DzsUJOl9"
      }
    },
    {
      "cell_type": "code",
      "source": [
        "# Libs\n",
        "import os\n",
        "import numpy as np\n",
        "import matplotlib.pyplot as plt\n",
        "# image processing\n",
        "import PIL.Image , PIL.ImageFont , PIL.ImageDraw"
      ],
      "metadata": {
        "id": "JFv2CJpBJOSl"
      },
      "execution_count": 54,
      "outputs": []
    },
    {
      "cell_type": "code",
      "execution_count": 55,
      "metadata": {
        "id": "jK-M-6KXHrJv"
      },
      "outputs": [],
      "source": [
        "# Tensorflow Utils\n",
        "import tensorflow as tf\n",
        "import tensorflow_datasets as tfds"
      ]
    },
    {
      "cell_type": "markdown",
      "source": [
        "## 2. Visualization Utilities"
      ],
      "metadata": {
        "id": "QbW5gM4_JpMD"
      }
    },
    {
      "cell_type": "code",
      "source": [
        "def get_strategy():\n",
        "    try:\n",
        "\n",
        "        resolver = tf.distribute.cluster_resolver.TPUClusterResolver()\n",
        "        tf.config.experimental_connect_to_cluster(resolver)\n",
        "        tf.tpu.experimental.initialize_tpu_system(resolver)\n",
        "        print(\"TPU detected and initialized\")\n",
        "        return tf.distribute.TPUStrategy(resolver)\n",
        "\n",
        "    except:\n",
        "\n",
        "        gpus = tf.config.list_physical_devices('GPU')\n",
        "\n",
        "        if gpus:\n",
        "            print(f\"GPU detected: {len(gpus)} available\")\n",
        "            return tf.distribute.MirroredStrategy()\n",
        "\n",
        "        else:\n",
        "            print(\"No GPU/TPU found, using CPU\")\n",
        "            return tf.distribute.get_strategy()\n",
        "\n",
        "# Pick the best strategy automatically\n",
        "strategy = get_strategy()"
      ],
      "metadata": {
        "colab": {
          "base_uri": "https://localhost:8080/"
        },
        "id": "AvjnPXxhSRSb",
        "outputId": "4118aedc-6816-44ba-d429-37a39bede789"
      },
      "execution_count": 56,
      "outputs": [
        {
          "output_type": "stream",
          "name": "stdout",
          "text": [
            "GPU detected: 1 available\n"
          ]
        }
      ]
    },
    {
      "cell_type": "code",
      "source": [
        "# Image properties\n",
        "im_width = 75\n",
        "im_height = 75\n",
        "use_normalized_coordinates = True"
      ],
      "metadata": {
        "id": "K5XAVLlCJotO"
      },
      "execution_count": 57,
      "outputs": []
    },
    {
      "cell_type": "code",
      "source": [
        "# Bounding Boxes\n",
        "def draw_bounding_box_on_image(image, ymin, xmin, ymax, xmax,\n",
        "                               color='red', display_str_list=None,\n",
        "                               thickness=1, use_normalized_coordinates=True):\n",
        "    draw = PIL.ImageDraw.Draw(image)\n",
        "    im_width, im_height = image.size\n",
        "\n",
        "    if use_normalized_coordinates:\n",
        "        (left, right, top, bottom) = (xmin * im_width,\n",
        "                                      xmax * im_width,\n",
        "                                      ymin * im_height,\n",
        "                                      ymax * im_height)\n",
        "    else:\n",
        "        (left, right, top, bottom) = (xmin, xmax, ymin, ymax)\n",
        "\n",
        "    # draw box\n",
        "    draw.line([(left, top), (left, bottom),\n",
        "               (right, bottom), (right, top), (left, top)],\n",
        "              width=thickness, fill=color)\n",
        "\n",
        "\n",
        "def draw_bounding_boxes_on_image(image, boxes, color=None, thickness=1, display_str_list=()):\n",
        "    boxes_shape = boxes.shape\n",
        "\n",
        "    if not boxes_shape:\n",
        "        return\n",
        "    if len(boxes_shape) != 2 or boxes_shape[-1] != 4:\n",
        "        raise ValueError('Input must be of size [N,4]')\n",
        "\n",
        "    for i in range(boxes_shape[0]):\n",
        "        # pick color safely\n",
        "        if isinstance(color, (list, tuple)) and len(color) > i:\n",
        "            c = color[i]\n",
        "        elif isinstance(color, str):\n",
        "            c = color\n",
        "        else:\n",
        "            c = \"red\"   # default\n",
        "\n",
        "        # pick display string safely\n",
        "        d = display_str_list[i] if len(display_str_list) > i else None\n",
        "\n",
        "        draw_bounding_box_on_image(\n",
        "            image,\n",
        "            boxes[i, 1], boxes[i, 0], boxes[i, 3], boxes[i, 2],\n",
        "            color=c,\n",
        "            display_str_list=d,\n",
        "            thickness=thickness\n",
        "        )\n",
        "\n",
        "\n",
        "# Drawing bounding on numpy array image\n",
        "def draw_bounding_boxes_on_image_array(image, boxes, color=None, thickness=1, display_str_list=()):\n",
        "    image_pil = PIL.Image.fromarray(image)\n",
        "    rgbimg = PIL.Image.new(\"RGBA\", image_pil.size)\n",
        "    rgbimg.paste(image_pil)\n",
        "\n",
        "    draw_bounding_boxes_on_image(rgbimg, boxes, color, thickness, display_str_list)\n",
        "    return np.array(rgbimg)\n",
        "\n"
      ],
      "metadata": {
        "id": "CLk-sDH-tW7x"
      },
      "execution_count": 58,
      "outputs": []
    },
    {
      "cell_type": "code",
      "source": [
        "# Long Execution Time\n",
        "def dataset_to_numpy_util(training_dataset , validation_dataset):\n",
        "\n",
        "  if tf.executing_eagerly():\n",
        "    # Training Dataset\n",
        "    for training_digits , (training_labels , training_bboxes) in training_dataset :\n",
        "      training_digits = training_digits.numpy()\n",
        "      training_labels = training_labels.numpy()\n",
        "      training_bboxes = training_bboxes.numpy()\n",
        "\n",
        "    # Validation Dataset\n",
        "    for validation_digits , (validation_labels , validation_bboxes) in validation_dataset :\n",
        "      validation_digits = validation_digits.numpy()\n",
        "      validation_labels = validation_labels.numpy()\n",
        "      validation_bboxes = validation_bboxes.numpy()\n",
        "\n",
        "\n",
        "  return (training_digits , training_labels , training_bboxes ,\n",
        "          validation_digits , validation_labels , validation_bboxes)\n",
        "\n",
        "\n",
        "# Shorter Execution Time\n",
        "def dataset_to_numpy_fast(training_dataset, validation_dataset, N):\n",
        "    # Unbatch so each element is a single sample\n",
        "    training_dataset = training_dataset.unbatch()\n",
        "    validation_dataset = validation_dataset.unbatch()\n",
        "\n",
        "    train_data = list(training_dataset.take(N))\n",
        "    val_data   = list(validation_dataset.take(N))\n",
        "\n",
        "    training_digits  = np.stack([x[0].numpy() for x in train_data])\n",
        "    training_labels  = np.stack([x[1][0].numpy() for x in train_data])\n",
        "    training_bboxes  = np.stack([x[1][1].numpy() for x in train_data])\n",
        "\n",
        "    validation_digits = np.stack([x[0].numpy() for x in val_data])\n",
        "    validation_labels = np.stack([x[1][0].numpy() for x in val_data])\n",
        "    validation_bboxes = np.stack([x[1][1].numpy() for x in val_data])\n",
        "\n",
        "    return (training_digits, training_labels, training_bboxes,\n",
        "            validation_digits, validation_labels, validation_bboxes)"
      ],
      "metadata": {
        "id": "cv5Xv4yNdoX1"
      },
      "execution_count": 59,
      "outputs": []
    },
    {
      "cell_type": "code",
      "source": [
        "# Generating synthetic digit images from fonts\n",
        "MATPLOTLIB_FONT_DIR = os.path.join(os.path.dirname(plt.__file__), \"mpl-data/fonts/ttf\")\n",
        "\n",
        "# n - number of images to be created\n",
        "def create_digits_from_local_fonts(n):\n",
        "  # font\n",
        "  font_labels = []\n",
        "  img = PIL.Image.new(\"LA\" , ( 75, 75 * n ) , color =  (0 , 255))\n",
        "  font1 = PIL.ImageFont.truetype(os.path.join(MATPLOTLIB_FONT_DIR, 'DejaVuSansMono-Oblique.ttf'), 25)\n",
        "  font2 = PIL.ImageFont.truetype(os.path.join(MATPLOTLIB_FONT_DIR, 'STIXGeneral.ttf'), 25)\n",
        "\n",
        "  # Draw images\n",
        "  draw = PIL.ImageDraw.Draw(img)\n",
        "  for i in range(n):\n",
        "      font_labels.append(i % 10)\n",
        "      draw.text((7 + i*75, 0 if i < 10 else -4),\n",
        "            str(i % 10),\n",
        "            fill=(255,255),\n",
        "            font=font1 if i < 10 else font2)\n",
        "\n",
        "  font_digits = np.array(img.getdata(), np.float32)[:,0] / 255.0\n",
        "\n",
        "\n",
        "  font_digits = np.reshape(\n",
        "    np.stack(\n",
        "        np.split(\n",
        "            np.reshape(font_digits, [75, 75*n]),\n",
        "            n, axis=1\n",
        "        ),\n",
        "        axis=0\n",
        "    ),\n",
        "    [n, 75*75]\n",
        "  )\n",
        "\n",
        "\n",
        "  return font_digits , font_labels\n"
      ],
      "metadata": {
        "id": "SmUFBoUeDuQM"
      },
      "execution_count": 60,
      "outputs": []
    },
    {
      "cell_type": "code",
      "source": [
        "# # For displaying digits with boundingboxes\n",
        "# def display_digits_with_boxes(digits, predictions, labels, pred_bboxes, bboxes, iou ,title):\n",
        "\n",
        "#     #\n",
        "#     iou_threshold = 0.6\n",
        "#     # 10 images\n",
        "#     n = 10\n",
        "#     # randomly choosing\n",
        "#     indexes = np.random.choice(len(predictions), size=n)\n",
        "\n",
        "#     n_digits = digits[indexes]\n",
        "#     n_predictions = predictions[indexes]\n",
        "#     n_labels = labels[indexes]\n",
        "\n",
        "#     n_iou = []\n",
        "#     if len(iou) > 0:\n",
        "#         n_iou = iou[indexes]\n",
        "\n",
        "#     if len(pred_bboxes) > 0:\n",
        "#         n_pred_bboxes = pred_bboxes[indexes]\n",
        "\n",
        "#     if len(bboxes) > 0:\n",
        "#         n_bboxes = bboxes[indexes]\n",
        "\n",
        "#     n_digits = n_digits * 255.0\n",
        "#     n_digits = n_digits.reshape(n, 75, 75)\n",
        "\n",
        "#     fig = plt.figure(figsize=(25, 8))\n",
        "#     plt.title(title)\n",
        "#     plt.xticks([])\n",
        "#     plt.yticks([])\n",
        "\n",
        "\n",
        "#     for i in range(10):\n",
        "\n",
        "#         ax = fig.add_subplot(1, 10, i + 1)\n",
        "#         bboxes_to_plot = []\n",
        "\n",
        "#         if (len(pred_bboxes) > i):\n",
        "#             bboxes_to_plot.append(n_pred_bboxes[i])\n",
        "\n",
        "#         if (len(bboxes) > i):\n",
        "#             bboxes_to_plot.append(n_bboxes[i])\n",
        "\n",
        "#         img_to_draw = draw_bounding_boxes_on_image_array(\n",
        "#             image=n_digits[i],\n",
        "#             boxes=np.asarray(bboxes_to_plot),\n",
        "#             color=['red', 'green'],\n",
        "#             display_str_list=['True', 'Pred']\n",
        "#         )\n",
        "\n",
        "#         plt.xlabel(n_predictions[i])\n",
        "#         plt.xticks([])\n",
        "#         plt.yticks([])\n",
        "\n",
        "#         if np.argmax(n_predictions[i]) != np.argmax(n_labels[i]):\n",
        "#           ax.xaxis.label.set_color('red')\n",
        "\n",
        "#         plt.imshow(img_to_draw)\n",
        "#         plt.tight_layout()\n",
        "#         if len(iou) > i:\n",
        "#             color = \"black\"\n",
        "#             if (n_iou[i][0] < iou_threshold):\n",
        "#                 color = \"red\"\n",
        "#             ax.text(0.2, -0.3, \"iou: %s\" % (n_iou[i][0]), color=color, transform=ax.transAxes)"
      ],
      "metadata": {
        "id": "fZlHiWLqQB_2"
      },
      "execution_count": 61,
      "outputs": []
    },
    {
      "cell_type": "code",
      "source": [
        "def display_digits_with_boxes(digits, predictions, labels, pred_bboxes, bboxes, iou, title):\n",
        "    iou_threshold = 0.6\n",
        "    n = 10\n",
        "    indexes = np.random.choice(len(predictions), size=n, replace=False)\n",
        "\n",
        "    n_digits = digits[indexes]\n",
        "    n_predictions = predictions[indexes]\n",
        "    n_labels = labels[indexes]\n",
        "\n",
        "    n_iou = iou[indexes] if len(iou) > 0 else []\n",
        "    n_pred_bboxes = pred_bboxes[indexes] if len(pred_bboxes) > 0 else []\n",
        "    n_bboxes = bboxes[indexes] if len(bboxes) > 0 else []\n",
        "\n",
        "    n_digits = n_digits * 255.0\n",
        "    n_digits = n_digits.reshape(n, 75, 75)\n",
        "\n",
        "    fig = plt.figure(figsize=(25, 8))\n",
        "    plt.title(title)\n",
        "    plt.xticks([])\n",
        "    plt.yticks([])\n",
        "\n",
        "    for i in range(n):\n",
        "        ax = fig.add_subplot(1, n, i + 1)\n",
        "        bboxes_to_plot = []\n",
        "        colors = []\n",
        "        display_strs = []\n",
        "\n",
        "        if len(n_pred_bboxes) > i:\n",
        "            bboxes_to_plot.append(n_pred_bboxes[i])\n",
        "            colors.append('red')\n",
        "            display_strs.append('Pred')\n",
        "        if len(n_bboxes) > i:\n",
        "            bboxes_to_plot.append(n_bboxes[i])\n",
        "            colors.append('green')\n",
        "            display_strs.append('True')\n",
        "\n",
        "        img_to_draw = draw_bounding_boxes_on_image_array(\n",
        "            image=n_digits[i].astype(np.uint8),\n",
        "            boxes=np.asarray(bboxes_to_plot),\n",
        "            color=colors,\n",
        "            display_str_list=display_strs\n",
        "        )\n",
        "\n",
        "        # Get predicted and true label as class index\n",
        "        pred_label = np.argmax(n_predictions[i]) if n_predictions[i].ndim > 0 else n_predictions[i]\n",
        "        true_label = np.argmax(n_labels[i]) if n_labels[i].ndim > 0 else n_labels[i]\n",
        "        ax.set_xlabel(f\"P:{pred_label} / T:{true_label}\")\n",
        "        if pred_label != true_label:\n",
        "            ax.xaxis.label.set_color('red')\n",
        "\n",
        "        plt.xticks([])\n",
        "        plt.yticks([])\n",
        "        plt.imshow(img_to_draw)\n",
        "        plt.tight_layout()\n",
        "\n",
        "        if len(n_iou) > i:\n",
        "            color = \"black\" if n_iou[i][0] >= iou_threshold else \"red\"\n",
        "            ax.text(0.2, -0.3, f\"iou: {n_iou[i][0]:.2f}\", color=color, transform=ax.transAxes)"
      ],
      "metadata": {
        "id": "V03FjgxnPsfQ"
      },
      "execution_count": 72,
      "outputs": []
    },
    {
      "cell_type": "code",
      "source": [
        "# Plot Metrics / Evaluation\n",
        "def plot_metrics(metrics_name , title) :\n",
        "  plt.title(title)\n",
        "  plt.plot(history.history[metrics_name] , label = metrics_name)\n",
        "  plt.plot(history.history[\"val_\" + metrics_name] , label = \"val_\" + metrics_name)\n",
        "  plt.legend()\n",
        "  plt.show()"
      ],
      "metadata": {
        "id": "VBr_1tA0L2Dh"
      },
      "execution_count": 63,
      "outputs": []
    },
    {
      "cell_type": "markdown",
      "source": [
        "## 3. Loading & Preprocessing Dataset"
      ],
      "metadata": {
        "id": "A1Lqj4xFONkS"
      }
    },
    {
      "cell_type": "code",
      "source": [
        "# strategy = tf.distribute.get_strategy()\n",
        "# List available devices\n",
        "\n",
        "# resolver = tf.distribute.cluster_resolver.TPUClusterResolver()\n",
        "# tf.config.experimental_connect_to_cluster(resolver)\n",
        "# tf.tpu.experimental.initialize_tpu_system(resolver)\n",
        "# strategy = tf.distribute.TPUStrategy(resolver)\n",
        "# print(\"All devices: \", tf.config.list_logical_devices('TPU'))\n"
      ],
      "metadata": {
        "id": "azAW_tisOVsY"
      },
      "execution_count": 64,
      "outputs": []
    },
    {
      "cell_type": "code",
      "source": [
        "# Batch size\n",
        "\n",
        "BATCH_SIZE = 64*strategy.num_replicas_in_sync"
      ],
      "metadata": {
        "id": "LtxVQBrDOjZR"
      },
      "execution_count": 65,
      "outputs": []
    },
    {
      "cell_type": "code",
      "source": [
        "def read_image_tfds(image, label):\n",
        "\n",
        "    xmin = tf.random.uniform((), 0, 48, dtype=tf.int32)\n",
        "    ymin = tf.random.uniform((), 0, 48, dtype=tf.int32)\n",
        "\n",
        "    image = tf.reshape(image, (28,28,1))\n",
        "\n",
        "\n",
        "    image = tf.image.pad_to_bounding_box(image, ymin, xmin, 75, 75)\n",
        "\n",
        "    image = tf.cast(image, tf.float32) / 255.0\n",
        "\n",
        "    xmax = (xmin + 28) / 75\n",
        "    ymax = (ymin + 28) / 75\n",
        "    xmin = xmin / 75\n",
        "    ymin = ymin / 75\n",
        "\n",
        "    return image, (tf.one_hot(label, 10), [xmin, ymin, xmax, ymax])\n",
        "\n"
      ],
      "metadata": {
        "id": "SEtredSQOwzk"
      },
      "execution_count": 66,
      "outputs": []
    },
    {
      "cell_type": "code",
      "source": [
        "# Training Dataset\n",
        "def get_training_dataset():\n",
        "    with strategy.scope():\n",
        "        dataset = tfds.load(\"mnist\", split=\"train\", as_supervised=True, try_gcs=True)\n",
        "        dataset = dataset.map(read_image_tfds, num_parallel_calls=16)\n",
        "        dataset = dataset.shuffle(5000, reshuffle_each_iteration=True)\n",
        "        dataset = dataset.repeat()\n",
        "        dataset = dataset.batch(BATCH_SIZE, drop_remainder=True)\n",
        "        dataset = dataset.prefetch(-1)\n",
        "        return dataset"
      ],
      "metadata": {
        "id": "nvfKj--sc0zZ"
      },
      "execution_count": 67,
      "outputs": []
    },
    {
      "cell_type": "code",
      "source": [
        "# Validation Dataset\n",
        "def get_validation_dataset():\n",
        "    with strategy.scope():\n",
        "        dataset = tfds.load(\"mnist\", split=\"test\", as_supervised=True, try_gcs=True)\n",
        "        dataset = dataset.map(read_image_tfds, num_parallel_calls=16)\n",
        "        dataset = dataset.repeat()\n",
        "        dataset = dataset.batch(10000, drop_remainder=True)\n",
        "        return dataset\n"
      ],
      "metadata": {
        "id": "OfE7uMtUfA42"
      },
      "execution_count": 68,
      "outputs": []
    },
    {
      "cell_type": "code",
      "source": [
        "# datasets\n",
        "with strategy.scope():\n",
        "    training_dataset = get_training_dataset()\n",
        "    validation_dataset = get_validation_dataset()"
      ],
      "metadata": {
        "id": "cUn8ptZyffkF"
      },
      "execution_count": 69,
      "outputs": []
    },
    {
      "cell_type": "code",
      "source": [
        "(training_digits , training_labels , training_bboxes ,\n",
        " validation_digits , validation_labels , validation_bboxes) = dataset_to_numpy_fast(training_dataset , validation_dataset , 10)"
      ],
      "metadata": {
        "id": "fKLroMpRiAB3"
      },
      "execution_count": 70,
      "outputs": []
    },
    {
      "cell_type": "markdown",
      "source": [
        "### Visualize Data"
      ],
      "metadata": {
        "id": "PFhGTsALkwya"
      }
    },
    {
      "cell_type": "code",
      "source": [
        "display_digits_with_boxes(training_digits , training_labels , training_labels, np.array([]),\n",
        "                          training_bboxes , np.array([]) , \"Training Data\")"
      ],
      "metadata": {
        "colab": {
          "base_uri": "https://localhost:8080/",
          "height": 316
        },
        "id": "zhL_QkJVktgs",
        "outputId": "4bdb5db5-7aa2-4495-bdcb-bfeb617d88c0"
      },
      "execution_count": 73,
      "outputs": [
        {
          "output_type": "display_data",
          "data": {
            "text/plain": [
              "<Figure size 2500x800 with 11 Axes>"
            ],
            "image/png": "[encoded data removed]"
          },
          "metadata": {}
        }
      ]
    },
    {
      "cell_type": "code",
      "source": [
        "print(training_digits.shape , training_labels.shape , training_bboxes.shape )"
      ],
      "metadata": {
        "colab": {
          "base_uri": "https://localhost:8080/"
        },
        "id": "MqC3t94ZNuJ0",
        "outputId": "97a32b33-cbda-4579-a4dc-69fac5fe30b6"
      },
      "execution_count": 74,
      "outputs": [
        {
          "output_type": "stream",
          "name": "stdout",
          "text": [
            "(10, 75, 75, 1) (10, 10) (10, 4)\n"
          ]
        }
      ]
    },
    {
      "cell_type": "code",
      "source": [
        "print(validation_digits.shape , validation_labels.shape , validation_bboxes.shape )"
      ],
      "metadata": {
        "colab": {
          "base_uri": "https://localhost:8080/"
        },
        "id": "4WN42TcadH57",
        "outputId": "6ac22995-0f01-4416-a7a1-078d7af5b886"
      },
      "execution_count": 75,
      "outputs": [
        {
          "output_type": "stream",
          "name": "stdout",
          "text": [
            "(10, 75, 75, 1) (10, 10) (10, 4)\n"
          ]
        }
      ]
    },
    {
      "cell_type": "code",
      "source": [
        "display_digits_with_boxes(validation_digits , validation_labels\n",
        "                          , validation_labels,\n",
        "                          np.array([]) , validation_bboxes , np.array([]) , \"Validation Data\")"
      ],
      "metadata": {
        "colab": {
          "base_uri": "https://localhost:8080/",
          "height": 316
        },
        "id": "i-8FKFbRG6tB",
        "outputId": "c9a80d62-b04c-4574-f47e-49e29d5ff712"
      },
      "execution_count": 76,
      "outputs": [
        {
          "output_type": "display_data",
          "data": {
            "text/plain": [
              "<Figure size 2500x800 with 11 Axes>"
            ],
            "image/png": "[encoded data removed]"
          },
          "metadata": {}
        }
      ]
    },
    {
      "cell_type": "markdown",
      "source": [
        "## 4. Define The Network"
      ],
      "metadata": {
        "id": "V5WLOVok5Wia"
      }
    },
    {
      "cell_type": "code",
      "source": [
        "# CNN\n",
        "def feature_extraction(inputs):\n",
        "  x = tf.keras.layers.Conv2D(16 , activation = 'relu'  , kernel_size = 3 , input_shape = (75 , 75 , 1))(inputs)\n",
        "  x = tf.keras.layers.AveragePooling2D((2,2))(x)\n",
        "\n",
        "  x = tf.keras.layers.Conv2D(32 , activation = 'relu'  , kernel_size = 3 )(x)\n",
        "  x = tf.keras.layers.AveragePooling2D((2,2))(x)\n",
        "\n",
        "  x = tf.keras.layers.Conv2D(64 , activation = 'relu'  , kernel_size = 3 )(x)\n",
        "  x = tf.keras.layers.AveragePooling2D((2,2))(x)\n",
        "\n",
        "  return x\n"
      ],
      "metadata": {
        "id": "IaRUE38GtRxt"
      },
      "execution_count": 77,
      "outputs": []
    },
    {
      "cell_type": "code",
      "source": [
        "# Dense layers\n",
        "def dense_layer(inputs) :\n",
        "  x = tf.keras.layers.Flatten()(inputs)\n",
        "  x = tf.keras.layers.Dense(128 , activation = \"relu\")(x)\n",
        "  return x"
      ],
      "metadata": {
        "id": "0cXorlv38EAk"
      },
      "execution_count": 78,
      "outputs": []
    },
    {
      "cell_type": "code",
      "source": [
        "# Output layers\n",
        "def classifier(inputs):\n",
        "  classification_output = tf.keras.layers.Dense(10 , activation = \"softmax\"  , name = \"classification\")(inputs)\n",
        "  return classification_output\n"
      ],
      "metadata": {
        "id": "2JNDuCxq8XaO"
      },
      "execution_count": 79,
      "outputs": []
    },
    {
      "cell_type": "code",
      "source": [
        "# BBox Regression\n",
        "def bbox_regressor(inputs):\n",
        "  bbox_regression = tf.keras.layers.Dense(4 , name = \"bounding_box\")(inputs)\n",
        "  return bbox_regression"
      ],
      "metadata": {
        "id": "T8k6gHvu8kLN"
      },
      "execution_count": 80,
      "outputs": []
    },
    {
      "cell_type": "code",
      "source": [
        "# Model\n",
        "def final_model(inputs):\n",
        "  feature_cnn = feature_extraction(inputs)\n",
        "  dense_output = dense_layer(feature_cnn)\n",
        "\n",
        "  # outputs\n",
        "  classification_output = classifier(dense_output)\n",
        "  bbox_regression = bbox_regressor(dense_output)\n",
        "\n",
        "  model = tf.keras.Model(inputs = inputs , outputs = [classification_output , bbox_regression])\n",
        "  return model"
      ],
      "metadata": {
        "id": "2ixwBNVX8uaU"
      },
      "execution_count": 81,
      "outputs": []
    },
    {
      "cell_type": "code",
      "source": [
        "# definition and compile\n",
        "def define_and_compile_model(inputs):\n",
        "  model = final_model(inputs)\n",
        "\n",
        "  model.compile(\n",
        "                optimizer = \"adam\" ,\n",
        "                loss = {\n",
        "                        \"classification\": \"categorical_crossentropy\" ,\n",
        "                        \"bounding_box\":\"mse\"\n",
        "                        },\n",
        "                metrics = {\n",
        "                    \"classification\":\"accuracy\" ,\n",
        "                    \"bounding_box\":\"mse\"\n",
        "                }\n",
        "                )\n",
        "\n",
        "  return model"
      ],
      "metadata": {
        "id": "fgsH_IhWAV97"
      },
      "execution_count": 82,
      "outputs": []
    },
    {
      "cell_type": "code",
      "source": [
        "with strategy.scope():\n",
        "  input = tf.keras.layers.Input(shape = (75,75,1))\n",
        "  model = define_and_compile_model(input)\n",
        "\n",
        "model.summary()"
      ],
      "metadata": {
        "colab": {
          "base_uri": "https://localhost:8080/",
          "height": 676
        },
        "id": "GU7pSnufBPHW",
        "outputId": "522af6b0-b95d-4d9f-9396-94328323c934"
      },
      "execution_count": 83,
      "outputs": [
        {
          "output_type": "stream",
          "name": "stderr",
          "text": [
            "/usr/local/lib/python3.12/dist-packages/keras/src/layers/convolutional/base_conv.py:113: UserWarning: Do not pass an `input_shape`/`input_dim` argument to a layer. When using Sequential models, prefer using an `Input(shape)` object as the first layer in the model instead.\n",
            "  super().__init__(activity_regularizer=activity_regularizer, **kwargs)\n"
          ]
        },
        {
          "output_type": "display_data",
          "data": {
            "text/plain": [
              "\u001b[1mModel: \"functional\"\u001b[0m\n"
            ],
            "text/html": [
              "<pre style=\"white-space:pre;overflow-x:auto;line-height:normal;font-family:Menlo,'DejaVu Sans Mono',consolas,'Courier New',monospace\"><span style=\"font-weight: bold\">Model: \"functional\"</span>\n",
              "</pre>\n"
            ]
          },
          "metadata": {}
        },
        {
          "output_type": "display_data",
          "data": {
            "text/plain": [
              "┏━━━━━━━━━━━━━━━━━━━━━┳━━━━━━━━━━━━━━━━━━━┳━━━━━━━━━━━━┳━━━━━━━━━━━━━━━━━━━┓\n",
              "┃\u001b[1m \u001b[0m\u001b[1mLayer (type)       \u001b[0m\u001b[1m \u001b[0m┃\u001b[1m \u001b[0m\u001b[1mOutput Shape     \u001b[0m\u001b[1m \u001b[0m┃\u001b[1m \u001b[0m\u001b[1m   Param #\u001b[0m\u001b[1m \u001b[0m┃\u001b[1m \u001b[0m\u001b[1mConnected to     \u001b[0m\u001b[1m \u001b[0m┃\n",
              "┡━━━━━━━━━━━━━━━━━━━━━╇━━━━━━━━━━━━━━━━━━━╇━━━━━━━━━━━━╇━━━━━━━━━━━━━━━━━━━┩\n",
              "│ input_layer         │ (\u001b[38;5;45mNone\u001b[0m, \u001b[38;5;34m75\u001b[0m, \u001b[38;5;34m75\u001b[0m, \u001b[38;5;34m1\u001b[0m) │          \u001b[38;5;34m0\u001b[0m │ -                 │\n",
              "│ (\u001b[38;5;33mInputLayer\u001b[0m)        │                   │            │                   │\n",
              "├─────────────────────┼───────────────────┼────────────┼───────────────────┤\n",
              "│ conv2d (\u001b[38;5;33mConv2D\u001b[0m)     │ (\u001b[38;5;45mNone\u001b[0m, \u001b[38;5;34m73\u001b[0m, \u001b[38;5;34m73\u001b[0m,    │        \u001b[38;5;34m160\u001b[0m │ input_layer[\u001b[38;5;34m0\u001b[0m][\u001b[38;5;34m0\u001b[0m] │\n",
              "│                     │ \u001b[38;5;34m16\u001b[0m)               │            │                   │\n",
              "├─────────────────────┼───────────────────┼────────────┼───────────────────┤\n",
              "│ average_pooling2d   │ (\u001b[38;5;45mNone\u001b[0m, \u001b[38;5;34m36\u001b[0m, \u001b[38;5;34m36\u001b[0m,    │          \u001b[38;5;34m0\u001b[0m │ conv2d[\u001b[38;5;34m0\u001b[0m][\u001b[38;5;34m0\u001b[0m]      │\n",
              "│ (\u001b[38;5;33mAveragePooling2D\u001b[0m)  │ \u001b[38;5;34m16\u001b[0m)               │            │                   │\n",
              "├─────────────────────┼───────────────────┼────────────┼───────────────────┤\n",
              "│ conv2d_1 (\u001b[38;5;33mConv2D\u001b[0m)   │ (\u001b[38;5;45mNone\u001b[0m, \u001b[38;5;34m34\u001b[0m, \u001b[38;5;34m34\u001b[0m,    │      \u001b[38;5;34m4,640\u001b[0m │ average_pooling2… │\n",
              "│                     │ \u001b[38;5;34m32\u001b[0m)               │            │                   │\n",
              "├─────────────────────┼───────────────────┼────────────┼───────────────────┤\n",
              "│ average_pooling2d_1 │ (\u001b[38;5;45mNone\u001b[0m, \u001b[38;5;34m17\u001b[0m, \u001b[38;5;34m17\u001b[0m,    │          \u001b[38;5;34m0\u001b[0m │ conv2d_1[\u001b[38;5;34m0\u001b[0m][\u001b[38;5;34m0\u001b[0m]    │\n",
              "│ (\u001b[38;5;33mAveragePooling2D\u001b[0m)  │ \u001b[38;5;34m32\u001b[0m)               │            │                   │\n",
              "├─────────────────────┼───────────────────┼────────────┼───────────────────┤\n",
              "│ conv2d_2 (\u001b[38;5;33mConv2D\u001b[0m)   │ (\u001b[38;5;45mNone\u001b[0m, \u001b[38;5;34m15\u001b[0m, \u001b[38;5;34m15\u001b[0m,    │     \u001b[38;5;34m18,496\u001b[0m │ average_pooling2… │\n",
              "│                     │ \u001b[38;5;34m64\u001b[0m)               │            │                   │\n",
              "├─────────────────────┼───────────────────┼────────────┼───────────────────┤\n",
              "│ average_pooling2d_2 │ (\u001b[38;5;45mNone\u001b[0m, \u001b[38;5;34m7\u001b[0m, \u001b[38;5;34m7\u001b[0m, \u001b[38;5;34m64\u001b[0m)  │          \u001b[38;5;34m0\u001b[0m │ conv2d_2[\u001b[38;5;34m0\u001b[0m][\u001b[38;5;34m0\u001b[0m]    │\n",
              "│ (\u001b[38;5;33mAveragePooling2D\u001b[0m)  │                   │            │                   │\n",
              "├─────────────────────┼───────────────────┼────────────┼───────────────────┤\n",
              "│ flatten (\u001b[38;5;33mFlatten\u001b[0m)   │ (\u001b[38;5;45mNone\u001b[0m, \u001b[38;5;34m3136\u001b[0m)      │          \u001b[38;5;34m0\u001b[0m │ average_pooling2… │\n",
              "├─────────────────────┼───────────────────┼────────────┼───────────────────┤\n",
              "│ dense (\u001b[38;5;33mDense\u001b[0m)       │ (\u001b[38;5;45mNone\u001b[0m, \u001b[38;5;34m128\u001b[0m)       │    \u001b[38;5;34m401,536\u001b[0m │ flatten[\u001b[38;5;34m0\u001b[0m][\u001b[38;5;34m0\u001b[0m]     │\n",
              "├─────────────────────┼───────────────────┼────────────┼───────────────────┤\n",
              "│ classification      │ (\u001b[38;5;45mNone\u001b[0m, \u001b[38;5;34m10\u001b[0m)        │      \u001b[38;5;34m1,290\u001b[0m │ dense[\u001b[38;5;34m0\u001b[0m][\u001b[38;5;34m0\u001b[0m]       │\n",
              "│ (\u001b[38;5;33mDense\u001b[0m)             │                   │            │                   │\n",
              "├─────────────────────┼───────────────────┼────────────┼───────────────────┤\n",
              "│ bounding_box        │ (\u001b[38;5;45mNone\u001b[0m, \u001b[38;5;34m4\u001b[0m)         │        \u001b[38;5;34m516\u001b[0m │ dense[\u001b[38;5;34m0\u001b[0m][\u001b[38;5;34m0\u001b[0m]       │\n",
              "│ (\u001b[38;5;33mDense\u001b[0m)             │                   │            │                   │\n",
              "└─────────────────────┴───────────────────┴────────────┴───────────────────┘\n"
            ],
            "text/html": [
              "<pre style=\"white-space:pre;overflow-x:auto;line-height:normal;font-family:Menlo,'DejaVu Sans Mono',consolas,'Courier New',monospace\">┏━━━━━━━━━━━━━━━━━━━━━┳━━━━━━━━━━━━━━━━━━━┳━━━━━━━━━━━━┳━━━━━━━━━━━━━━━━━━━┓\n",
              "┃<span style=\"font-weight: bold\"> Layer (type)        </span>┃<span style=\"font-weight: bold\"> Output Shape      </span>┃<span style=\"font-weight: bold\">    Param # </span>┃<span style=\"font-weight: bold\"> Connected to      </span>┃\n",
              "┡━━━━━━━━━━━━━━━━━━━━━╇━━━━━━━━━━━━━━━━━━━╇━━━━━━━━━━━━╇━━━━━━━━━━━━━━━━━━━┩\n",
              "│ input_layer         │ (<span style=\"color: #00d7ff; text-decoration-color: #00d7ff\">None</span>, <span style=\"color: #00af00; text-decoration-color: #00af00\">75</span>, <span style=\"color: #00af00; text-decoration-color: #00af00\">75</span>, <span style=\"color: #00af00; text-decoration-color: #00af00\">1</span>) │          <span style=\"color: #00af00; text-decoration-color: #00af00\">0</span> │ -                 │\n",
              "│ (<span style=\"color: #0087ff; text-decoration-color: #0087ff\">InputLayer</span>)        │                   │            │                   │\n",
              "├─────────────────────┼───────────────────┼────────────┼───────────────────┤\n",
              "│ conv2d (<span style=\"color: #0087ff; text-decoration-color: #0087ff\">Conv2D</span>)     │ (<span style=\"color: #00d7ff; text-decoration-color: #00d7ff\">None</span>, <span style=\"color: #00af00; text-decoration-color: #00af00\">73</span>, <span style=\"color: #00af00; text-decoration-color: #00af00\">73</span>,    │        <span style=\"color: #00af00; text-decoration-color: #00af00\">160</span> │ input_layer[<span style=\"color: #00af00; text-decoration-color: #00af00\">0</span>][<span style=\"color: #00af00; text-decoration-color: #00af00\">0</span>] │\n",
              "│                     │ <span style=\"color: #00af00; text-decoration-color: #00af00\">16</span>)               │            │                   │\n",
              "├─────────────────────┼───────────────────┼────────────┼───────────────────┤\n",
              "│ average_pooling2d   │ (<span style=\"color: #00d7ff; text-decoration-color: #00d7ff\">None</span>, <span style=\"color: #00af00; text-decoration-color: #00af00\">36</span>, <span style=\"color: #00af00; text-decoration-color: #00af00\">36</span>,    │          <span style=\"color: #00af00; text-decoration-color: #00af00\">0</span> │ conv2d[<span style=\"color: #00af00; text-decoration-color: #00af00\">0</span>][<span style=\"color: #00af00; text-decoration-color: #00af00\">0</span>]      │\n",
              "│ (<span style=\"color: #0087ff; text-decoration-color: #0087ff\">AveragePooling2D</span>)  │ <span style=\"color: #00af00; text-decoration-color: #00af00\">16</span>)               │            │                   │\n",
              "├─────────────────────┼───────────────────┼────────────┼───────────────────┤\n",
              "│ conv2d_1 (<span style=\"color: #0087ff; text-decoration-color: #0087ff\">Conv2D</span>)   │ (<span style=\"color: #00d7ff; text-decoration-color: #00d7ff\">None</span>, <span style=\"color: #00af00; text-decoration-color: #00af00\">34</span>, <span style=\"color: #00af00; text-decoration-color: #00af00\">34</span>,    │      <span style=\"color: #00af00; text-decoration-color: #00af00\">4,640</span> │ average_pooling2… │\n",
              "│                     │ <span style=\"color: #00af00; text-decoration-color: #00af00\">32</span>)               │            │                   │\n",
              "├─────────────────────┼───────────────────┼────────────┼───────────────────┤\n",
              "│ average_pooling2d_1 │ (<span style=\"color: #00d7ff; text-decoration-color: #00d7ff\">None</span>, <span style=\"color: #00af00; text-decoration-color: #00af00\">17</span>, <span style=\"color: #00af00; text-decoration-color: #00af00\">17</span>,    │          <span style=\"color: #00af00; text-decoration-color: #00af00\">0</span> │ conv2d_1[<span style=\"color: #00af00; text-decoration-color: #00af00\">0</span>][<span style=\"color: #00af00; text-decoration-color: #00af00\">0</span>]    │\n",
              "│ (<span style=\"color: #0087ff; text-decoration-color: #0087ff\">AveragePooling2D</span>)  │ <span style=\"color: #00af00; text-decoration-color: #00af00\">32</span>)               │            │                   │\n",
              "├─────────────────────┼───────────────────┼────────────┼───────────────────┤\n",
              "│ conv2d_2 (<span style=\"color: #0087ff; text-decoration-color: #0087ff\">Conv2D</span>)   │ (<span style=\"color: #00d7ff; text-decoration-color: #00d7ff\">None</span>, <span style=\"color: #00af00; text-decoration-color: #00af00\">15</span>, <span style=\"color: #00af00; text-decoration-color: #00af00\">15</span>,    │     <span style=\"color: #00af00; text-decoration-color: #00af00\">18,496</span> │ average_pooling2… │\n",
              "│                     │ <span style=\"color: #00af00; text-decoration-color: #00af00\">64</span>)               │            │                   │\n",
              "├─────────────────────┼───────────────────┼────────────┼───────────────────┤\n",
              "│ average_pooling2d_2 │ (<span style=\"color: #00d7ff; text-decoration-color: #00d7ff\">None</span>, <span style=\"color: #00af00; text-decoration-color: #00af00\">7</span>, <span style=\"color: #00af00; text-decoration-color: #00af00\">7</span>, <span style=\"color: #00af00; text-decoration-color: #00af00\">64</span>)  │          <span style=\"color: #00af00; text-decoration-color: #00af00\">0</span> │ conv2d_2[<span style=\"color: #00af00; text-decoration-color: #00af00\">0</span>][<span style=\"color: #00af00; text-decoration-color: #00af00\">0</span>]    │\n",
              "│ (<span style=\"color: #0087ff; text-decoration-color: #0087ff\">AveragePooling2D</span>)  │                   │            │                   │\n",
              "├─────────────────────┼───────────────────┼────────────┼───────────────────┤\n",
              "│ flatten (<span style=\"color: #0087ff; text-decoration-color: #0087ff\">Flatten</span>)   │ (<span style=\"color: #00d7ff; text-decoration-color: #00d7ff\">None</span>, <span style=\"color: #00af00; text-decoration-color: #00af00\">3136</span>)      │          <span style=\"color: #00af00; text-decoration-color: #00af00\">0</span> │ average_pooling2… │\n",
              "├─────────────────────┼───────────────────┼────────────┼───────────────────┤\n",
              "│ dense (<span style=\"color: #0087ff; text-decoration-color: #0087ff\">Dense</span>)       │ (<span style=\"color: #00d7ff; text-decoration-color: #00d7ff\">None</span>, <span style=\"color: #00af00; text-decoration-color: #00af00\">128</span>)       │    <span style=\"color: #00af00; text-decoration-color: #00af00\">401,536</span> │ flatten[<span style=\"color: #00af00; text-decoration-color: #00af00\">0</span>][<span style=\"color: #00af00; text-decoration-color: #00af00\">0</span>]     │\n",
              "├─────────────────────┼───────────────────┼────────────┼───────────────────┤\n",
              "│ classification      │ (<span style=\"color: #00d7ff; text-decoration-color: #00d7ff\">None</span>, <span style=\"color: #00af00; text-decoration-color: #00af00\">10</span>)        │      <span style=\"color: #00af00; text-decoration-color: #00af00\">1,290</span> │ dense[<span style=\"color: #00af00; text-decoration-color: #00af00\">0</span>][<span style=\"color: #00af00; text-decoration-color: #00af00\">0</span>]       │\n",
              "│ (<span style=\"color: #0087ff; text-decoration-color: #0087ff\">Dense</span>)             │                   │            │                   │\n",
              "├─────────────────────┼───────────────────┼────────────┼───────────────────┤\n",
              "│ bounding_box        │ (<span style=\"color: #00d7ff; text-decoration-color: #00d7ff\">None</span>, <span style=\"color: #00af00; text-decoration-color: #00af00\">4</span>)         │        <span style=\"color: #00af00; text-decoration-color: #00af00\">516</span> │ dense[<span style=\"color: #00af00; text-decoration-color: #00af00\">0</span>][<span style=\"color: #00af00; text-decoration-color: #00af00\">0</span>]       │\n",
              "│ (<span style=\"color: #0087ff; text-decoration-color: #0087ff\">Dense</span>)             │                   │            │                   │\n",
              "└─────────────────────┴───────────────────┴────────────┴───────────────────┘\n",
              "</pre>\n"
            ]
          },
          "metadata": {}
        },
        {
          "output_type": "display_data",
          "data": {
            "text/plain": [
              "\u001b[1m Total params: \u001b[0m\u001b[38;5;34m426,638\u001b[0m (1.63 MB)\n"
            ],
            "text/html": [
              "<pre style=\"white-space:pre;overflow-x:auto;line-height:normal;font-family:Menlo,'DejaVu Sans Mono',consolas,'Courier New',monospace\"><span style=\"font-weight: bold\"> Total params: </span><span style=\"color: #00af00; text-decoration-color: #00af00\">426,638</span> (1.63 MB)\n",
              "</pre>\n"
            ]
          },
          "metadata": {}
        },
        {
          "output_type": "display_data",
          "data": {
            "text/plain": [
              "\u001b[1m Trainable params: \u001b[0m\u001b[38;5;34m426,638\u001b[0m (1.63 MB)\n"
            ],
            "text/html": [
              "<pre style=\"white-space:pre;overflow-x:auto;line-height:normal;font-family:Menlo,'DejaVu Sans Mono',consolas,'Courier New',monospace\"><span style=\"font-weight: bold\"> Trainable params: </span><span style=\"color: #00af00; text-decoration-color: #00af00\">426,638</span> (1.63 MB)\n",
              "</pre>\n"
            ]
          },
          "metadata": {}
        },
        {
          "output_type": "display_data",
          "data": {
            "text/plain": [
              "\u001b[1m Non-trainable params: \u001b[0m\u001b[38;5;34m0\u001b[0m (0.00 B)\n"
            ],
            "text/html": [
              "<pre style=\"white-space:pre;overflow-x:auto;line-height:normal;font-family:Menlo,'DejaVu Sans Mono',consolas,'Courier New',monospace\"><span style=\"font-weight: bold\"> Non-trainable params: </span><span style=\"color: #00af00; text-decoration-color: #00af00\">0</span> (0.00 B)\n",
              "</pre>\n"
            ]
          },
          "metadata": {}
        }
      ]
    },
    {
      "cell_type": "markdown",
      "source": [
        "## 5. Train and Validate The Model"
      ],
      "metadata": {
        "id": "BBAgFIxtD9ZS"
      }
    },
    {
      "cell_type": "code",
      "source": [
        "EPOCHS = 20\n",
        "# EPOCHS = 5\n",
        "\n",
        "steps_per_epoch = 60000 // BATCH_SIZE\n",
        "history = model.fit(training_dataset ,\n",
        "                    epochs = EPOCHS ,\n",
        "                    steps_per_epoch = steps_per_epoch ,\n",
        "                    validation_data = validation_dataset ,\n",
        "                    validation_steps = 1)\n",
        "\n",
        "loss , classification_loss , bbox_loss , classification_accuracy , bbox_accuracy = model.evaluate(validation_dataset , steps = 1)\n",
        "\n"
      ],
      "metadata": {
        "colab": {
          "base_uri": "https://localhost:8080/"
        },
        "id": "bgTda1XoDP6S",
        "outputId": "d0cf2a75-fa1d-4572-9fbe-ecfd47b3bafd"
      },
      "execution_count": 84,
      "outputs": [
        {
          "output_type": "stream",
          "name": "stdout",
          "text": [
            "Epoch 1/20\n",
            "\u001b[1m937/937\u001b[0m \u001b[32m━━━━━━━━━━━━━━━━━━━━\u001b[0m\u001b[37m\u001b[0m \u001b[1m28s\u001b[0m 23ms/step - bounding_box_loss: 0.0210 - bounding_box_mse: 0.0210 - classification_accuracy: 0.4334 - classification_loss: 1.5430 - loss: 1.5640 - val_bounding_box_loss: 0.0076 - val_bounding_box_mse: 0.0076 - val_classification_accuracy: 0.9120 - val_classification_loss: 0.2940 - val_loss: 0.3016\n",
            "Epoch 2/20\n",
            "\u001b[1m937/937\u001b[0m \u001b[32m━━━━━━━━━━━━━━━━━━━━\u001b[0m\u001b[37m\u001b[0m \u001b[1m16s\u001b[0m 17ms/step - bounding_box_loss: 0.0073 - bounding_box_mse: 0.0073 - classification_accuracy: 0.9068 - classification_loss: 0.3058 - loss: 0.3132 - val_bounding_box_loss: 0.0060 - val_bounding_box_mse: 0.0060 - val_classification_accuracy: 0.9188 - val_classification_loss: 0.2597 - val_loss: 0.2657\n",
            "Epoch 3/20\n",
            "\u001b[1m937/937\u001b[0m \u001b[32m━━━━━━━━━━━━━━━━━━━━\u001b[0m\u001b[37m\u001b[0m \u001b[1m17s\u001b[0m 18ms/step - bounding_box_loss: 0.0044 - bounding_box_mse: 0.0044 - classification_accuracy: 0.9383 - classification_loss: 0.2012 - loss: 0.2056 - val_bounding_box_loss: 0.0031 - val_bounding_box_mse: 0.0031 - val_classification_accuracy: 0.9591 - val_classification_loss: 0.1409 - val_loss: 0.1440\n",
            "Epoch 4/20\n",
            "\u001b[1m937/937\u001b[0m \u001b[32m━━━━━━━━━━━━━━━━━━━━\u001b[0m\u001b[37m\u001b[0m \u001b[1m18s\u001b[0m 19ms/step - bounding_box_loss: 0.0028 - bounding_box_mse: 0.0028 - classification_accuracy: 0.9514 - classification_loss: 0.1620 - loss: 0.1648 - val_bounding_box_loss: 0.0021 - val_bounding_box_mse: 0.0021 - val_classification_accuracy: 0.9629 - val_classification_loss: 0.1232 - val_loss: 0.1254\n",
            "Epoch 5/20\n",
            "\u001b[1m937/937\u001b[0m \u001b[32m━━━━━━━━━━━━━━━━━━━━\u001b[0m\u001b[37m\u001b[0m \u001b[1m17s\u001b[0m 18ms/step - bounding_box_loss: 0.0022 - bounding_box_mse: 0.0022 - classification_accuracy: 0.9598 - classification_loss: 0.1381 - loss: 0.1403 - val_bounding_box_loss: 0.0019 - val_bounding_box_mse: 0.0019 - val_classification_accuracy: 0.9706 - val_classification_loss: 0.0934 - val_loss: 0.0953\n",
            "Epoch 6/20\n",
            "\u001b[1m937/937\u001b[0m \u001b[32m━━━━━━━━━━━━━━━━━━━━\u001b[0m\u001b[37m\u001b[0m \u001b[1m17s\u001b[0m 18ms/step - bounding_box_loss: 0.0018 - bounding_box_mse: 0.0018 - classification_accuracy: 0.9646 - classification_loss: 0.1196 - loss: 0.1214 - val_bounding_box_loss: 0.0017 - val_bounding_box_mse: 0.0017 - val_classification_accuracy: 0.9646 - val_classification_loss: 0.1172 - val_loss: 0.1189\n",
            "Epoch 7/20\n",
            "\u001b[1m937/937\u001b[0m \u001b[32m━━━━━━━━━━━━━━━━━━━━\u001b[0m\u001b[37m\u001b[0m \u001b[1m18s\u001b[0m 19ms/step - bounding_box_loss: 0.0015 - bounding_box_mse: 0.0015 - classification_accuracy: 0.9675 - classification_loss: 0.1068 - loss: 0.1083 - val_bounding_box_loss: 0.0012 - val_bounding_box_mse: 0.0012 - val_classification_accuracy: 0.9753 - val_classification_loss: 0.0812 - val_loss: 0.0824\n",
            "Epoch 8/20\n",
            "\u001b[1m937/937\u001b[0m \u001b[32m━━━━━━━━━━━━━━━━━━━━\u001b[0m\u001b[37m\u001b[0m \u001b[1m18s\u001b[0m 20ms/step - bounding_box_loss: 0.0012 - bounding_box_mse: 0.0012 - classification_accuracy: 0.9734 - classification_loss: 0.0896 - loss: 0.0909 - val_bounding_box_loss: 0.0012 - val_bounding_box_mse: 0.0012 - val_classification_accuracy: 0.9753 - val_classification_loss: 0.0797 - val_loss: 0.0809\n",
            "Epoch 9/20\n",
            "\u001b[1m937/937\u001b[0m \u001b[32m━━━━━━━━━━━━━━━━━━━━\u001b[0m\u001b[37m\u001b[0m \u001b[1m18s\u001b[0m 19ms/step - bounding_box_loss: 0.0012 - bounding_box_mse: 0.0012 - classification_accuracy: 0.9741 - classification_loss: 0.0847 - loss: 0.0859 - val_bounding_box_loss: 9.4648e-04 - val_bounding_box_mse: 9.4648e-04 - val_classification_accuracy: 0.9782 - val_classification_loss: 0.0702 - val_loss: 0.0711\n",
            "Epoch 10/20\n",
            "\u001b[1m937/937\u001b[0m \u001b[32m━━━━━━━━━━━━━━━━━━━━\u001b[0m\u001b[37m\u001b[0m \u001b[1m17s\u001b[0m 18ms/step - bounding_box_loss: 0.0010 - bounding_box_mse: 0.0010 - classification_accuracy: 0.9757 - classification_loss: 0.0775 - loss: 0.0786 - val_bounding_box_loss: 0.0010 - val_bounding_box_mse: 0.0010 - val_classification_accuracy: 0.9806 - val_classification_loss: 0.0608 - val_loss: 0.0618\n",
            "Epoch 11/20\n",
            "\u001b[1m937/937\u001b[0m \u001b[32m━━━━━━━━━━━━━━━━━━━━\u001b[0m\u001b[37m\u001b[0m \u001b[1m17s\u001b[0m 18ms/step - bounding_box_loss: 0.0010 - bounding_box_mse: 0.0010 - classification_accuracy: 0.9778 - classification_loss: 0.0740 - loss: 0.0750 - val_bounding_box_loss: 0.0010 - val_bounding_box_mse: 0.0010 - val_classification_accuracy: 0.9811 - val_classification_loss: 0.0581 - val_loss: 0.0592\n",
            "Epoch 12/20\n",
            "\u001b[1m937/937\u001b[0m \u001b[32m━━━━━━━━━━━━━━━━━━━━\u001b[0m\u001b[37m\u001b[0m \u001b[1m18s\u001b[0m 19ms/step - bounding_box_loss: 9.7306e-04 - bounding_box_mse: 9.7306e-04 - classification_accuracy: 0.9787 - classification_loss: 0.0687 - loss: 0.0696 - val_bounding_box_loss: 9.5474e-04 - val_bounding_box_mse: 9.5474e-04 - val_classification_accuracy: 0.9825 - val_classification_loss: 0.0562 - val_loss: 0.0571\n",
            "Epoch 13/20\n",
            "\u001b[1m937/937\u001b[0m \u001b[32m━━━━━━━━━━━━━━━━━━━━\u001b[0m\u001b[37m\u001b[0m \u001b[1m17s\u001b[0m 18ms/step - bounding_box_loss: 9.6791e-04 - bounding_box_mse: 9.6791e-04 - classification_accuracy: 0.9804 - classification_loss: 0.0617 - loss: 0.0626 - val_bounding_box_loss: 0.0011 - val_bounding_box_mse: 0.0011 - val_classification_accuracy: 0.9805 - val_classification_loss: 0.0572 - val_loss: 0.0582\n",
            "Epoch 14/20\n",
            "\u001b[1m937/937\u001b[0m \u001b[32m━━━━━━━━━━━━━━━━━━━━\u001b[0m\u001b[37m\u001b[0m \u001b[1m18s\u001b[0m 19ms/step - bounding_box_loss: 9.9448e-04 - bounding_box_mse: 9.9448e-04 - classification_accuracy: 0.9820 - classification_loss: 0.0588 - loss: 0.0598 - val_bounding_box_loss: 0.0010 - val_bounding_box_mse: 0.0010 - val_classification_accuracy: 0.9799 - val_classification_loss: 0.0627 - val_loss: 0.0637\n",
            "Epoch 15/20\n",
            "\u001b[1m937/937\u001b[0m \u001b[32m━━━━━━━━━━━━━━━━━━━━\u001b[0m\u001b[37m\u001b[0m \u001b[1m17s\u001b[0m 18ms/step - bounding_box_loss: 9.4835e-04 - bounding_box_mse: 9.4835e-04 - classification_accuracy: 0.9825 - classification_loss: 0.0579 - loss: 0.0588 - val_bounding_box_loss: 0.0012 - val_bounding_box_mse: 0.0012 - val_classification_accuracy: 0.9847 - val_classification_loss: 0.0485 - val_loss: 0.0496\n",
            "Epoch 16/20\n",
            "\u001b[1m937/937\u001b[0m \u001b[32m━━━━━━━━━━━━━━━━━━━━\u001b[0m\u001b[37m\u001b[0m \u001b[1m18s\u001b[0m 19ms/step - bounding_box_loss: 9.6136e-04 - bounding_box_mse: 9.6136e-04 - classification_accuracy: 0.9824 - classification_loss: 0.0528 - loss: 0.0538 - val_bounding_box_loss: 9.6915e-04 - val_bounding_box_mse: 9.6915e-04 - val_classification_accuracy: 0.9857 - val_classification_loss: 0.0470 - val_loss: 0.0480\n",
            "Epoch 17/20\n",
            "\u001b[1m937/937\u001b[0m \u001b[32m━━━━━━━━━━━━━━━━━━━━\u001b[0m\u001b[37m\u001b[0m \u001b[1m19s\u001b[0m 20ms/step - bounding_box_loss: 9.6139e-04 - bounding_box_mse: 9.6139e-04 - classification_accuracy: 0.9838 - classification_loss: 0.0533 - loss: 0.0543 - val_bounding_box_loss: 8.7707e-04 - val_bounding_box_mse: 8.7707e-04 - val_classification_accuracy: 0.9865 - val_classification_loss: 0.0418 - val_loss: 0.0426\n",
            "Epoch 18/20\n",
            "\u001b[1m937/937\u001b[0m \u001b[32m━━━━━━━━━━━━━━━━━━━━\u001b[0m\u001b[37m\u001b[0m \u001b[1m17s\u001b[0m 19ms/step - bounding_box_loss: 9.5072e-04 - bounding_box_mse: 9.5072e-04 - classification_accuracy: 0.9858 - classification_loss: 0.0477 - loss: 0.0487 - val_bounding_box_loss: 0.0012 - val_bounding_box_mse: 0.0012 - val_classification_accuracy: 0.9835 - val_classification_loss: 0.0511 - val_loss: 0.0523\n",
            "Epoch 19/20\n",
            "\u001b[1m937/937\u001b[0m \u001b[32m━━━━━━━━━━━━━━━━━━━━\u001b[0m\u001b[37m\u001b[0m \u001b[1m18s\u001b[0m 20ms/step - bounding_box_loss: 9.9341e-04 - bounding_box_mse: 9.9341e-04 - classification_accuracy: 0.9864 - classification_loss: 0.0474 - loss: 0.0484 - val_bounding_box_loss: 9.5852e-04 - val_bounding_box_mse: 9.5852e-04 - val_classification_accuracy: 0.9844 - val_classification_loss: 0.0448 - val_loss: 0.0458\n",
            "Epoch 20/20\n",
            "\u001b[1m937/937\u001b[0m \u001b[32m━━━━━━━━━━━━━━━━━━━━\u001b[0m\u001b[37m\u001b[0m \u001b[1m17s\u001b[0m 18ms/step - bounding_box_loss: 9.8759e-04 - bounding_box_mse: 9.8759e-04 - classification_accuracy: 0.9862 - classification_loss: 0.0447 - loss: 0.0457 - val_bounding_box_loss: 9.5062e-04 - val_bounding_box_mse: 9.5062e-04 - val_classification_accuracy: 0.9865 - val_classification_loss: 0.0420 - val_loss: 0.0429\n",
            "\u001b[1m1/1\u001b[0m \u001b[32m━━━━━━━━━━━━━━━━━━━━\u001b[0m\u001b[37m\u001b[0m \u001b[1m1s\u001b[0m 1s/step - bounding_box_loss: 9.5046e-04 - bounding_box_mse: 9.5046e-04 - classification_accuracy: 0.9873 - classification_loss: 0.0375 - loss: 0.0385\n"
          ]
        }
      ]
    },
    {
      "cell_type": "code",
      "source": [
        "model.evaluate(validation_dataset , steps = 1)"
      ],
      "metadata": {
        "colab": {
          "base_uri": "https://localhost:8080/"
        },
        "id": "gX19N30LReL8",
        "outputId": "9e46168b-25d2-4168-8643-32510f225b45"
      },
      "execution_count": 85,
      "outputs": [
        {
          "output_type": "stream",
          "name": "stdout",
          "text": [
            "\u001b[1m1/1\u001b[0m \u001b[32m━━━━━━━━━━━━━━━━━━━━\u001b[0m\u001b[37m\u001b[0m \u001b[1m2s\u001b[0m 2s/step - bounding_box_loss: 9.4580e-04 - bounding_box_mse: 9.4580e-04 - classification_accuracy: 0.9859 - classification_loss: 0.0429 - loss: 0.0438\n"
          ]
        },
        {
          "output_type": "execute_result",
          "data": {
            "text/plain": [
              "[0.043832868337631226,\n",
              " 0.042887065559625626,\n",
              " 0.0009458032436668873,\n",
              " 0.0009458032436668873,\n",
              " 0.9858999848365784]"
            ]
          },
          "metadata": {},
          "execution_count": 85
        }
      ]
    },
    {
      "cell_type": "code",
      "source": [
        "history.history"
      ],
      "metadata": {
        "colab": {
          "base_uri": "https://localhost:8080/"
        },
        "id": "VfLvv0eiZqX1",
        "outputId": "01afd1b9-9b47-41c2-cff1-c19cbfdd80c7"
      },
      "execution_count": 86,
      "outputs": [
        {
          "output_type": "execute_result",
          "data": {
            "text/plain": [
              "{'bounding_box_loss': [0.013663874939084053,\n",
              "  0.006405101623386145,\n",
              "  0.003960891626775265,\n",
              "  0.00263589876703918,\n",
              "  0.002173427492380142,\n",
              "  0.001682004425674677,\n",
              "  0.0014671019744127989,\n",
              "  0.00125782354734838,\n",
              "  0.0011498123640194535,\n",
              "  0.0010459221666678786,\n",
              "  0.0010251272469758987,\n",
              "  0.000981703749857843,\n",
              "  0.0009721731767058372,\n",
              "  0.0009667570702731609,\n",
              "  0.0009470001677982509,\n",
              "  0.0009822514839470387,\n",
              "  0.0009659275528974831,\n",
              "  0.0009706799755804241,\n",
              "  0.0009694868349470198,\n",
              "  0.000972822483163327],\n",
              " 'bounding_box_mse': [0.013663874939084053,\n",
              "  0.006405101623386145,\n",
              "  0.003960891626775265,\n",
              "  0.00263589876703918,\n",
              "  0.002173427492380142,\n",
              "  0.001682004425674677,\n",
              "  0.0014671019744127989,\n",
              "  0.00125782354734838,\n",
              "  0.0011498123640194535,\n",
              "  0.0010459221666678786,\n",
              "  0.0010251272469758987,\n",
              "  0.000981703749857843,\n",
              "  0.0009721731767058372,\n",
              "  0.0009667570702731609,\n",
              "  0.0009470001677982509,\n",
              "  0.0009822514839470387,\n",
              "  0.0009659275528974831,\n",
              "  0.0009706799755804241,\n",
              "  0.0009694868349470198,\n",
              "  0.000972822483163327],\n",
              " 'classification_accuracy': [0.6754769086837769,\n",
              "  0.9171558022499084,\n",
              "  0.9413520693778992,\n",
              "  0.9520410895347595,\n",
              "  0.9592615962028503,\n",
              "  0.9642475843429565,\n",
              "  0.9675660133361816,\n",
              "  0.9728355407714844,\n",
              "  0.9744030237197876,\n",
              "  0.9759371876716614,\n",
              "  0.9778048396110535,\n",
              "  0.9793223142623901,\n",
              "  0.9808564782142639,\n",
              "  0.9814567565917969,\n",
              "  0.9832910895347595,\n",
              "  0.9830076098442078,\n",
              "  0.9845917820930481,\n",
              "  0.985508918762207,\n",
              "  0.9862760305404663,\n",
              "  0.9864427447319031],\n",
              " 'classification_loss': [0.9337092041969299,\n",
              "  0.273367315530777,\n",
              "  0.19151397049427032,\n",
              "  0.15655818581581116,\n",
              "  0.1328154057264328,\n",
              "  0.11841358244419098,\n",
              "  0.10550707578659058,\n",
              "  0.08963406831026077,\n",
              "  0.08297114074230194,\n",
              "  0.07704669237136841,\n",
              "  0.07123871147632599,\n",
              "  0.06612163782119751,\n",
              "  0.06060774251818657,\n",
              "  0.0597224086523056,\n",
              "  0.054734256118535995,\n",
              "  0.052703846246004105,\n",
              "  0.05083576217293739,\n",
              "  0.04712943360209465,\n",
              "  0.04417658597230911,\n",
              "  0.043940894305706024],\n",
              " 'loss': [0.9473726749420166,\n",
              "  0.27977243065834045,\n",
              "  0.19547513127326965,\n",
              "  0.1591942012310028,\n",
              "  0.1349886953830719,\n",
              "  0.1200956478714943,\n",
              "  0.10697434842586517,\n",
              "  0.09089189022779465,\n",
              "  0.08412099629640579,\n",
              "  0.07809258252382278,\n",
              "  0.07226379960775375,\n",
              "  0.06710340827703476,\n",
              "  0.061579909175634384,\n",
              "  0.06068919599056244,\n",
              "  0.05568133294582367,\n",
              "  0.05368608981370926,\n",
              "  0.05180170759558678,\n",
              "  0.048100076615810394,\n",
              "  0.04514607787132263,\n",
              "  0.04491373151540756],\n",
              " 'val_bounding_box_loss': [0.00756417540833354,\n",
              "  0.0060156118124723434,\n",
              "  0.003087456803768873,\n",
              "  0.002132916357368231,\n",
              "  0.0019268863834440708,\n",
              "  0.001694361912086606,\n",
              "  0.0012063465546816587,\n",
              "  0.0012360478285700083,\n",
              "  0.0009464762406423688,\n",
              "  0.0010472392896190286,\n",
              "  0.001023243647068739,\n",
              "  0.000954743183683604,\n",
              "  0.0010815339628607035,\n",
              "  0.0010113761527463794,\n",
              "  0.0011683161137625575,\n",
              "  0.0009691545274108648,\n",
              "  0.0008770718704909086,\n",
              "  0.0012045273324474692,\n",
              "  0.0009585206862539053,\n",
              "  0.0009506166679784656],\n",
              " 'val_bounding_box_mse': [0.00756417540833354,\n",
              "  0.0060156118124723434,\n",
              "  0.003087456803768873,\n",
              "  0.002132916357368231,\n",
              "  0.0019268863834440708,\n",
              "  0.001694361912086606,\n",
              "  0.0012063465546816587,\n",
              "  0.0012360478285700083,\n",
              "  0.0009464762406423688,\n",
              "  0.0010472392896190286,\n",
              "  0.001023243647068739,\n",
              "  0.000954743183683604,\n",
              "  0.0010815339628607035,\n",
              "  0.0010113761527463794,\n",
              "  0.0011683161137625575,\n",
              "  0.0009691545274108648,\n",
              "  0.0008770718704909086,\n",
              "  0.0012045273324474692,\n",
              "  0.0009585206862539053,\n",
              "  0.0009506166679784656],\n",
              " 'val_classification_accuracy': [0.9120000004768372,\n",
              "  0.9187999963760376,\n",
              "  0.9591000080108643,\n",
              "  0.9628999829292297,\n",
              "  0.9706000089645386,\n",
              "  0.9646000266075134,\n",
              "  0.9753000140190125,\n",
              "  0.9753000140190125,\n",
              "  0.9782000184059143,\n",
              "  0.9805999994277954,\n",
              "  0.9811000227928162,\n",
              "  0.9825000166893005,\n",
              "  0.9804999828338623,\n",
              "  0.9799000024795532,\n",
              "  0.9847000241279602,\n",
              "  0.9857000112533569,\n",
              "  0.9865000247955322,\n",
              "  0.9835000038146973,\n",
              "  0.9843999743461609,\n",
              "  0.9865000247955322],\n",
              " 'val_classification_loss': [0.2939883768558502,\n",
              "  0.2596714496612549,\n",
              "  0.14094291627407074,\n",
              "  0.12323357909917831,\n",
              "  0.09338092058897018,\n",
              "  0.11723396927118301,\n",
              "  0.08115444332361221,\n",
              "  0.07965938746929169,\n",
              "  0.07015815377235413,\n",
              "  0.0607743039727211,\n",
              "  0.05813388526439667,\n",
              "  0.05616538226604462,\n",
              "  0.05716603994369507,\n",
              "  0.06272128969430923,\n",
              "  0.048470333218574524,\n",
              "  0.04703397676348686,\n",
              "  0.04175416752696037,\n",
              "  0.051085829734802246,\n",
              "  0.04481207951903343,\n",
              "  0.041975803673267365],\n",
              " 'val_loss': [0.30155256390571594,\n",
              "  0.2656870484352112,\n",
              "  0.1440303772687912,\n",
              "  0.12536649405956268,\n",
              "  0.09530780464410782,\n",
              "  0.11892833560705185,\n",
              "  0.08236078917980194,\n",
              "  0.08089543879032135,\n",
              "  0.07110463082790375,\n",
              "  0.06182154640555382,\n",
              "  0.059157129377126694,\n",
              "  0.05712012201547623,\n",
              "  0.05824756994843483,\n",
              "  0.06373266875743866,\n",
              "  0.049638647586107254,\n",
              "  0.04800312966108322,\n",
              "  0.04263123869895935,\n",
              "  0.052290357649326324,\n",
              "  0.04577060043811798,\n",
              "  0.04292641952633858]}"
            ]
          },
          "metadata": {},
          "execution_count": 86
        }
      ]
    },
    {
      "cell_type": "code",
      "source": [
        "plot_metrics(\"bounding_box_mse\" , \"Bounding Box MSE\")"
      ],
      "metadata": {
        "colab": {
          "base_uri": "https://localhost:8080/",
          "height": 452
        },
        "id": "NgBoldFOVWzz",
        "outputId": "989d864d-59cf-4d67-cbeb-493439c8cbac"
      },
      "execution_count": 87,
      "outputs": [
        {
          "output_type": "display_data",
          "data": {
            "text/plain": [
              "<Figure size 640x480 with 1 Axes>"
            ],
            "image/png": "[encoded data removed]"
          },
          "metadata": {}
        }
      ]
    },
    {
      "cell_type": "code",
      "source": [
        "plot_metrics(\"classification_accuracy\" , \"Bounding Box MSE\")"
      ],
      "metadata": {
        "colab": {
          "base_uri": "https://localhost:8080/",
          "height": 452
        },
        "id": "4TeCiyrAXCH3",
        "outputId": "0cb9912f-3146-4e5e-a207-c53981b6b721"
      },
      "execution_count": 88,
      "outputs": [
        {
          "output_type": "display_data",
          "data": {
            "text/plain": [
              "<Figure size 640x480 with 1 Axes>"
            ],
            "image/png": "[encoded data removed]"
          },
          "metadata": {}
        }
      ]
    },
    {
      "cell_type": "code",
      "source": [
        "plot_metrics(\"classification_loss\" , \"Classification Loss\")"
      ],
      "metadata": {
        "colab": {
          "base_uri": "https://localhost:8080/",
          "height": 452
        },
        "id": "YCiBdXuwXm4f",
        "outputId": "30404d09-4e82-4d54-9642-84a2c67f1311"
      },
      "execution_count": 89,
      "outputs": [
        {
          "output_type": "display_data",
          "data": {
            "text/plain": [
              "<Figure size 640x480 with 1 Axes>"
            ],
            "image/png": "[encoded data removed]"
          },
          "metadata": {}
        }
      ]
    },
    {
      "cell_type": "code",
      "source": [
        "# Bounding box eval\n",
        "def intersection_over_union(pred_box , true_box):\n",
        "  xmin_pred , ymin_pred , xmax_pred , ymax_pred = np.split(pred_box , 4 , axis = 1)\n",
        "  xmin_true , ymin_true , xmax_true , ymax_true = np.split(true_box , 4 , axis = 1)\n",
        "\n",
        "  smoothing_factor = 1e-10\n",
        "  xmin_overlap = np.maximum(xmin_pred , xmin_true)\n",
        "  xmax_overlap = np.minimum(xmax_pred , xmax_true)\n",
        "  ymin_overlap = np.maximum(ymin_pred , ymin_true)\n",
        "  ymax_overlap = np.minimum(ymax_pred , ymax_true)\n",
        "\n",
        "  pred_box_area = (xmax_pred - xmin_pred) * (ymax_pred - ymin_pred)\n",
        "  true_box_area = (xmax_true - xmin_true) * (ymax_true - ymin_true)\n",
        "\n",
        "  overlap_area = np.maximum(0 , xmax_overlap - xmin_overlap) * np.maximum(0 , ymax_overlap - ymin_overlap)\n",
        "  union_area = pred_box_area + true_box_area - overlap_area\n",
        "\n",
        "  iou = overlap_area / (union_area + smoothing_factor)\n",
        "\n",
        "  return iou"
      ],
      "metadata": {
        "id": "gI8fse5KOh_E"
      },
      "execution_count": 90,
      "outputs": []
    },
    {
      "cell_type": "code",
      "source": [
        "prediction = model.predict(validation_digits , batch_size = 64 , verbose = 0)\n",
        "\n",
        "prediction_labels = np.argmax(prediction[0] , axis = 1)\n",
        "\n",
        "prediction_bboxes = prediction[1]\n",
        "\n",
        "iou = intersection_over_union(prediction_bboxes , validation_bboxes)\n",
        "\n",
        "display_digits_with_boxes(validation_digits ,\n",
        "                          prediction_labels , validation_labels,\n",
        "                          prediction_bboxes , validation_bboxes , iou ,\n",
        "                           \"True and Pred Values\")"
      ],
      "metadata": {
        "colab": {
          "base_uri": "https://localhost:8080/",
          "height": 316
        },
        "id": "USzEZyMZU3I4",
        "outputId": "18a2885d-766e-42e8-e6c5-96fb29da21e5"
      },
      "execution_count": 130,
      "outputs": [
        {
          "output_type": "display_data",
          "data": {
            "text/plain": [
              "<Figure size 2500x800 with 11 Axes>"
            ],
            "image/png": "[encoded data removed]"
          },
          "metadata": {}
        }
      ]
    }
  ]
}