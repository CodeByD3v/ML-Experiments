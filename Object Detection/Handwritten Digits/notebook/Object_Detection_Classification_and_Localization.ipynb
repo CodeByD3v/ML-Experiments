{
  "nbformat": 4,
  "nbformat_minor": 0,
  "metadata": {
    "colab": {
      "provenance": [],
      "authorship_tag": "ABX9TyO4dEwS9nGxvZOqzQhoPGcX"
    },
    "kernelspec": {
      "name": "python3",
      "display_name": "Python 3"
    },
    "language_info": {
      "name": "python"
    }
  },
  "cells": [
    {
      "cell_type": "markdown",
      "source": [
        "# Object Detection with Classification & Localization"
      ],
      "metadata": {
        "id": "sZq3If3yJG8u"
      }
    },
    {
      "cell_type": "markdown",
      "source": [
        "## 1. Importing Libraries"
      ],
      "metadata": {
        "id": "fbE7DzsUJOl9"
      }
    },
    {
      "cell_type": "code",
      "source": [
        "# Libs\n",
        "import numpy as np\n",
        "import matplotlib.pyplot as plt\n",
        "# image processing\n",
        "import PIL.Image , PIL.ImageFont , PIL.ImageDraw"
      ],
      "metadata": {
        "id": "JFv2CJpBJOSl"
      },
      "execution_count": 1,
      "outputs": []
    },
    {
      "cell_type": "code",
      "source": [
        "import os"
      ],
      "metadata": {
        "id": "XG84jI-1DrZv"
      },
      "execution_count": 9,
      "outputs": []
    },
    {
      "cell_type": "code",
      "execution_count": 2,
      "metadata": {
        "id": "jK-M-6KXHrJv"
      },
      "outputs": [],
      "source": [
        "# Tensorflow Utils\n",
        "import tensorflow as tf\n",
        "import tensorflow_datasets as tfds"
      ]
    },
    {
      "cell_type": "markdown",
      "source": [
        "## 2. Visualization Utilities"
      ],
      "metadata": {
        "id": "QbW5gM4_JpMD"
      }
    },
    {
      "cell_type": "code",
      "source": [
        "# Image properties\n",
        "im_widht = 75\n",
        "im_height = 75\n",
        "use_normalized_coordinates = True"
      ],
      "metadata": {
        "id": "K5XAVLlCJotO"
      },
      "execution_count": 3,
      "outputs": []
    },
    {
      "cell_type": "code",
      "source": [
        "# Bounding Boxes\n",
        "def draw_bounding_box_on_image(image , ymin , xmin , ymax , xmax , color = 'red' , thickness = 1 , use_normalized_coordinates = True):\n",
        "  draw = PIL.ImageDraw.Draw(image) # creating draw object\n",
        "  im_width , im_height = image.size # image width & height\n",
        "\n",
        "  if use_normalized_coordinates:\n",
        "    (left , right , top , bottom ) = (xmin * im_width , xmax * im_width , ymin * im_height , ymax * im_height)\n",
        "  else:\n",
        "    (left , right , top , bottom ) = (xmin , xmax , ymin , ymax)\n",
        "\n",
        "  # drawing bounding box lines\n",
        "  draw.line(xy = [(left , top) , (left , bottom) ,\n",
        "                    (right , bottom) , (right , top) , (left , top)],\n",
        "            width = thickness ,  fill = color)\n",
        "\n",
        "\n",
        "def draw_bounding_boxes_on_image(image , boxes , color = [] , thickness = 1 , display_str_list = ()):\n",
        "  boxes_shape = boxes.shape\n",
        "\n",
        "  # if None\n",
        "  if not boxes_shape:\n",
        "    return None\n",
        "  # If incorrect shape\n",
        "  if len(boxes_shape)!= 2 or boxes_shape[-1] != 4:\n",
        "    raise ValueError(\"Input size must be [N , 4]\")\n",
        "  # looping through all objects\n",
        "  for i in range(boxes_shape[0]):\n",
        "    draw_bounding_box_on_image(image ,\n",
        "                               boxes[i , 1] ,\n",
        "                               boxes[i , 0] ,\n",
        "                               boxes[i , 3] ,\n",
        "                               boxes[i , 2] ,\n",
        "                               color[i] ,\n",
        "                               thickness ,\n",
        "                               display_str_list[i]\n",
        "                               )\n",
        "\n",
        "# Drawing bounding on numpy array image\n",
        "def draw_bounding_box_on_image_array(image , boxes , color = [] , thickness = 1 , display_str_list = ()):\n",
        "  image_pil = PIL.Image.fromarray(image)\n",
        "\n",
        "  rgb_image = PIL.Image.new(\"RGBA\" , image_pil.size)\n",
        "  rgb_image.paste(image_pil)\n",
        "\n",
        "  draw_bounding_boxes_on_image(rgb_image , boxes , color = [] , thickness =  1 , display_str_list = ())\n",
        "  return np.array(rgb_image)\n",
        "\n"
      ],
      "metadata": {
        "id": "CLk-sDH-tW7x"
      },
      "execution_count": 4,
      "outputs": []
    },
    {
      "cell_type": "code",
      "source": [
        "def dataset_to_numpy_util(training_dataset , validation_dataset , N):\n",
        "  batch_train_ds = training_dataset.unbatch().batch(N)\n",
        "\n",
        "  # if it\n",
        "  if tf.executing_eagerly():\n",
        "\n",
        "    # Training Dataset\n",
        "    for training_digits , (training_labels , training_bboxes) in training_dataset :\n",
        "      training_digits = training_digits.numpy()\n",
        "      validation_labels = training_labels.numpy()\n",
        "      training_bboxes = training_bboxes.numpy()\n",
        "\n",
        "    # Validation Dataset\n",
        "    for validation_digits , (validation_labels , validation_bboxes) in validation_dataset :\n",
        "      validation_digits = validation_digits.numpy()\n",
        "      validation_labels = validation_labels.numpy()\n",
        "      validation_bboxes = validation_bboxes.numpy()\n",
        "\n",
        "\n",
        "  return (training_digits , training_labels , training_bboxes ,\n",
        "          validation_digits , validation_labels , validation_bboxes)\n",
        ""
      ],
      "metadata": {
        "id": "cv5Xv4yNdoX1"
      },
      "execution_count": 8,
      "outputs": []
    },
    {
      "cell_type": "code",
      "source": [
        "# Generating synthetic digit images from fonts\n",
        "MATPLOTLIB_FONT_DIR = os.path.join(os.path.dirname(plt.__file__), \"mpl-data/fonts/ttf\")\n",
        "\n",
        "# n - number of images to be created\n",
        "def create_digits_from_local_fonts(n):\n",
        "  # font\n",
        "  font_labels = []\n",
        "  img = plt.Image.new(\"LA\" , ( 75, 75 * n ) , color =  (0 , 255))\n",
        "  font1 = PIL.ImageFont.truetype(os.path.join(MATPLOTLIB_FONT_DIR, 'DejaVuSansMono-Oblique.ttf'), 25)\n",
        "  font2 = PIL.ImageFont.truetype(os.path.join(MATPLOTLIB_FONT_DIR, 'STIXGeneral.ttf'), 25)\n",
        "\n",
        "  # Draw images\n",
        "  draw = PIL.ImageDraw.Draw(img)\n",
        "  for i in range(n):\n",
        "      font_labels.append(i % 10)\n",
        "      draw.text((7 + i*75, 0 if i < 10 else -4),\n",
        "            str(i % 10),\n",
        "            fill=(255,255),\n",
        "            font=font1 if i < 10 else font2)\n",
        "\n",
        "  font_digits = np.array(img.getdata(), np.float32)[:,0] / 255.0\n",
        "\n",
        "\n",
        "  font_digits = np.reshape(\n",
        "    np.stack(\n",
        "        np.split(\n",
        "            np.reshape(font_digits, [75, 75*n]),\n",
        "            n, axis=1\n",
        "        ),\n",
        "        axis=0\n",
        "    ),\n",
        "    [n, 75*75]\n",
        "  )\n",
        "\n",
        "\n",
        "  return font_digits , font_labels\n"
      ],
      "metadata": {
        "id": "SmUFBoUeDuQM"
      },
      "execution_count": 11,
      "outputs": []
    },
    {
      "cell_type": "code",
      "source": [
        "# For displaying digits with boundingboxes\n",
        "def display_digits_with_boxes(digits, predictions, labels, pred_bboxes, bboxes, iou, title):\n",
        "    n = 10\n",
        "\n",
        "    indexes = np.random.choice(len(predictions), size=n)\n",
        "    n_digits = digits[indexes]\n",
        "    n_predictions = predictions[indexes]\n",
        "    n_labels = labels[indexes]\n",
        "\n",
        "    n_iou = []\n",
        "    if len(iou) > 0:\n",
        "        n_iou = iou[indexes]\n",
        "\n",
        "    if len(pred_bboxes) > 0:\n",
        "        n_pred_bboxes = pred_bboxes[indexes]\n",
        "\n",
        "    if len(bboxes) > 0:\n",
        "        n_bboxes = bboxes[indexes]\n",
        "\n",
        "    n_digits = n_digits * 255.0\n",
        "    n_digits = n_digits.reshape(n, 75, 75)\n",
        "\n",
        "    fig = plt.figure(figsize=(20, 4))\n",
        "    plt.title(title)\n",
        "    plt.xticks([])\n",
        "    plt.yticks([])\n",
        "\n",
        "    for i in range(10):\n",
        "        ax = fig.add_subplot(1, 10, i + 1)\n",
        "        bboxes_to_plot = []\n",
        "\n",
        "        if (len(pred_bboxes) > i):\n",
        "            boxes_to_plot.append(n_pred_bboxes[i])\n",
        "\n",
        "        if (len(bboxes) > i):\n",
        "            boxes_to_plot.append(n_bboxes[i])\n",
        "\n",
        "        img_to_draw = draw_bounding_boxes_on_image_array(\n",
        "            image=n_digits[i],\n",
        "            boxes=np.asarray(bboxes_to_plot),\n",
        "            color=['red', 'green'],\n",
        "            display_str_list=['True', 'Pred']\n",
        "        )\n",
        "\n",
        "        plt.xlabel(n_predictions[i])\n",
        "        plt.xticks([])\n",
        "        plt.yticks([])\n",
        "\n",
        "        if n_predictions[i] != n_labels[i]:\n",
        "            ax.xaxis.label.set_color('red')\n",
        "\n",
        "        plt.imshow(img_to_draw)\n",
        "\n",
        "        if len(iou) > i:\n",
        "            color = \"black\"\n",
        "            if (n_iou[i][0] < iou_threshold):\n",
        "                color = \"red\"\n",
        "            ax.text(0.2, -0.3, \"iou: %s\" % (n_iou[i][0]), color=color, transform=ax.transAxes)\n"
      ],
      "metadata": {
        "id": "fZlHiWLqQB_2"
      },
      "execution_count": 12,
      "outputs": []
    }
  ]
}