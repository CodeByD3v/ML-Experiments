{
  "nbformat": 4,
  "nbformat_minor": 0,
  "metadata": {
    "colab": {
      "provenance": [],
      "authorship_tag": "ABX9TyMhL2JkO3g7RsCI8kJfRe+Q"
    },
    "kernelspec": {
      "name": "python3",
      "display_name": "Python 3"
    },
    "language_info": {
      "name": "python"
    }
  },
  "cells": [
    {
      "cell_type": "markdown",
      "source": [
        "# Object Detection with Classification & Localization"
      ],
      "metadata": {
        "id": "sZq3If3yJG8u"
      }
    },
    {
      "cell_type": "markdown",
      "source": [
        "## 1. Importing Libraries"
      ],
      "metadata": {
        "id": "fbE7DzsUJOl9"
      }
    },
    {
      "cell_type": "code",
      "source": [
        "# Libs\n",
        "import numpy as np\n",
        "import matplotlib.pyplot as plt\n",
        "# image processing\n",
        "import PIL.Image , PIL.ImageFont , PIL.ImageDraw"
      ],
      "metadata": {
        "id": "JFv2CJpBJOSl"
      },
      "execution_count": 3,
      "outputs": []
    },
    {
      "cell_type": "code",
      "execution_count": 4,
      "metadata": {
        "id": "jK-M-6KXHrJv"
      },
      "outputs": [],
      "source": [
        "# Tensorflow Utils\n",
        "import tensorflow as tf\n",
        "import tensorflow_datasets as tfds"
      ]
    },
    {
      "cell_type": "markdown",
      "source": [
        "## 2. Visualization Utilities"
      ],
      "metadata": {
        "id": "QbW5gM4_JpMD"
      }
    },
    {
      "cell_type": "code",
      "source": [
        "# Image properties\n",
        "im_widht = 75\n",
        "im_height = 75\n",
        "use_normalized_coordinates = True"
      ],
      "metadata": {
        "id": "K5XAVLlCJotO"
      },
      "execution_count": 6,
      "outputs": []
    },
    {
      "cell_type": "code",
      "source": [
        "# Bounding Boxes\n",
        "def draw_bounding_box_on_image(image , ymin , xmin , ymax , xmax , color = 'red' , thickness = 1 , use_normalized_coordinates = True):\n",
        "  draw = PIL.ImageDraw.Draw(image)\n",
        "  im_width , im_height = image.size\n",
        "  if use_normalized_coordinates:\n",
        "    (left , right , top , bottom) = (xmin * im_width , xmax * im_width , ymin * im_height , ymax * im_height)\n",
        "  else:\n",
        "    (left , right , top , bottom) = (xmin , xmax , ymin , ymax)\n",
        "\n",
        "  draw.line([(left , top) , (left , bottom) , (right , bottom) , (right , top) , (left , top)] , width = thickness , fill = color)\n",
        "\n",
        "def draw_bounding_boxes_on_image(image , boxes , color = [] , thickness = 1 , display_str_list = ()):\n",
        "  boxes_shape = boxes.shape\n",
        "  if not boxes_shape:\n",
        "      return\n",
        "\n",
        "  if len(boxes_shape) != 2 or boxes_shape[1] != 4:\n",
        "      raise ValueError('Input must be of size [N,4]')\n",
        "\n",
        "  for i in range(boxes_shape[0]):\n",
        "      draw_bounding_box_on_image(image,\n",
        "                                   boxes[i,1], boxes[i,0],\n",
        "                                   boxes[i,3], boxes[i,2],\n",
        "                                   color[i],\n",
        "                                   thickness,\n",
        "                                   display_str_list[i])\n",
        "\n",
        "def draw_bounding_box_on_image_array(image , boxes , color = [] , thickness = 1 , display_str_list = ()):\n",
        "   image_pil = PIL.Image.fromarray(image)\n",
        "   rgbimg = PIL.Image.new(\"RGBA\", image_pil.size)\n",
        "   rgbimg.paste(image_pil)\n",
        "\n",
        "\n",
        "   draw_bounding_boxes_on_image(image, boxes, color, thickness, display_str_list)\n",
        "   return np.array(rgbimg)"
      ],
      "metadata": {
        "id": "CLk-sDH-tW7x"
      },
      "execution_count": null,
      "outputs": []
    }
  ]
}