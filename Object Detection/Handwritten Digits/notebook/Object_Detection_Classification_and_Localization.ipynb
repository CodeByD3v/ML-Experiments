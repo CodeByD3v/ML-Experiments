{
  "nbformat": 4,
  "nbformat_minor": 0,
  "metadata": {
    "colab": {
      "provenance": [],
      "authorship_tag": "ABX9TyPI2T4NsJKCFUEztbnPCckZ"
    },
    "kernelspec": {
      "name": "python3",
      "display_name": "Python 3"
    },
    "language_info": {
      "name": "python"
    }
  },
  "cells": [
    {
      "cell_type": "markdown",
      "source": [
        "# Object Detection with Classification & Localization"
      ],
      "metadata": {
        "id": "sZq3If3yJG8u"
      }
    },
    {
      "cell_type": "markdown",
      "source": [
        "## 1. Importing Libraries"
      ],
      "metadata": {
        "id": "fbE7DzsUJOl9"
      }
    },
    {
      "cell_type": "code",
      "source": [
        "# Libs\n",
        "import os\n",
        "import numpy as np\n",
        "import matplotlib.pyplot as plt\n",
        "# image processing\n",
        "import PIL.Image , PIL.ImageFont , PIL.ImageDraw"
      ],
      "metadata": {
        "id": "JFv2CJpBJOSl"
      },
      "execution_count": 134,
      "outputs": []
    },
    {
      "cell_type": "code",
      "execution_count": 135,
      "metadata": {
        "id": "jK-M-6KXHrJv"
      },
      "outputs": [],
      "source": [
        "# Tensorflow Utils\n",
        "import tensorflow as tf\n",
        "import tensorflow_datasets as tfds"
      ]
    },
    {
      "cell_type": "markdown",
      "source": [
        "## 2. Visualization Utilities"
      ],
      "metadata": {
        "id": "QbW5gM4_JpMD"
      }
    },
    {
      "cell_type": "code",
      "source": [
        "# Image properties\n",
        "im_width = 75\n",
        "im_height = 75\n",
        "use_normalized_coordinates = True"
      ],
      "metadata": {
        "id": "K5XAVLlCJotO"
      },
      "execution_count": 136,
      "outputs": []
    },
    {
      "cell_type": "code",
      "source": [
        "# Bounding Boxes\n",
        "def draw_bounding_box_on_image(image, ymin, xmin, ymax, xmax,\n",
        "                               color='red', display_str_list=None,\n",
        "                               thickness=1, use_normalized_coordinates=True):\n",
        "    draw = PIL.ImageDraw.Draw(image)\n",
        "    im_width, im_height = image.size\n",
        "\n",
        "    if use_normalized_coordinates:\n",
        "        (left, right, top, bottom) = (xmin * im_width,\n",
        "                                      xmax * im_width,\n",
        "                                      ymin * im_height,\n",
        "                                      ymax * im_height)\n",
        "    else:\n",
        "        (left, right, top, bottom) = (xmin, xmax, ymin, ymax)\n",
        "\n",
        "    # draw box\n",
        "    draw.line([(left, top), (left, bottom),\n",
        "               (right, bottom), (right, top), (left, top)],\n",
        "              width=thickness, fill=color)\n",
        "\n",
        "\n",
        "def draw_bounding_boxes_on_image(image, boxes, color=None, thickness=1, display_str_list=()):\n",
        "    boxes_shape = boxes.shape\n",
        "\n",
        "    if not boxes_shape:\n",
        "        return\n",
        "    if len(boxes_shape) != 2 or boxes_shape[-1] != 4:\n",
        "        raise ValueError('Input must be of size [N,4]')\n",
        "\n",
        "    for i in range(boxes_shape[0]):\n",
        "        # pick color safely\n",
        "        if isinstance(color, (list, tuple)) and len(color) > i:\n",
        "            c = color[i]\n",
        "        elif isinstance(color, str):\n",
        "            c = color\n",
        "        else:\n",
        "            c = \"red\"   # default\n",
        "\n",
        "        # pick display string safely\n",
        "        d = display_str_list[i] if len(display_str_list) > i else None\n",
        "\n",
        "        draw_bounding_box_on_image(\n",
        "            image,\n",
        "            boxes[i, 1], boxes[i, 0], boxes[i, 3], boxes[i, 2],\n",
        "            color=c,\n",
        "            display_str_list=d,\n",
        "            thickness=thickness\n",
        "        )\n",
        "\n",
        "\n",
        "# Drawing bounding on numpy array image\n",
        "def draw_bounding_boxes_on_image_array(image, boxes, color=None, thickness=1, display_str_list=()):\n",
        "    image_pil = PIL.Image.fromarray(image)\n",
        "    rgbimg = PIL.Image.new(\"RGBA\", image_pil.size)\n",
        "    rgbimg.paste(image_pil)\n",
        "\n",
        "    draw_bounding_boxes_on_image(rgbimg, boxes, color, thickness, display_str_list)\n",
        "    return np.array(rgbimg)\n",
        "\n"
      ],
      "metadata": {
        "id": "CLk-sDH-tW7x"
      },
      "execution_count": 137,
      "outputs": []
    },
    {
      "cell_type": "code",
      "source": [
        "# Long Execution Time\n",
        "\n",
        "def dataset_to_numpy_util(training_dataset , validation_dataset):\n",
        "\n",
        "  if tf.executing_eagerly():\n",
        "\n",
        "    # Training Dataset\n",
        "    for training_digits , (training_labels , training_bboxes) in training_dataset :\n",
        "      training_digits = training_digits.numpy()\n",
        "      training_labels = training_labels.numpy()\n",
        "      training_bboxes = training_bboxes.numpy()\n",
        "\n",
        "    # Validation Dataset\n",
        "    for validation_digits , (validation_labels , validation_bboxes) in validation_dataset :\n",
        "      validation_digits = validation_digits.numpy()\n",
        "      validation_labels = validation_labels.numpy()\n",
        "      validation_bboxes = validation_bboxes.numpy()\n",
        "\n",
        "\n",
        "  return (training_digits , training_labels , training_bboxes ,\n",
        "          validation_digits , validation_labels , validation_bboxes)\n",
        "\n",
        "\n",
        "# Shorter Execution Time\n",
        "def dataset_to_numpy_fast(training_dataset, validation_dataset, N):\n",
        "    # Unbatch so each element is a single sample\n",
        "    training_dataset = training_dataset.unbatch()\n",
        "    validation_dataset = validation_dataset.unbatch()\n",
        "\n",
        "    train_data = list(training_dataset.take(N))\n",
        "    val_data   = list(validation_dataset.take(N))\n",
        "\n",
        "    training_digits  = np.stack([x[0].numpy() for x in train_data])\n",
        "    training_labels  = np.stack([x[1][0].numpy() for x in train_data])\n",
        "    training_bboxes  = np.stack([x[1][1].numpy() for x in train_data])\n",
        "\n",
        "    validation_digits = np.stack([x[0].numpy() for x in val_data])\n",
        "    validation_labels = np.stack([x[1][0].numpy() for x in val_data])\n",
        "    validation_bboxes = np.stack([x[1][1].numpy() for x in val_data])\n",
        "\n",
        "    return (training_digits, training_labels, training_bboxes,\n",
        "            validation_digits, validation_labels, validation_bboxes)"
      ],
      "metadata": {
        "id": "cv5Xv4yNdoX1"
      },
      "execution_count": 138,
      "outputs": []
    },
    {
      "cell_type": "code",
      "source": [
        "# Generating synthetic digit images from fonts\n",
        "MATPLOTLIB_FONT_DIR = os.path.join(os.path.dirname(plt.__file__), \"mpl-data/fonts/ttf\")\n",
        "\n",
        "# n - number of images to be created\n",
        "def create_digits_from_local_fonts(n):\n",
        "  # font\n",
        "  font_labels = []\n",
        "  img = PIL.Image.new(\"LA\" , ( 75, 75 * n ) , color =  (0 , 255))\n",
        "  font1 = PIL.ImageFont.truetype(os.path.join(MATPLOTLIB_FONT_DIR, 'DejaVuSansMono-Oblique.ttf'), 25)\n",
        "  font2 = PIL.ImageFont.truetype(os.path.join(MATPLOTLIB_FONT_DIR, 'STIXGeneral.ttf'), 25)\n",
        "\n",
        "  # Draw images\n",
        "  draw = PIL.ImageDraw.Draw(img)\n",
        "  for i in range(n):\n",
        "      font_labels.append(i % 10)\n",
        "      draw.text((7 + i*75, 0 if i < 10 else -4),\n",
        "            str(i % 10),\n",
        "            fill=(255,255),\n",
        "            font=font1 if i < 10 else font2)\n",
        "\n",
        "  font_digits = np.array(img.getdata(), np.float32)[:,0] / 255.0\n",
        "\n",
        "\n",
        "  font_digits = np.reshape(\n",
        "    np.stack(\n",
        "        np.split(\n",
        "            np.reshape(font_digits, [75, 75*n]),\n",
        "            n, axis=1\n",
        "        ),\n",
        "        axis=0\n",
        "    ),\n",
        "    [n, 75*75]\n",
        "  )\n",
        "\n",
        "\n",
        "  return font_digits , font_labels\n"
      ],
      "metadata": {
        "id": "SmUFBoUeDuQM"
      },
      "execution_count": 139,
      "outputs": []
    },
    {
      "cell_type": "code",
      "source": [
        "# For displaying digits with boundingboxes\n",
        "def display_digits_with_boxes(digits, predictions, labels, pred_bboxes, bboxes, iou, title):\n",
        "    # 10 images\n",
        "    n = 10\n",
        "    # randomly choosing\n",
        "    indexes = np.random.choice(len(predictions), size=n)\n",
        "\n",
        "    n_digits = digits[indexes]\n",
        "    n_predictions = predictions[indexes]\n",
        "    n_labels = labels[indexes]\n",
        "\n",
        "    n_iou = []\n",
        "    if len(iou) > 0:\n",
        "        n_iou = iou[indexes]\n",
        "\n",
        "    if len(pred_bboxes) > 0:\n",
        "        n_pred_bboxes = pred_bboxes[indexes]\n",
        "\n",
        "    if len(bboxes) > 0:\n",
        "        n_bboxes = bboxes[indexes]\n",
        "\n",
        "    n_digits = n_digits * 255.0\n",
        "    n_digits = n_digits.reshape(n, 75, 75)\n",
        "\n",
        "    fig = plt.figure(figsize=(20, 4))\n",
        "    plt.title(title)\n",
        "    plt.xticks([])\n",
        "    plt.yticks([])\n",
        "\n",
        "    for i in range(10):\n",
        "        ax = fig.add_subplot(1, 10, i + 1)\n",
        "        bboxes_to_plot = []\n",
        "\n",
        "        if (len(pred_bboxes) > i):\n",
        "            bboxes_to_plot.append(n_pred_bboxes[i])\n",
        "\n",
        "        if (len(bboxes) > i):\n",
        "            bboxes_to_plot.append(n_bboxes[i])\n",
        "\n",
        "        img_to_draw = draw_bounding_boxes_on_image_array(\n",
        "            image=n_digits[i],\n",
        "            boxes=np.asarray(bboxes_to_plot),\n",
        "            color=['red', 'green'],\n",
        "            display_str_list=['True', 'Pred']\n",
        "        )\n",
        "\n",
        "        plt.xlabel(np.argmax(n_predictions[i]))\n",
        "        plt.xticks([])\n",
        "        plt.yticks([])\n",
        "\n",
        "        if np.argmax(n_predictions[i]) != np.argmax(n_labels[i]):\n",
        "          ax.xaxis.label.set_color('red')\n",
        "\n",
        "        plt.imshow(img_to_draw)\n",
        "\n",
        "        if len(iou) > i:\n",
        "            color = \"black\"\n",
        "            if (n_iou[i][0] < iou_threshold):\n",
        "                color = \"red\"\n",
        "            ax.text(0.2, -0.3, \"iou: %s\" % (n_iou[i][0]), color=color, transform=ax.transAxes)"
      ],
      "metadata": {
        "id": "fZlHiWLqQB_2"
      },
      "execution_count": 140,
      "outputs": []
    },
    {
      "cell_type": "markdown",
      "source": [
        "## 3. Loading & Preprocessing Dataset"
      ],
      "metadata": {
        "id": "A1Lqj4xFONkS"
      }
    },
    {
      "cell_type": "code",
      "source": [
        "strategy = tf.distribute.get_strategy()"
      ],
      "metadata": {
        "id": "azAW_tisOVsY"
      },
      "execution_count": 141,
      "outputs": []
    },
    {
      "cell_type": "code",
      "source": [
        "# Batch size\n",
        "\n",
        "BATCH_SIZE = 64*strategy.num_replicas_in_sync"
      ],
      "metadata": {
        "id": "LtxVQBrDOjZR"
      },
      "execution_count": 142,
      "outputs": []
    },
    {
      "cell_type": "code",
      "source": [
        "def read_image_tfds(image, label):\n",
        "\n",
        "    xmin = tf.random.uniform((), 0, 48, dtype=tf.int32)\n",
        "    ymin = tf.random.uniform((), 0, 48, dtype=tf.int32)\n",
        "\n",
        "    image = tf.reshape(image, (28,28,1))\n",
        "\n",
        "\n",
        "    image = tf.image.pad_to_bounding_box(image, ymin, xmin, 75, 75)\n",
        "\n",
        "    image = tf.cast(image, tf.float32) / 255.0\n",
        "\n",
        "    xmax = (xmin + 28) / 75\n",
        "    ymax = (ymin + 28) / 75\n",
        "    xmin = xmin / 75\n",
        "    ymin = ymin / 75\n",
        "\n",
        "    return image, (tf.one_hot(label, 10), [xmin, ymin, xmax, ymax])\n",
        "\n"
      ],
      "metadata": {
        "id": "SEtredSQOwzk"
      },
      "execution_count": 143,
      "outputs": []
    },
    {
      "cell_type": "code",
      "source": [
        "# Training Dataset\n",
        "def get_training_dataset():\n",
        "    with strategy.scope():\n",
        "        dataset = tfds.load(\"mnist\", split=\"train\", as_supervised=True, try_gcs=True)\n",
        "        dataset = dataset.map(read_image_tfds, num_parallel_calls=16)\n",
        "        dataset = dataset.shuffle(5000, reshuffle_each_iteration=True)\n",
        "        dataset = dataset.repeat()\n",
        "        dataset = dataset.batch(BATCH_SIZE, drop_remainder=True)\n",
        "        dataset = dataset.prefetch(-1)\n",
        "        return dataset"
      ],
      "metadata": {
        "id": "nvfKj--sc0zZ"
      },
      "execution_count": 144,
      "outputs": []
    },
    {
      "cell_type": "code",
      "source": [
        "# Validation Dataset\n",
        "def get_validation_dataset():\n",
        "    with strategy.scope():\n",
        "        dataset = tfds.load(\"mnist\", split=\"test\", as_supervised=True, try_gcs=True)\n",
        "        dataset = dataset.map(read_image_tfds, num_parallel_calls=16)\n",
        "        dataset = dataset.shuffle(10000, reshuffle_each_iteration=True)\n",
        "        dataset = dataset.repeat()\n",
        "        dataset = dataset.batch(BATCH_SIZE, drop_remainder=True)\n",
        "        dataset = dataset.prefetch(-1)\n",
        "        return dataset\n"
      ],
      "metadata": {
        "id": "OfE7uMtUfA42"
      },
      "execution_count": 145,
      "outputs": []
    },
    {
      "cell_type": "code",
      "source": [
        "# datasets\n",
        "with strategy.scope():\n",
        "    training_dataset = get_training_dataset()\n",
        "    validation_dataset = get_validation_dataset()"
      ],
      "metadata": {
        "id": "cUn8ptZyffkF"
      },
      "execution_count": 146,
      "outputs": []
    },
    {
      "cell_type": "code",
      "source": [
        "(training_digits , training_labels , training_bboxes ,\n",
        " validation_digits , validation_labels , validation_bboxes) = dataset_to_numpy_fast(training_dataset , validation_dataset , 10)"
      ],
      "metadata": {
        "id": "fKLroMpRiAB3"
      },
      "execution_count": 147,
      "outputs": []
    },
    {
      "cell_type": "markdown",
      "source": [
        "### Visualize Data"
      ],
      "metadata": {
        "id": "PFhGTsALkwya"
      }
    },
    {
      "cell_type": "code",
      "source": [
        "display_digits_with_boxes(training_digits , training_labels , training_labels, np.array([]),\n",
        "                          training_bboxes , np.array([]) , \"Training Data\")"
      ],
      "metadata": {
        "colab": {
          "base_uri": "https://localhost:8080/",
          "height": 352
        },
        "id": "zhL_QkJVktgs",
        "outputId": "705f25bc-41b2-4545-c906-6294c521af42"
      },
      "execution_count": 148,
      "outputs": [
        {
          "output_type": "display_data",
          "data": {
            "text/plain": [
              "<Figure size 2000x400 with 11 Axes>"
            ],
            "image/png": "[encoded data removed]"
          },
          "metadata": {}
        }
      ]
    },
    {
      "cell_type": "code",
      "source": [
        "print(training_digits.shape , training_labels.shape , training_bboxes.shape )"
      ],
      "metadata": {
        "colab": {
          "base_uri": "https://localhost:8080/"
        },
        "id": "MqC3t94ZNuJ0",
        "outputId": "cde5da73-eb26-40b7-a4d6-9da6e6e170c3"
      },
      "execution_count": 150,
      "outputs": [
        {
          "output_type": "stream",
          "name": "stdout",
          "text": [
            "(10, 75, 75, 1) (10, 10) (10, 4)\n"
          ]
        }
      ]
    },
    {
      "cell_type": "code",
      "source": [
        "print(validation_digits.shape , validation_labels.shape , validation_bboxes.shape )"
      ],
      "metadata": {
        "colab": {
          "base_uri": "https://localhost:8080/"
        },
        "id": "4WN42TcadH57",
        "outputId": "d8198c5f-54ed-4714-b252-7b705af12e13"
      },
      "execution_count": 153,
      "outputs": [
        {
          "output_type": "stream",
          "name": "stdout",
          "text": [
            "(10, 75, 75, 1) (10, 10) (10, 4)\n"
          ]
        }
      ]
    },
    {
      "cell_type": "code",
      "source": [
        "display_digits_with_boxes(validation_digits , validation_labels\n",
        "                          , validation_labels,\n",
        "                          np.array([]) , validation_bboxes , np.array([]) , \"Validation Data\")"
      ],
      "metadata": {
        "colab": {
          "base_uri": "https://localhost:8080/",
          "height": 352
        },
        "id": "i-8FKFbRG6tB",
        "outputId": "327abb3d-5cf3-4c4d-ce18-dea4842c4dfe"
      },
      "execution_count": 151,
      "outputs": [
        {
          "output_type": "display_data",
          "data": {
            "text/plain": [
              "<Figure size 2000x400 with 11 Axes>"
            ],
            "image/png": "[encoded data removed]"
          },
          "metadata": {}
        }
      ]
    }
  ]
}